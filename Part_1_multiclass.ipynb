{
  "nbformat": 4,
  "nbformat_minor": 0,
  "metadata": {
    "colab": {
      "provenance": [],
      "include_colab_link": true
    },
    "kernelspec": {
      "name": "python3",
      "display_name": "Python 3"
    },
    "accelerator": "GPU"
  },
  "cells": [
    {
      "cell_type": "markdown",
      "metadata": {
        "id": "view-in-github",
        "colab_type": "text"
      },
      "source": [
        "<a href=\"https://colab.research.google.com/github/eecoubrough/Keras_Assignment/blob/main/Part_1_multiclass.ipynb\" target=\"_parent\"><img src=\"https://colab.research.google.com/assets/colab-badge.svg\" alt=\"Open In Colab\"/></a>"
      ]
    },
    {
      "cell_type": "markdown",
      "metadata": {
        "id": "JKbgFz4AhYvK"
      },
      "source": [
        "# Deep Learning Medical Image Analysis Example\n",
        "A simple convolutional neural network model trained using a simple pathology image dataset.\n",
        "\n",
        "To use GPU acceleration make sure to change your runtime type in Google Colab to GPU."
      ]
    },
    {
      "cell_type": "markdown",
      "metadata": {
        "id": "LICWjsiH5Ysh"
      },
      "source": [
        "## Python Imports\n",
        "This section will load the necessary python packages to the instance."
      ]
    },
    {
      "cell_type": "code",
      "metadata": {
        "id": "4r14DjPX5XAT"
      },
      "source": [
        "# Built-in Imports\n",
        "import random"
      ],
      "execution_count": null,
      "outputs": []
    },
    {
      "cell_type": "code",
      "metadata": {
        "id": "_9akxJOL576W"
      },
      "source": [
        "# Library Imports\n",
        "import numpy as np\n",
        "import pandas as pd\n",
        "import matplotlib.pyplot as plt\n",
        "from sklearn.metrics import classification_report, confusion_matrix, ConfusionMatrixDisplay"
      ],
      "execution_count": null,
      "outputs": []
    },
    {
      "cell_type": "code",
      "metadata": {
        "id": "PPushucynmye"
      },
      "source": [
        "# Keras Imports\n",
        "from tensorflow.keras import layers\n",
        "from tensorflow.keras.models import Model\n",
        "from tensorflow.keras.optimizers import SGD\n",
        "from tensorflow.keras.utils import get_file, to_categorical\n",
        "from tensorflow.keras.preprocessing.image import ImageDataGenerator"
      ],
      "execution_count": null,
      "outputs": []
    },
    {
      "cell_type": "markdown",
      "metadata": {
        "id": "UfG7LUYZz6I2"
      },
      "source": [
        "## Dataset Downloader\n",
        "This section will download the selected [MedMNIST](https://medmnist.github.io/) dataset as a NumPy array object to your Google Colab instance.\n",
        "\n",
        "To change the dataset that will download just change the variable DATA_NAME to desired dataset name.\n",
        "\n",
        "All storage on a Google Colab instance is deleted when the instance ends so the dataset will need to be redownloaded each time an instance is created (Don't worry this usually takes about 20 seconds)."
      ]
    },
    {
      "cell_type": "code",
      "metadata": {
        "id": "WFsupyTxnHgN"
      },
      "source": [
        "DATA_NAME = \"BloodMNIST\""
      ],
      "execution_count": null,
      "outputs": []
    },
    {
      "cell_type": "code",
      "metadata": {
        "colab": {
          "base_uri": "https://localhost:8080/"
        },
        "id": "vrpiQg5VkbsL",
        "outputId": "30bce9fe-5c18-4b61-c34c-3bf523ed87a7"
      },
      "source": [
        "!wget https://raw.githubusercontent.com/MedMNIST/MedMNIST/main/medmnist/info.py\n",
        "from info import INFO\n",
        "data = INFO[DATA_NAME.lower()]"
      ],
      "execution_count": null,
      "outputs": [
        {
          "output_type": "stream",
          "name": "stdout",
          "text": [
            "--2024-03-27 11:12:12--  https://raw.githubusercontent.com/MedMNIST/MedMNIST/main/medmnist/info.py\n",
            "Resolving raw.githubusercontent.com (raw.githubusercontent.com)... 185.199.110.133, 185.199.111.133, 185.199.108.133, ...\n",
            "Connecting to raw.githubusercontent.com (raw.githubusercontent.com)|185.199.110.133|:443... connected.\n",
            "HTTP request sent, awaiting response... 200 OK\n",
            "Length: 27766 (27K) [text/plain]\n",
            "Saving to: ‘info.py.2’\n",
            "\n",
            "\rinfo.py.2             0%[                    ]       0  --.-KB/s               \rinfo.py.2           100%[===================>]  27.12K  --.-KB/s    in 0.002s  \n",
            "\n",
            "2024-03-27 11:12:12 (14.9 MB/s) - ‘info.py.2’ saved [27766/27766]\n",
            "\n"
          ]
        }
      ]
    },
    {
      "cell_type": "code",
      "metadata": {
        "id": "nbCWsdDP0ECH",
        "colab": {
          "base_uri": "https://localhost:8080/"
        },
        "outputId": "e1e23aa1-4c9c-4f62-a2eb-1525c6673e45"
      },
      "source": [
        "# Downloads the dataset file hosted on Zenodo.\n",
        "file_path = get_file(fname=\"dataset.npz\",\n",
        "                     origin=data[\"url\"],\n",
        "                     md5_hash=data[\"MD5\"])"
      ],
      "execution_count": null,
      "outputs": [
        {
          "output_type": "stream",
          "name": "stdout",
          "text": [
            "A local file was found, but it seems to be incomplete or outdated because the md5 file hash does not match the original value of 7053d0359d879ad8a5505303e11de1dc so we will re-download the data.\n",
            "Downloading data from https://zenodo.org/records/10519652/files/bloodmnist.npz?download=1\n",
            "35461855/35461855 [==============================] - 53s 1us/step\n"
          ]
        }
      ]
    },
    {
      "cell_type": "code",
      "metadata": {
        "id": "GFPDZJZJ6o_T"
      },
      "source": [
        "# Loads the downloaded NumPy object.\n",
        "dataset = np.load(file_path)\n",
        "\n",
        "# Gets the training images and labels from the NumPy object.\n",
        "train_x = dataset[\"train_images\"]\n",
        "train_y = dataset[\"train_labels\"]\n",
        "\n",
        "# Gets the validation images and labels from the NumPy object.\n",
        "val_x = dataset[\"val_images\"]\n",
        "val_y = dataset[\"val_labels\"]\n",
        "\n",
        "# Gets the testing images and labels from the NumPy object.\n",
        "test_x = dataset[\"test_images\"]\n",
        "test_y = dataset[\"test_labels\"]"
      ],
      "execution_count": null,
      "outputs": []
    },
    {
      "cell_type": "markdown",
      "metadata": {
        "id": "TRN-KCObfI18"
      },
      "source": [
        "## Data Exploration\n",
        "In this section we have a look at our data, their distributions to see if it is ready to be used within our machine learning algorithm."
      ]
    },
    {
      "cell_type": "code",
      "metadata": {
        "colab": {
          "base_uri": "https://localhost:8080/"
        },
        "id": "gMAxCIw3-JOW",
        "outputId": "0edcf8a3-4ae9-4f70-f92a-684b3d692662"
      },
      "source": [
        "# Declares a list of labels.\n",
        "labels = list(data[\"label\"].values()) + [\"total\"]\n",
        "\n",
        "# Gets the counts for each label in each of our datasets.\n",
        "_, train_counts = np.unique(train_y, return_counts=True)\n",
        "_, val_counts = np.unique(val_y, return_counts=True)\n",
        "_, test_counts = np.unique(test_y, return_counts=True)\n",
        "\n",
        "# Prints the counts for each label from each dataset.\n",
        "print(pd.DataFrame(list(zip(np.append(train_counts, [sum(train_counts)]),\n",
        "                            np.append(val_counts, [sum(val_counts)]),\n",
        "                            np.append(test_counts, [sum(test_counts)]))),\n",
        "                   index=labels, columns=[\"Train\", \"Val\", \"Test\"]))"
      ],
      "execution_count": null,
      "outputs": [
        {
          "output_type": "stream",
          "name": "stdout",
          "text": [
            "                                                    Train   Val  Test\n",
            "basophil                                              852   122   244\n",
            "eosinophil                                           2181   312   624\n",
            "erythroblast                                         1085   155   311\n",
            "immature granulocytes(myelocytes, metamyelocyte...   2026   290   579\n",
            "lymphocyte                                            849   122   243\n",
            "monocyte                                              993   143   284\n",
            "neutrophil                                           2330   333   666\n",
            "platelet                                             1643   235   470\n",
            "total                                               11959  1712  3421\n"
          ]
        }
      ]
    },
    {
      "cell_type": "code",
      "metadata": {
        "colab": {
          "base_uri": "https://localhost:8080/",
          "height": 466
        },
        "id": "AQ4Qba5sdt_Q",
        "outputId": "100f5d68-af2a-4c49-c987-fee46c4da00c"
      },
      "source": [
        "# Displays a random image from training dataset.\n",
        "index = random.randint(0, len(train_x))\n",
        "print(f\"{index}: {labels[train_y[index][0]]}\")\n",
        "plt.imshow(train_x[random.randint(0, len(train_x))])"
      ],
      "execution_count": null,
      "outputs": [
        {
          "output_type": "stream",
          "name": "stdout",
          "text": [
            "2412: neutrophil\n"
          ]
        },
        {
          "output_type": "execute_result",
          "data": {
            "text/plain": [
              "<matplotlib.image.AxesImage at 0x7a5fac9d3790>"
            ]
          },
          "metadata": {},
          "execution_count": 28
        },
        {
          "output_type": "display_data",
          "data": {
            "text/plain": [
              "<Figure size 640x480 with 1 Axes>"
            ],
            "image/png": "[encoded data removed]"
          },
          "metadata": {}
        }
      ]
    },
    {
      "cell_type": "markdown",
      "metadata": {
        "id": "61PPEn8Dhp_v"
      },
      "source": [
        "## Data Processing\n",
        "In this section we will create a data loader for algorithm that will dynamiclly load and augment the data when needed."
      ]
    },
    {
      "cell_type": "code",
      "metadata": {
        "id": "eKrtg2heh4tF"
      },
      "source": [
        "# Defines the data generator that will be used to augment the images as they are loaded.\n",
        "data_generator = ImageDataGenerator(featurewise_center=True,\n",
        "                                    featurewise_std_normalization=True,\n",
        "                                    horizontal_flip=True,\n",
        "                                    vertical_flip=True)"
      ],
      "execution_count": null,
      "outputs": []
    },
    {
      "cell_type": "code",
      "metadata": {
        "id": "d5TzJV-O3nD7"
      },
      "source": [
        "data_generator.fit(np.append(train_x, val_x, 0))"
      ],
      "execution_count": null,
      "outputs": []
    },
    {
      "cell_type": "markdown",
      "metadata": {
        "id": "ptmuEdE1p9MU"
      },
      "source": [
        "## Model Definition\n",
        "In this section we will define the neural network arcitecture."
      ]
    },
    {
      "cell_type": "code",
      "metadata": {
        "colab": {
          "base_uri": "https://localhost:8080/"
        },
        "id": "Ud-jcR_ZqE0V",
        "outputId": "dd09daf5-7352-4e31-ebd6-2cafa63bcab1"
      },
      "source": [
        "# Define the input layer of the model with the size of an image.\n",
        "input = layers.Input(shape=train_x[0].shape)\n",
        "\n",
        "# Defines the first convolutional layer with max pooling.\n",
        "conv_1 = layers.Conv2D(filters=32, kernel_size=3, activation=\"relu\")(input)\n",
        "pool_1 = layers.MaxPool2D(pool_size=(2, 2))(conv_1)\n",
        "\n",
        "# Defines the second convolutional layer with max pooling.\n",
        "conv_2 = layers.Conv2D(filters=32, kernel_size=3, activation=\"relu\")(pool_1)\n",
        "pool_2 = layers.MaxPool2D(pool_size=(2, 2))(conv_2)\n",
        "\n",
        "# Flattens the outputs of the convolutoonal layers into a one dimensional array.\n",
        "flatten = layers.Flatten()(pool_2)\n",
        "\n",
        "# Defines the output layer of the model a number of output nodes equal to the number of classes.\n",
        "output = layers.Dense(units=8, activation=\"softmax\")(flatten)\n",
        "\n",
        "# Initilises the defined model and prints summary of the model.\n",
        "model = Model(inputs=input, outputs=output, name=\"Model\")\n",
        "model.summary()"
      ],
      "execution_count": null,
      "outputs": [
        {
          "output_type": "stream",
          "name": "stdout",
          "text": [
            "Model: \"Model\"\n",
            "_________________________________________________________________\n",
            " Layer (type)                Output Shape              Param #   \n",
            "=================================================================\n",
            " input_3 (InputLayer)        [(None, 28, 28, 3)]       0         \n",
            "                                                                 \n",
            " conv2d_3 (Conv2D)           (None, 26, 26, 32)        896       \n",
            "                                                                 \n",
            " max_pooling2d_2 (MaxPoolin  (None, 13, 13, 32)        0         \n",
            " g2D)                                                            \n",
            "                                                                 \n",
            " conv2d_4 (Conv2D)           (None, 11, 11, 32)        9248      \n",
            "                                                                 \n",
            " max_pooling2d_3 (MaxPoolin  (None, 5, 5, 32)          0         \n",
            " g2D)                                                            \n",
            "                                                                 \n",
            " flatten_1 (Flatten)         (None, 800)               0         \n",
            "                                                                 \n",
            " dense_1 (Dense)             (None, 8)                 6408      \n",
            "                                                                 \n",
            "=================================================================\n",
            "Total params: 16552 (64.66 KB)\n",
            "Trainable params: 16552 (64.66 KB)\n",
            "Non-trainable params: 0 (0.00 Byte)\n",
            "_________________________________________________________________\n"
          ]
        }
      ]
    },
    {
      "cell_type": "markdown",
      "metadata": {
        "id": "SdMcAtCztO0b"
      },
      "source": [
        "## Model Training\n",
        "This is where we define the training options and then train the model.\n"
      ]
    },
    {
      "cell_type": "code",
      "metadata": {
        "id": "bEypwRiMuPCn"
      },
      "source": [
        "# Defines the parameters used during training.\n",
        "BATCH_SIZE = 64\n",
        "NUM_EPOCHS = 10\n",
        "LEARNING_RATE = 0.001"
      ],
      "execution_count": null,
      "outputs": []
    },
    {
      "cell_type": "code",
      "metadata": {
        "id": "Qb9WcL7ZtPZE"
      },
      "source": [
        "# Defines the optimiser used to adjust the model weights and compiles the model.\n",
        "optimiser = SGD(learning_rate=LEARNING_RATE)\n",
        "model.compile(optimizer=optimiser, loss=\"categorical_crossentropy\", metrics=[\"accuracy\"])"
      ],
      "execution_count": null,
      "outputs": []
    },
    {
      "cell_type": "code",
      "metadata": {
        "colab": {
          "base_uri": "https://localhost:8080/"
        },
        "id": "SOy4ArHyvIhR",
        "outputId": "bc7c5b81-7df3-4e41-a1ec-c9801512a399"
      },
      "source": [
        "# We use the data generator to pass the training and validation data to the model to train it.\n",
        "history = model.fit(data_generator.flow(train_x, to_categorical(train_y), batch_size=BATCH_SIZE),\n",
        "                    steps_per_epoch=len(train_x) / BATCH_SIZE,\n",
        "                    validation_data=data_generator.flow(val_x, to_categorical(val_y), batch_size=BATCH_SIZE),\n",
        "                    validation_steps=len(val_x) / BATCH_SIZE,\n",
        "                    epochs=NUM_EPOCHS)"
      ],
      "execution_count": null,
      "outputs": [
        {
          "output_type": "stream",
          "name": "stdout",
          "text": [
            "Epoch 1/10\n",
            "186/186 [==============================] - 5s 12ms/step - loss: 1.9661 - accuracy: 0.2448 - val_loss: 1.8212 - val_accuracy: 0.3826\n",
            "Epoch 2/10\n",
            "186/186 [==============================] - 2s 8ms/step - loss: 1.7124 - accuracy: 0.4754 - val_loss: 1.6007 - val_accuracy: 0.5111\n",
            "Epoch 3/10\n",
            "186/186 [==============================] - 2s 8ms/step - loss: 1.5057 - accuracy: 0.5271 - val_loss: 1.4155 - val_accuracy: 0.5362\n",
            "Epoch 4/10\n",
            "186/186 [==============================] - 2s 9ms/step - loss: 1.3472 - accuracy: 0.5619 - val_loss: 1.2905 - val_accuracy: 0.5648\n",
            "Epoch 5/10\n",
            "186/186 [==============================] - 2s 8ms/step - loss: 1.2312 - accuracy: 0.5932 - val_loss: 1.1863 - val_accuracy: 0.5958\n",
            "Epoch 6/10\n",
            "186/186 [==============================] - 2s 13ms/step - loss: 1.1435 - accuracy: 0.6229 - val_loss: 1.0997 - val_accuracy: 0.6414\n",
            "Epoch 7/10\n",
            "186/186 [==============================] - 2s 9ms/step - loss: 1.0688 - accuracy: 0.6475 - val_loss: 1.0370 - val_accuracy: 0.6507\n",
            "Epoch 8/10\n",
            "186/186 [==============================] - 2s 8ms/step - loss: 1.0184 - accuracy: 0.6614 - val_loss: 0.9765 - val_accuracy: 0.6764\n",
            "Epoch 9/10\n",
            "186/186 [==============================] - 1s 8ms/step - loss: 0.9651 - accuracy: 0.6792 - val_loss: 0.9331 - val_accuracy: 0.6811\n",
            "Epoch 10/10\n",
            "186/186 [==============================] - 2s 8ms/step - loss: 0.9144 - accuracy: 0.7002 - val_loss: 0.8731 - val_accuracy: 0.7120\n"
          ]
        }
      ]
    },
    {
      "cell_type": "markdown",
      "metadata": {
        "id": "0bw_0oKy4UdI"
      },
      "source": [
        "## Plot Learning Curves\n",
        "This is where we visualise the training of the model."
      ]
    },
    {
      "cell_type": "code",
      "metadata": {
        "colab": {
          "base_uri": "https://localhost:8080/",
          "height": 472
        },
        "id": "8DOxQYV0oDmJ",
        "outputId": "bb8a4f6b-f913-4e5d-9cfd-8e3060b568b0"
      },
      "source": [
        "# Plots the training and validation accuracy over the number of epochs.\n",
        "plt.plot(history.history['accuracy'])\n",
        "plt.plot(history.history['val_accuracy'])\n",
        "plt.title('Model Accuracy')\n",
        "plt.ylabel('Accuracy')\n",
        "plt.xlabel('Epoch')\n",
        "plt.legend(['Train', 'Validation'], loc='lower right')\n",
        "plt.show()"
      ],
      "execution_count": null,
      "outputs": [
        {
          "output_type": "display_data",
          "data": {
            "text/plain": [
              "<Figure size 640x480 with 1 Axes>"
            ],
            "image/png": "[encoded data removed]"
          },
          "metadata": {}
        }
      ]
    },
    {
      "cell_type": "code",
      "metadata": {
        "id": "ZSQWVOnY4cdA",
        "colab": {
          "base_uri": "https://localhost:8080/",
          "height": 472
        },
        "outputId": "b9e7a71f-114d-406e-fed5-bbe6e2471f16"
      },
      "source": [
        "# Plots the training and validation loss over the number of epochs.\n",
        "plt.plot(history.history['loss'])\n",
        "plt.plot(history.history['val_loss'])\n",
        "plt.title('Model Loss')\n",
        "plt.ylabel('Loss')\n",
        "plt.xlabel('Epoch')\n",
        "plt.legend(['Train', 'Validation'], loc='upper right')\n",
        "plt.show()"
      ],
      "execution_count": null,
      "outputs": [
        {
          "output_type": "display_data",
          "data": {
            "text/plain": [
              "<Figure size 640x480 with 1 Axes>"
            ],
            "image/png": "[encoded data removed]"
          },
          "metadata": {}
        }
      ]
    }
  ]
}