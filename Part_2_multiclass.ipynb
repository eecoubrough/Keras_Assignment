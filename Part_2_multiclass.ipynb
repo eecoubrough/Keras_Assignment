{
  "nbformat": 4,
  "nbformat_minor": 0,
  "metadata": {
    "colab": {
      "provenance": [],
      "include_colab_link": true
    },
    "kernelspec": {
      "name": "python3",
      "display_name": "Python 3"
    },
    "accelerator": "GPU"
  },
  "cells": [
    {
      "cell_type": "markdown",
      "metadata": {
        "id": "view-in-github",
        "colab_type": "text"
      },
      "source": [
        "<a href=\"https://colab.research.google.com/github/eecoubrough/Keras_Assignment/blob/main/Part_2_multiclass.ipynb\" target=\"_parent\"><img src=\"https://colab.research.google.com/assets/colab-badge.svg\" alt=\"Open In Colab\"/></a>"
      ]
    },
    {
      "cell_type": "markdown",
      "metadata": {
        "id": "JKbgFz4AhYvK"
      },
      "source": [
        "# Deep Learning Medical Image Analysis Example\n",
        "A simple convolutional neural network model trained using a simple pathology image dataset.\n",
        "\n",
        "To use GPU acceleration make sure to change your runtime type in Google Colab to GPU."
      ]
    },
    {
      "cell_type": "markdown",
      "metadata": {
        "id": "LICWjsiH5Ysh"
      },
      "source": [
        "## Python Imports\n",
        "This section will load the necessary python packages to the instance."
      ]
    },
    {
      "cell_type": "code",
      "metadata": {
        "id": "4r14DjPX5XAT"
      },
      "source": [
        "# Built-in Imports\n",
        "import random"
      ],
      "execution_count": 2,
      "outputs": []
    },
    {
      "cell_type": "code",
      "metadata": {
        "id": "_9akxJOL576W"
      },
      "source": [
        "# Library Imports\n",
        "import numpy as np\n",
        "import pandas as pd\n",
        "import matplotlib.pyplot as plt\n",
        "from sklearn.metrics import classification_report, confusion_matrix, ConfusionMatrixDisplay"
      ],
      "execution_count": 3,
      "outputs": []
    },
    {
      "cell_type": "code",
      "metadata": {
        "id": "PPushucynmye"
      },
      "source": [
        "# Keras Imports\n",
        "from tensorflow.keras import layers\n",
        "from tensorflow.keras.models import Model\n",
        "from tensorflow.keras.optimizers import SGD\n",
        "from tensorflow.keras.utils import get_file, to_categorical\n",
        "from tensorflow.keras.preprocessing.image import ImageDataGenerator"
      ],
      "execution_count": 4,
      "outputs": []
    },
    {
      "cell_type": "markdown",
      "metadata": {
        "id": "UfG7LUYZz6I2"
      },
      "source": [
        "## Dataset Downloader\n",
        "This section will download the selected [MedMNIST](https://medmnist.github.io/) dataset as a NumPy array object to your Google Colab instance.\n",
        "\n",
        "To change the dataset that will download just change the variable DATA_NAME to desired dataset name.\n",
        "\n",
        "All storage on a Google Colab instance is deleted when the instance ends so the dataset will need to be redownloaded each time an instance is created (Don't worry this usually takes about 20 seconds)."
      ]
    },
    {
      "cell_type": "code",
      "metadata": {
        "id": "WFsupyTxnHgN"
      },
      "source": [
        "DATA_NAME = \"BloodMNIST\""
      ],
      "execution_count": 5,
      "outputs": []
    },
    {
      "cell_type": "code",
      "metadata": {
        "colab": {
          "base_uri": "https://localhost:8080/"
        },
        "id": "vrpiQg5VkbsL",
        "outputId": "6dc17703-243a-4044-ae6c-e0e786e32b4c"
      },
      "source": [
        "!wget https://raw.githubusercontent.com/MedMNIST/MedMNIST/main/medmnist/info.py\n",
        "from info import INFO\n",
        "data = INFO[DATA_NAME.lower()]"
      ],
      "execution_count": 6,
      "outputs": [
        {
          "output_type": "stream",
          "name": "stdout",
          "text": [
            "--2024-03-28 12:13:14--  https://raw.githubusercontent.com/MedMNIST/MedMNIST/main/medmnist/info.py\n",
            "Resolving raw.githubusercontent.com (raw.githubusercontent.com)... 185.199.108.133, 185.199.109.133, 185.199.110.133, ...\n",
            "Connecting to raw.githubusercontent.com (raw.githubusercontent.com)|185.199.108.133|:443... connected.\n",
            "HTTP request sent, awaiting response... 200 OK\n",
            "Length: 27766 (27K) [text/plain]\n",
            "Saving to: ‘info.py’\n",
            "\n",
            "info.py             100%[===================>]  27.12K  --.-KB/s    in 0s      \n",
            "\n",
            "2024-03-28 12:13:15 (94.4 MB/s) - ‘info.py’ saved [27766/27766]\n",
            "\n"
          ]
        }
      ]
    },
    {
      "cell_type": "code",
      "metadata": {
        "id": "nbCWsdDP0ECH",
        "outputId": "06b27fed-33b0-4220-8809-3bf88087c6cb",
        "colab": {
          "base_uri": "https://localhost:8080/"
        }
      },
      "source": [
        "# Downloads the dataset file hosted on Zenodo.\n",
        "file_path = get_file(fname=\"dataset.npz\",\n",
        "                     origin=data[\"url\"],\n",
        "                     md5_hash=data[\"MD5\"])"
      ],
      "execution_count": 7,
      "outputs": [
        {
          "output_type": "stream",
          "name": "stdout",
          "text": [
            "Downloading data from https://zenodo.org/records/10519652/files/bloodmnist.npz?download=1\n",
            "35461855/35461855 [==============================] - 55s 2us/step\n"
          ]
        }
      ]
    },
    {
      "cell_type": "code",
      "metadata": {
        "id": "GFPDZJZJ6o_T"
      },
      "source": [
        "# Loads the downloaded NumPy object.\n",
        "dataset = np.load(file_path)\n",
        "\n",
        "# Gets the training images and labels from the NumPy object.\n",
        "train_x = dataset[\"train_images\"]\n",
        "train_y = dataset[\"train_labels\"]\n",
        "\n",
        "# Gets the validation images and labels from the NumPy object.\n",
        "val_x = dataset[\"val_images\"]\n",
        "val_y = dataset[\"val_labels\"]\n",
        "\n",
        "# Gets the testing images and labels from the NumPy object.\n",
        "test_x = dataset[\"test_images\"]\n",
        "test_y = dataset[\"test_labels\"]"
      ],
      "execution_count": 8,
      "outputs": []
    },
    {
      "cell_type": "markdown",
      "metadata": {
        "id": "TRN-KCObfI18"
      },
      "source": [
        "## Data Exploration\n",
        "In this section we have a look at our data, their distributions to see if it is ready to be used within our machine learning algorithm."
      ]
    },
    {
      "cell_type": "code",
      "metadata": {
        "colab": {
          "base_uri": "https://localhost:8080/"
        },
        "id": "gMAxCIw3-JOW",
        "outputId": "966ff3de-91c8-4e24-cd8e-358f244a8cec"
      },
      "source": [
        "# Declares a list of labels.\n",
        "labels = list(data[\"label\"].values()) + [\"total\"]\n",
        "\n",
        "# Gets the counts for each label in each of our datasets.\n",
        "_, train_counts = np.unique(train_y, return_counts=True)\n",
        "_, val_counts = np.unique(val_y, return_counts=True)\n",
        "_, test_counts = np.unique(test_y, return_counts=True)\n",
        "\n",
        "# Prints the counts for each label from each dataset.\n",
        "print(pd.DataFrame(list(zip(np.append(train_counts, [sum(train_counts)]),\n",
        "                            np.append(val_counts, [sum(val_counts)]),\n",
        "                            np.append(test_counts, [sum(test_counts)]))),\n",
        "                   index=labels, columns=[\"Train\", \"Val\", \"Test\"]))"
      ],
      "execution_count": 9,
      "outputs": [
        {
          "output_type": "stream",
          "name": "stdout",
          "text": [
            "                                                    Train   Val  Test\n",
            "basophil                                              852   122   244\n",
            "eosinophil                                           2181   312   624\n",
            "erythroblast                                         1085   155   311\n",
            "immature granulocytes(myelocytes, metamyelocyte...   2026   290   579\n",
            "lymphocyte                                            849   122   243\n",
            "monocyte                                              993   143   284\n",
            "neutrophil                                           2330   333   666\n",
            "platelet                                             1643   235   470\n",
            "total                                               11959  1712  3421\n"
          ]
        }
      ]
    },
    {
      "cell_type": "code",
      "metadata": {
        "colab": {
          "base_uri": "https://localhost:8080/",
          "height": 466
        },
        "id": "AQ4Qba5sdt_Q",
        "outputId": "8d2461ca-a26f-45c4-ad80-71076d164f4f"
      },
      "source": [
        "# Displays a random image from training dataset.\n",
        "index = random.randint(0, len(train_x))\n",
        "print(f\"{index}: {labels[train_y[index][0]]}\")\n",
        "plt.imshow(train_x[random.randint(0, len(train_x))])"
      ],
      "execution_count": 10,
      "outputs": [
        {
          "output_type": "stream",
          "name": "stdout",
          "text": [
            "6092: immature granulocytes(myelocytes, metamyelocytes and promyelocytes)\n"
          ]
        },
        {
          "output_type": "execute_result",
          "data": {
            "text/plain": [
              "<matplotlib.image.AxesImage at 0x79cafff2ee30>"
            ]
          },
          "metadata": {},
          "execution_count": 10
        },
        {
          "output_type": "display_data",
          "data": {
            "text/plain": [
              "<Figure size 640x480 with 1 Axes>"
            ],
            "image/png": "[encoded data removed]"
          },
          "metadata": {}
        }
      ]
    },
    {
      "cell_type": "markdown",
      "metadata": {
        "id": "61PPEn8Dhp_v"
      },
      "source": [
        "## Data Processing\n",
        "In this section we will create a data loader for algorithm that will dynamiclly load and augment the data when needed."
      ]
    },
    {
      "cell_type": "code",
      "metadata": {
        "id": "eKrtg2heh4tF"
      },
      "source": [
        "# Defines the data generator that will be used to augment the images as they are loaded.\n",
        "data_generator = ImageDataGenerator(featurewise_center=True,\n",
        "                                    featurewise_std_normalization=True,\n",
        "                                    horizontal_flip=True,\n",
        "                                    vertical_flip=True)"
      ],
      "execution_count": 11,
      "outputs": []
    },
    {
      "cell_type": "code",
      "metadata": {
        "id": "d5TzJV-O3nD7"
      },
      "source": [
        "data_generator.fit(np.append(train_x, val_x, 0))"
      ],
      "execution_count": 12,
      "outputs": []
    },
    {
      "cell_type": "markdown",
      "metadata": {
        "id": "ptmuEdE1p9MU"
      },
      "source": [
        "## Model Definition\n",
        "In this section we will define the neural network arcitecture."
      ]
    },
    {
      "cell_type": "code",
      "source": [
        "# Define the input layer of the model with the size of an image.\n",
        "input = layers.Input(shape=train_x[0].shape)\n",
        "\n",
        "# Flattens the outputs of the input layer into a 1D array.\n",
        "flatten = layers.Flatten()(input)\n",
        "\n",
        "# Dense layers\n",
        "dense_1 = layers.Dense(units=7, activation=\"relu\")(flatten)\n",
        "dense_2 = layers.Dense(units=5, activation=\"relu\")(dense_1)\n",
        "\n",
        "# Defines the output layer of the model a number of output nodes equal to the number of classes.\n",
        "output = layers.Dense(units=8, activation=\"softmax\")(dense_2)\n",
        "\n",
        "# Initilises the defined model and prints summary of the model.\n",
        "model = Model(inputs=input, outputs=output, name=\"Model\")\n",
        "model.summary()"
      ],
      "metadata": {
        "id": "unC0n5Pw8Vx0",
        "outputId": "96db6a35-2096-44b5-a15b-8a46622062a3",
        "colab": {
          "base_uri": "https://localhost:8080/"
        }
      },
      "execution_count": 13,
      "outputs": [
        {
          "output_type": "stream",
          "name": "stdout",
          "text": [
            "Model: \"Model\"\n",
            "_________________________________________________________________\n",
            " Layer (type)                Output Shape              Param #   \n",
            "=================================================================\n",
            " input_1 (InputLayer)        [(None, 28, 28, 3)]       0         \n",
            "                                                                 \n",
            " flatten (Flatten)           (None, 2352)              0         \n",
            "                                                                 \n",
            " dense (Dense)               (None, 7)                 16471     \n",
            "                                                                 \n",
            " dense_1 (Dense)             (None, 5)                 40        \n",
            "                                                                 \n",
            " dense_2 (Dense)             (None, 8)                 48        \n",
            "                                                                 \n",
            "=================================================================\n",
            "Total params: 16559 (64.68 KB)\n",
            "Trainable params: 16559 (64.68 KB)\n",
            "Non-trainable params: 0 (0.00 Byte)\n",
            "_________________________________________________________________\n"
          ]
        }
      ]
    },
    {
      "cell_type": "code",
      "metadata": {
        "colab": {
          "base_uri": "https://localhost:8080/"
        },
        "id": "Ud-jcR_ZqE0V",
        "outputId": "a1dcb266-3db9-4609-a3c4-ee69355fbdb3"
      },
      "source": [
        "# Define the input layer of the model with the size of an image.\n",
        "input = layers.Input(shape=train_x[0].shape)\n",
        "\n",
        "# Defines the first convolutional layer with max pooling.\n",
        "conv_1 = layers.Conv2D(filters=32, kernel_size=3, activation=\"relu\")(input)\n",
        "pool_1 = layers.MaxPool2D(pool_size=(2, 2))(conv_1)\n",
        "\n",
        "# Defines the second convolutional layer with max pooling.\n",
        "conv_2 = layers.Conv2D(filters=32, kernel_size=3, activation=\"relu\")(pool_1)\n",
        "pool_2 = layers.MaxPool2D(pool_size=(2, 2))(conv_2)\n",
        "\n",
        "# Flattens the outputs of the convolutoonal layers into a one dimensional array.\n",
        "flatten = layers.Flatten()(pool_2)\n",
        "\n",
        "# Defines the output layer of the model a number of output nodes equal to the number of classes.\n",
        "output = layers.Dense(units=8, activation=\"softmax\")(flatten)\n",
        "\n",
        "# Initilises the defined model and prints summary of the model.\n",
        "model = Model(inputs=input, outputs=output, name=\"Model\")\n",
        "model.summary()"
      ],
      "execution_count": 14,
      "outputs": [
        {
          "output_type": "stream",
          "name": "stdout",
          "text": [
            "Model: \"Model\"\n",
            "_________________________________________________________________\n",
            " Layer (type)                Output Shape              Param #   \n",
            "=================================================================\n",
            " input_2 (InputLayer)        [(None, 28, 28, 3)]       0         \n",
            "                                                                 \n",
            " conv2d (Conv2D)             (None, 26, 26, 32)        896       \n",
            "                                                                 \n",
            " max_pooling2d (MaxPooling2  (None, 13, 13, 32)        0         \n",
            " D)                                                              \n",
            "                                                                 \n",
            " conv2d_1 (Conv2D)           (None, 11, 11, 32)        9248      \n",
            "                                                                 \n",
            " max_pooling2d_1 (MaxPoolin  (None, 5, 5, 32)          0         \n",
            " g2D)                                                            \n",
            "                                                                 \n",
            " flatten_1 (Flatten)         (None, 800)               0         \n",
            "                                                                 \n",
            " dense_3 (Dense)             (None, 8)                 6408      \n",
            "                                                                 \n",
            "=================================================================\n",
            "Total params: 16552 (64.66 KB)\n",
            "Trainable params: 16552 (64.66 KB)\n",
            "Non-trainable params: 0 (0.00 Byte)\n",
            "_________________________________________________________________\n"
          ]
        }
      ]
    },
    {
      "cell_type": "markdown",
      "metadata": {
        "id": "SdMcAtCztO0b"
      },
      "source": [
        "## Model Training\n",
        "This is where we define the training options and then train the model.\n"
      ]
    },
    {
      "cell_type": "code",
      "metadata": {
        "id": "bEypwRiMuPCn"
      },
      "source": [
        "# Defines the parameters used during training.\n",
        "BATCH_SIZE = 64\n",
        "NUM_EPOCHS = 10\n",
        "LEARNING_RATE = 0.001"
      ],
      "execution_count": 15,
      "outputs": []
    },
    {
      "cell_type": "code",
      "metadata": {
        "id": "Qb9WcL7ZtPZE"
      },
      "source": [
        "# Defines the optimiser used to adjust the model weights and compiles the model.\n",
        "optimiser = SGD(learning_rate=LEARNING_RATE)\n",
        "model.compile(optimizer=optimiser, loss=\"categorical_crossentropy\", metrics=[\"accuracy\"])"
      ],
      "execution_count": 16,
      "outputs": []
    },
    {
      "cell_type": "code",
      "metadata": {
        "colab": {
          "base_uri": "https://localhost:8080/"
        },
        "id": "SOy4ArHyvIhR",
        "outputId": "eb02e8da-2ea7-482d-ca93-85ed6651750f"
      },
      "source": [
        "# We use the data generator to pass the training and validation data to the model to train it.\n",
        "history = model.fit(data_generator.flow(train_x, to_categorical(train_y), batch_size=BATCH_SIZE),\n",
        "                    steps_per_epoch=len(train_x) / BATCH_SIZE,\n",
        "                    validation_data=data_generator.flow(val_x, to_categorical(val_y), batch_size=BATCH_SIZE),\n",
        "                    validation_steps=len(val_x) / BATCH_SIZE,\n",
        "                    epochs=NUM_EPOCHS)"
      ],
      "execution_count": 17,
      "outputs": [
        {
          "output_type": "stream",
          "name": "stdout",
          "text": [
            "Epoch 1/10\n",
            "186/186 [==============================] - 5s 11ms/step - loss: 1.9307 - accuracy: 0.2342 - val_loss: 1.8185 - val_accuracy: 0.3207\n",
            "Epoch 2/10\n",
            "186/186 [==============================] - 2s 8ms/step - loss: 1.7157 - accuracy: 0.3888 - val_loss: 1.6222 - val_accuracy: 0.4241\n",
            "Epoch 3/10\n",
            "186/186 [==============================] - 2s 8ms/step - loss: 1.5322 - accuracy: 0.4556 - val_loss: 1.4523 - val_accuracy: 0.4930\n",
            "Epoch 4/10\n",
            "186/186 [==============================] - 2s 13ms/step - loss: 1.3895 - accuracy: 0.5210 - val_loss: 1.3253 - val_accuracy: 0.5514\n",
            "Epoch 5/10\n",
            "186/186 [==============================] - 2s 9ms/step - loss: 1.2750 - accuracy: 0.5699 - val_loss: 1.2148 - val_accuracy: 0.5876\n",
            "Epoch 6/10\n",
            "186/186 [==============================] - 2s 8ms/step - loss: 1.1863 - accuracy: 0.6056 - val_loss: 1.1360 - val_accuracy: 0.6162\n",
            "Epoch 7/10\n",
            "186/186 [==============================] - 2s 9ms/step - loss: 1.1128 - accuracy: 0.6358 - val_loss: 1.0697 - val_accuracy: 0.6495\n",
            "Epoch 8/10\n",
            "186/186 [==============================] - 2s 9ms/step - loss: 1.0518 - accuracy: 0.6545 - val_loss: 1.0006 - val_accuracy: 0.6700\n",
            "Epoch 9/10\n",
            "186/186 [==============================] - 2s 11ms/step - loss: 0.9930 - accuracy: 0.6736 - val_loss: 0.9538 - val_accuracy: 0.6752\n",
            "Epoch 10/10\n",
            "186/186 [==============================] - 2s 10ms/step - loss: 0.9419 - accuracy: 0.6882 - val_loss: 0.8963 - val_accuracy: 0.6968\n"
          ]
        }
      ]
    },
    {
      "cell_type": "markdown",
      "metadata": {
        "id": "0bw_0oKy4UdI"
      },
      "source": [
        "## Plot Learning Curves\n",
        "This is where we visualise the training of the model."
      ]
    },
    {
      "cell_type": "code",
      "metadata": {
        "colab": {
          "base_uri": "https://localhost:8080/",
          "height": 472
        },
        "id": "8DOxQYV0oDmJ",
        "outputId": "9e7ff21a-53e5-4187-e22d-2e81296cd2c6"
      },
      "source": [
        "# Plots the training and validation accuracy over the number of epochs.\n",
        "plt.plot(history.history['accuracy'])\n",
        "plt.plot(history.history['val_accuracy'])\n",
        "plt.title('Model Accuracy')\n",
        "plt.ylabel('Accuracy')\n",
        "plt.xlabel('Epoch')\n",
        "plt.legend(['Train', 'Validation'], loc='lower right')\n",
        "plt.show()"
      ],
      "execution_count": 18,
      "outputs": [
        {
          "output_type": "display_data",
          "data": {
            "text/plain": [
              "<Figure size 640x480 with 1 Axes>"
            ],
            "image/png": "[encoded data removed]"
          },
          "metadata": {}
        }
      ]
    },
    {
      "cell_type": "code",
      "metadata": {
        "id": "ZSQWVOnY4cdA",
        "colab": {
          "base_uri": "https://localhost:8080/",
          "height": 472
        },
        "outputId": "ec0c6e00-40ab-4443-aad9-4a84577281c5"
      },
      "source": [
        "# Plots the training and validation loss over the number of epochs.\n",
        "plt.plot(history.history['loss'])\n",
        "plt.plot(history.history['val_loss'])\n",
        "plt.title('Model Loss')\n",
        "plt.ylabel('Loss')\n",
        "plt.xlabel('Epoch')\n",
        "plt.legend(['Train', 'Validation'], loc='upper right')\n",
        "plt.show()"
      ],
      "execution_count": 19,
      "outputs": [
        {
          "output_type": "display_data",
          "data": {
            "text/plain": [
              "<Figure size 640x480 with 1 Axes>"
            ],
            "image/png": "[encoded data removed]"
          },
          "metadata": {}
        }
      ]
    },
    {
      "cell_type": "code",
      "source": [
        "test_loss, test_acc = model.evaluate(train_x, to_categorical(train_y))"
      ],
      "metadata": {
        "id": "bYnyc6Eb-gns",
        "outputId": "fe2bee83-c67e-4f64-ac68-05ed9fd1b623",
        "colab": {
          "base_uri": "https://localhost:8080/"
        }
      },
      "execution_count": 21,
      "outputs": [
        {
          "output_type": "stream",
          "name": "stdout",
          "text": [
            "374/374 [==============================] - 1s 3ms/step - loss: 1012.8339 - accuracy: 0.1374\n"
          ]
        }
      ]
    },
    {
      "cell_type": "code",
      "source": [
        "test_acc"
      ],
      "metadata": {
        "id": "usgTWzJIC0OY",
        "outputId": "c71c4e94-7fb5-40e3-e5ce-0b3d9fc5fecb",
        "colab": {
          "base_uri": "https://localhost:8080/"
        }
      },
      "execution_count": 22,
      "outputs": [
        {
          "output_type": "execute_result",
          "data": {
            "text/plain": [
              "0.13738606870174408"
            ]
          },
          "metadata": {},
          "execution_count": 22
        }
      ]
    },
    {
      "cell_type": "code",
      "source": [
        "test_loss"
      ],
      "metadata": {
        "id": "lXos7W3KDNVj",
        "outputId": "e54e1db1-6715-4d2f-eaa9-47bdada5c0e1",
        "colab": {
          "base_uri": "https://localhost:8080/"
        }
      },
      "execution_count": 23,
      "outputs": [
        {
          "output_type": "execute_result",
          "data": {
            "text/plain": [
              "1012.8339233398438"
            ]
          },
          "metadata": {},
          "execution_count": 23
        }
      ]
    }
  ]
}