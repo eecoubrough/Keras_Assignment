{
  "nbformat": 4,
  "nbformat_minor": 0,
  "metadata": {
    "colab": {
      "provenance": [],
      "include_colab_link": true
    },
    "kernelspec": {
      "name": "python3",
      "display_name": "Python 3"
    },
    "accelerator": "GPU"
  },
  "cells": [
    {
      "cell_type": "markdown",
      "metadata": {
        "id": "view-in-github",
        "colab_type": "text"
      },
      "source": [
        "<a href=\"https://colab.research.google.com/github/eecoubrough/Keras_Assignment/blob/main/Part_2_binary.ipynb\" target=\"_parent\"><img src=\"https://colab.research.google.com/assets/colab-badge.svg\" alt=\"Open In Colab\"/></a>"
      ]
    },
    {
      "cell_type": "markdown",
      "metadata": {
        "id": "JKbgFz4AhYvK"
      },
      "source": [
        "# Deep Learning Medical Image Analysis Example\n",
        "A simple convolutional neural network model trained using a simple pathology image dataset.\n",
        "\n",
        "To use GPU acceleration make sure to change your runtime type in Google Colab to GPU."
      ]
    },
    {
      "cell_type": "markdown",
      "metadata": {
        "id": "LICWjsiH5Ysh"
      },
      "source": [
        "## Python Imports\n",
        "This section will load the necessary python packages to the instance."
      ]
    },
    {
      "cell_type": "code",
      "metadata": {
        "id": "4r14DjPX5XAT"
      },
      "source": [
        "# Built-in Imports\n",
        "import random"
      ],
      "execution_count": 1,
      "outputs": []
    },
    {
      "cell_type": "code",
      "metadata": {
        "id": "_9akxJOL576W"
      },
      "source": [
        "# Library Imports\n",
        "import numpy as np\n",
        "import pandas as pd\n",
        "import matplotlib.pyplot as plt\n",
        "from sklearn.metrics import classification_report, confusion_matrix, ConfusionMatrixDisplay"
      ],
      "execution_count": 2,
      "outputs": []
    },
    {
      "cell_type": "code",
      "metadata": {
        "id": "PPushucynmye"
      },
      "source": [
        "# Keras Imports\n",
        "from tensorflow.keras import layers\n",
        "from tensorflow.keras.models import Model\n",
        "from tensorflow.keras.optimizers import SGD\n",
        "from tensorflow.keras.utils import get_file, to_categorical\n",
        "from tensorflow.keras.preprocessing.image import ImageDataGenerator"
      ],
      "execution_count": 3,
      "outputs": []
    },
    {
      "cell_type": "markdown",
      "metadata": {
        "id": "UfG7LUYZz6I2"
      },
      "source": [
        "## Dataset Downloader\n",
        "This section will download the selected [MedMNIST](https://medmnist.github.io/) dataset as a NumPy array object to your Google Colab instance.\n",
        "\n",
        "To change the dataset that will download just change the variable DATA_NAME to desired dataset name.\n",
        "\n",
        "All storage on a Google Colab instance is deleted when the instance ends so the dataset will need to be redownloaded each time an instance is created (Don't worry this usually takes about 20 seconds)."
      ]
    },
    {
      "cell_type": "code",
      "metadata": {
        "id": "WFsupyTxnHgN"
      },
      "source": [
        "DATA_NAME = \"PneumoniaMNIST\""
      ],
      "execution_count": 4,
      "outputs": []
    },
    {
      "cell_type": "code",
      "metadata": {
        "colab": {
          "base_uri": "https://localhost:8080/"
        },
        "id": "vrpiQg5VkbsL",
        "outputId": "99fe2b33-0cfa-4ee9-e5f2-ab9c7d04544c"
      },
      "source": [
        "!wget https://raw.githubusercontent.com/MedMNIST/MedMNIST/main/medmnist/info.py\n",
        "from info import INFO\n",
        "data = INFO[DATA_NAME.lower()]"
      ],
      "execution_count": 5,
      "outputs": [
        {
          "output_type": "stream",
          "name": "stdout",
          "text": [
            "--2024-03-27 13:46:27--  https://raw.githubusercontent.com/MedMNIST/MedMNIST/main/medmnist/info.py\n",
            "Resolving raw.githubusercontent.com (raw.githubusercontent.com)... 185.199.108.133, 185.199.109.133, 185.199.110.133, ...\n",
            "Connecting to raw.githubusercontent.com (raw.githubusercontent.com)|185.199.108.133|:443... connected.\n",
            "HTTP request sent, awaiting response... 200 OK\n",
            "Length: 27766 (27K) [text/plain]\n",
            "Saving to: ‘info.py’\n",
            "\n",
            "\rinfo.py               0%[                    ]       0  --.-KB/s               \rinfo.py             100%[===================>]  27.12K  --.-KB/s    in 0.006s  \n",
            "\n",
            "2024-03-27 13:46:27 (4.35 MB/s) - ‘info.py’ saved [27766/27766]\n",
            "\n"
          ]
        }
      ]
    },
    {
      "cell_type": "code",
      "metadata": {
        "id": "nbCWsdDP0ECH",
        "colab": {
          "base_uri": "https://localhost:8080/"
        },
        "outputId": "f22c963b-0bd0-45dd-f05f-c1b38b1ede22"
      },
      "source": [
        "# Downloads the dataset file hosted on Zenodo.\n",
        "file_path = get_file(fname=\"dataset.npz\",\n",
        "                     origin=data[\"url\"],\n",
        "                     md5_hash=data[\"MD5\"])"
      ],
      "execution_count": 6,
      "outputs": [
        {
          "output_type": "stream",
          "name": "stdout",
          "text": [
            "Downloading data from https://zenodo.org/records/10519652/files/pneumoniamnist.npz?download=1\n",
            "4170669/4170669 [==============================] - 5s 1us/step\n"
          ]
        }
      ]
    },
    {
      "cell_type": "code",
      "source": [
        "# Loads the downloaded NumPy object.\n",
        "dataset = np.load(file_path)\n",
        "\n",
        "# Gets the training images and labels from the NumPy object.\n",
        "train_x = dataset[\"train_images\"]\n",
        "train_x = np.expand_dims(train_x, axis=-1)\n",
        "train_y = dataset[\"train_labels\"]\n",
        "\n",
        "# Gets the validation images and labels from the NumPy object.\n",
        "val_x = dataset[\"val_images\"]\n",
        "val_x = np.expand_dims(val_x, axis=-1)\n",
        "val_y = dataset[\"val_labels\"]\n",
        "\n",
        "# Gets the testing images and labels from the NumPy object.\n",
        "test_x = dataset[\"test_images\"]\n",
        "test_x = np.expand_dims(test_x, axis=-1)\n",
        "test_y = dataset[\"test_labels\"]\n"
      ],
      "metadata": {
        "id": "rg3BshBkvuNy"
      },
      "execution_count": 7,
      "outputs": []
    },
    {
      "cell_type": "markdown",
      "metadata": {
        "id": "TRN-KCObfI18"
      },
      "source": [
        "## Data Exploration\n",
        "In this section we have a look at our data, their distributions to see if it is ready to be used within our machine learning algorithm."
      ]
    },
    {
      "cell_type": "code",
      "metadata": {
        "colab": {
          "base_uri": "https://localhost:8080/"
        },
        "id": "gMAxCIw3-JOW",
        "outputId": "c79d71aa-b14f-4890-aec8-3e6a4ea6aaa2"
      },
      "source": [
        "# Declares a list of labels.\n",
        "labels = list(data[\"label\"].values()) + [\"total\"]\n",
        "\n",
        "# Gets the counts for each label in each of our datasets.\n",
        "_, train_counts = np.unique(train_y, return_counts=True)\n",
        "_, val_counts = np.unique(val_y, return_counts=True)\n",
        "_, test_counts = np.unique(test_y, return_counts=True)\n",
        "\n",
        "# Prints the counts for each label from each dataset.\n",
        "print(pd.DataFrame(list(zip(np.append(train_counts, [sum(train_counts)]),\n",
        "                            np.append(val_counts, [sum(val_counts)]),\n",
        "                            np.append(test_counts, [sum(test_counts)]))),\n",
        "                   index=labels, columns=[\"Train\", \"Val\", \"Test\"]))"
      ],
      "execution_count": 8,
      "outputs": [
        {
          "output_type": "stream",
          "name": "stdout",
          "text": [
            "           Train  Val  Test\n",
            "normal      1214  135   234\n",
            "pneumonia   3494  389   390\n",
            "total       4708  524   624\n"
          ]
        }
      ]
    },
    {
      "cell_type": "code",
      "metadata": {
        "colab": {
          "base_uri": "https://localhost:8080/",
          "height": 466
        },
        "id": "AQ4Qba5sdt_Q",
        "outputId": "6b2779f3-9e7f-475c-e28b-7a292277219f"
      },
      "source": [
        "# Displays a random image from training dataset.\n",
        "index = random.randint(0, len(train_x))\n",
        "print(f\"{index}: {labels[train_y[index][0]]}\")\n",
        "plt.imshow(train_x[random.randint(0, len(train_x))])"
      ],
      "execution_count": 9,
      "outputs": [
        {
          "output_type": "stream",
          "name": "stdout",
          "text": [
            "4139: normal\n"
          ]
        },
        {
          "output_type": "execute_result",
          "data": {
            "text/plain": [
              "<matplotlib.image.AxesImage at 0x7f5dcdbca590>"
            ]
          },
          "metadata": {},
          "execution_count": 9
        },
        {
          "output_type": "display_data",
          "data": {
            "text/plain": [
              "<Figure size 640x480 with 1 Axes>"
            ],
            "image/png": "[encoded data removed]"
          },
          "metadata": {}
        }
      ]
    },
    {
      "cell_type": "markdown",
      "metadata": {
        "id": "61PPEn8Dhp_v"
      },
      "source": [
        "## Data Processing\n",
        "In this section we will create a data loader for algorithm that will dynamiclly load and augment the data when needed."
      ]
    },
    {
      "cell_type": "code",
      "source": [
        "# Print the shape of one of the images in your dataset\n",
        "print(train_x[0].shape)"
      ],
      "metadata": {
        "colab": {
          "base_uri": "https://localhost:8080/"
        },
        "id": "aR5PtCQPxNp-",
        "outputId": "a87354ba-8e5c-454f-95b9-8b91e0b6fed5"
      },
      "execution_count": 10,
      "outputs": [
        {
          "output_type": "stream",
          "name": "stdout",
          "text": [
            "(28, 28, 1)\n"
          ]
        }
      ]
    },
    {
      "cell_type": "code",
      "metadata": {
        "id": "eKrtg2heh4tF"
      },
      "source": [
        "# Defines the data generator that will be used to augment the images as they are loaded.\n",
        "data_generator = ImageDataGenerator(featurewise_center=True,\n",
        "                                    featurewise_std_normalization=True,\n",
        "                                    horizontal_flip=True,\n",
        "                                    vertical_flip=True)"
      ],
      "execution_count": 11,
      "outputs": []
    },
    {
      "cell_type": "code",
      "metadata": {
        "id": "d5TzJV-O3nD7"
      },
      "source": [
        "data_generator.fit(np.append(train_x, val_x, 0))"
      ],
      "execution_count": 12,
      "outputs": []
    },
    {
      "cell_type": "markdown",
      "metadata": {
        "id": "ptmuEdE1p9MU"
      },
      "source": [
        "## Model Definition\n",
        "In this section we will define the neural network arcitecture."
      ]
    },
    {
      "cell_type": "code",
      "metadata": {
        "colab": {
          "base_uri": "https://localhost:8080/"
        },
        "id": "Ud-jcR_ZqE0V",
        "outputId": "952e224c-166a-4092-d674-17f5bd6123ff"
      },
      "source": [
        "# Define the input layer of the model with the size of an image.\n",
        "input = layers.Input(shape=train_x[0].shape)\n",
        "\n",
        "# Flattens the outputs of the input layer into a 1D array.\n",
        "flatten = layers.Flatten()(input)\n",
        "\n",
        "# Dense layers\n",
        "dense_1 = layers.Dense(units=14, activation=\"relu\")(flatten)\n",
        "dense_2 = layers.Dense(units=10, activation=\"relu\")(dense_1)\n",
        "\n",
        "# Defines the output layer of the model a number of output nodes equal to the number of classes.\n",
        "output = layers.Dense(units=2, activation=\"softmax\")(dense_2)\n",
        "\n",
        "# Initilises the defined model and prints summary of the model.\n",
        "model = Model(inputs=input, outputs=output, name=\"Model\")\n",
        "model.summary()"
      ],
      "execution_count": 34,
      "outputs": [
        {
          "output_type": "stream",
          "name": "stdout",
          "text": [
            "Model: \"Model\"\n",
            "_________________________________________________________________\n",
            " Layer (type)                Output Shape              Param #   \n",
            "=================================================================\n",
            " input_17 (InputLayer)       [(None, 28, 28, 1)]       0         \n",
            "                                                                 \n",
            " flatten_16 (Flatten)        (None, 784)               0         \n",
            "                                                                 \n",
            " dense_48 (Dense)            (None, 14)                10990     \n",
            "                                                                 \n",
            " dense_49 (Dense)            (None, 10)                150       \n",
            "                                                                 \n",
            " dense_50 (Dense)            (None, 2)                 22        \n",
            "                                                                 \n",
            "=================================================================\n",
            "Total params: 11162 (43.60 KB)\n",
            "Trainable params: 11162 (43.60 KB)\n",
            "Non-trainable params: 0 (0.00 Byte)\n",
            "_________________________________________________________________\n"
          ]
        }
      ]
    },
    {
      "cell_type": "markdown",
      "metadata": {
        "id": "SdMcAtCztO0b"
      },
      "source": [
        "## Model Training\n",
        "This is where we define the training options and then train the model.\n"
      ]
    },
    {
      "cell_type": "code",
      "metadata": {
        "id": "bEypwRiMuPCn"
      },
      "source": [
        "# Defines the parameters used during training.\n",
        "BATCH_SIZE = 64\n",
        "NUM_EPOCHS = 10\n",
        "LEARNING_RATE = 0.001"
      ],
      "execution_count": 14,
      "outputs": []
    },
    {
      "cell_type": "code",
      "metadata": {
        "id": "Qb9WcL7ZtPZE"
      },
      "source": [
        "# Defines the optimiser used to adjust the model weights and compiles the model.\n",
        "optimiser = SGD(learning_rate=LEARNING_RATE)\n",
        "model.compile(optimizer=optimiser, loss=\"binary_crossentropy\", metrics=[\"accuracy\"])"
      ],
      "execution_count": 15,
      "outputs": []
    },
    {
      "cell_type": "code",
      "metadata": {
        "colab": {
          "base_uri": "https://localhost:8080/"
        },
        "id": "SOy4ArHyvIhR",
        "outputId": "6af4bddc-7002-489b-e221-eba87b1efbb9"
      },
      "source": [
        "# We use the data generator to pass the training and validation data to the model to train it.\n",
        "history = model.fit(data_generator.flow(train_x, to_categorical(train_y), batch_size=BATCH_SIZE),\n",
        "                    steps_per_epoch=len(train_x) / BATCH_SIZE,\n",
        "                    validation_data=data_generator.flow(val_x, to_categorical(val_y), batch_size=BATCH_SIZE),\n",
        "                    validation_steps=len(val_x) / BATCH_SIZE,\n",
        "                    epochs=NUM_EPOCHS)"
      ],
      "execution_count": 16,
      "outputs": [
        {
          "output_type": "stream",
          "name": "stdout",
          "text": [
            "Epoch 1/10\n",
            "73/73 [==============================] - 4s 28ms/step - loss: 0.7281 - accuracy: 0.6274 - val_loss: 0.6221 - val_accuracy: 0.7195\n",
            "Epoch 2/10\n",
            "73/73 [==============================] - 1s 19ms/step - loss: 0.5768 - accuracy: 0.7432 - val_loss: 0.5494 - val_accuracy: 0.7443\n",
            "Epoch 3/10\n",
            "73/73 [==============================] - 2s 20ms/step - loss: 0.5139 - accuracy: 0.7725 - val_loss: 0.4960 - val_accuracy: 0.7901\n",
            "Epoch 4/10\n",
            "73/73 [==============================] - 1s 10ms/step - loss: 0.4705 - accuracy: 0.8023 - val_loss: 0.4684 - val_accuracy: 0.7958\n",
            "Epoch 5/10\n",
            "73/73 [==============================] - 1s 7ms/step - loss: 0.4360 - accuracy: 0.8280 - val_loss: 0.4305 - val_accuracy: 0.8359\n",
            "Epoch 6/10\n",
            "73/73 [==============================] - 1s 8ms/step - loss: 0.4132 - accuracy: 0.8381 - val_loss: 0.4019 - val_accuracy: 0.8664\n",
            "Epoch 7/10\n",
            "73/73 [==============================] - 1s 7ms/step - loss: 0.3914 - accuracy: 0.8573 - val_loss: 0.3858 - val_accuracy: 0.8760\n",
            "Epoch 8/10\n",
            "73/73 [==============================] - 1s 7ms/step - loss: 0.3694 - accuracy: 0.8717 - val_loss: 0.3724 - val_accuracy: 0.8664\n",
            "Epoch 9/10\n",
            "73/73 [==============================] - 1s 7ms/step - loss: 0.3546 - accuracy: 0.8715 - val_loss: 0.3596 - val_accuracy: 0.8817\n",
            "Epoch 10/10\n",
            "73/73 [==============================] - 1s 8ms/step - loss: 0.3465 - accuracy: 0.8768 - val_loss: 0.3485 - val_accuracy: 0.8931\n"
          ]
        }
      ]
    },
    {
      "cell_type": "markdown",
      "metadata": {
        "id": "0bw_0oKy4UdI"
      },
      "source": [
        "## Plot Learning Curves\n",
        "This is where we visualise the training of the model."
      ]
    },
    {
      "cell_type": "code",
      "metadata": {
        "colab": {
          "base_uri": "https://localhost:8080/",
          "height": 472
        },
        "id": "8DOxQYV0oDmJ",
        "outputId": "b14dea5a-5e94-4fba-b267-41195147ff18"
      },
      "source": [
        "# Plots the training and validation accuracy over the number of epochs.\n",
        "plt.plot(history.history['accuracy'])\n",
        "plt.plot(history.history['val_accuracy'])\n",
        "plt.title('Model Accuracy')\n",
        "plt.ylabel('Accuracy')\n",
        "plt.xlabel('Epoch')\n",
        "plt.legend(['Train', 'Validation'], loc='lower right')\n",
        "plt.show()"
      ],
      "execution_count": 17,
      "outputs": [
        {
          "output_type": "display_data",
          "data": {
            "text/plain": [
              "<Figure size 640x480 with 1 Axes>"
            ],
            "image/png": "[encoded data removed]"
          },
          "metadata": {}
        }
      ]
    },
    {
      "cell_type": "code",
      "metadata": {
        "id": "ZSQWVOnY4cdA",
        "colab": {
          "base_uri": "https://localhost:8080/",
          "height": 472
        },
        "outputId": "e4f45787-ad82-4e84-d0b5-b393824e36ea"
      },
      "source": [
        "# Plots the training and validation loss over the number of epochs.\n",
        "plt.plot(history.history['loss'])\n",
        "plt.plot(history.history['val_loss'])\n",
        "plt.title('Model Loss')\n",
        "plt.ylabel('Loss')\n",
        "plt.xlabel('Epoch')\n",
        "plt.legend(['Train', 'Validation'], loc='upper right')\n",
        "plt.show()"
      ],
      "execution_count": 18,
      "outputs": [
        {
          "output_type": "display_data",
          "data": {
            "text/plain": [
              "<Figure size 640x480 with 1 Axes>"
            ],
            "image/png": "[encoded data removed]"
          },
          "metadata": {}
        }
      ]
    }
  ]
}