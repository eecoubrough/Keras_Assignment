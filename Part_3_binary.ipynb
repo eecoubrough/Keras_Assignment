{
  "nbformat": 4,
  "nbformat_minor": 0,
  "metadata": {
    "colab": {
      "provenance": [],
      "include_colab_link": true
    },
    "kernelspec": {
      "name": "python3",
      "display_name": "Python 3"
    },
    "accelerator": "GPU"
  },
  "cells": [
    {
      "cell_type": "markdown",
      "metadata": {
        "id": "view-in-github",
        "colab_type": "text"
      },
      "source": [
        "<a href=\"https://colab.research.google.com/github/eecoubrough/Keras_Assignment/blob/main/Part_3_binary.ipynb\" target=\"_parent\"><img src=\"https://colab.research.google.com/assets/colab-badge.svg\" alt=\"Open In Colab\"/></a>"
      ]
    },
    {
      "cell_type": "markdown",
      "metadata": {
        "id": "JKbgFz4AhYvK"
      },
      "source": [
        "# Deep Learning Medical Image Analysis Example\n",
        "A simple convolutional neural network model trained using a simple pathology image dataset.\n",
        "\n",
        "To use GPU acceleration make sure to change your runtime type in Google Colab to GPU."
      ]
    },
    {
      "cell_type": "markdown",
      "metadata": {
        "id": "LICWjsiH5Ysh"
      },
      "source": [
        "## Python Imports\n",
        "This section loads the necessary python packages to the instance."
      ]
    },
    {
      "cell_type": "code",
      "metadata": {
        "id": "4r14DjPX5XAT"
      },
      "source": [
        "# Built-in Imports\n",
        "import random"
      ],
      "execution_count": 392,
      "outputs": []
    },
    {
      "cell_type": "code",
      "metadata": {
        "id": "_9akxJOL576W"
      },
      "source": [
        "# Library Imports\n",
        "import numpy as np\n",
        "import pandas as pd\n",
        "import matplotlib.pyplot as plt\n",
        "from sklearn.metrics import classification_report, confusion_matrix, ConfusionMatrixDisplay"
      ],
      "execution_count": 393,
      "outputs": []
    },
    {
      "cell_type": "code",
      "metadata": {
        "id": "PPushucynmye"
      },
      "source": [
        "# Keras Imports\n",
        "from tensorflow.keras import layers\n",
        "from tensorflow.keras.models import Model\n",
        "from tensorflow.keras import regularizers\n",
        "from tensorflow.keras.optimizers import SGD\n",
        "from tensorflow.keras.utils import get_file, to_categorical\n",
        "from tensorflow.keras.preprocessing.image import ImageDataGenerator"
      ],
      "execution_count": 394,
      "outputs": []
    },
    {
      "cell_type": "markdown",
      "metadata": {
        "id": "UfG7LUYZz6I2"
      },
      "source": [
        "## Dataset Downloader\n",
        "This section will download the BloodMNIST dataset as a NumPy array object to the Google Colab instance. Note that the dataset does need to be redownloaded every time an instance is created.\n"
      ]
    },
    {
      "cell_type": "code",
      "metadata": {
        "id": "WFsupyTxnHgN"
      },
      "source": [
        "# The dataset selected is PneumoniaMNIST\n",
        "# If desired, a different MedMNIST dataset could be used simply by specifying the desired dataset name.\n",
        "DATA_NAME = \"PneumoniaMNIST\""
      ],
      "execution_count": 395,
      "outputs": []
    },
    {
      "cell_type": "code",
      "metadata": {
        "colab": {
          "base_uri": "https://localhost:8080/"
        },
        "id": "vrpiQg5VkbsL",
        "outputId": "e84feed7-a4bc-4f6d-887a-490de7a805b7"
      },
      "source": [
        "# Retrieves the dataset from GitHub\n",
        "!wget https://raw.githubusercontent.com/MedMNIST/MedMNIST/main/medmnist/info.py\n",
        "from info import INFO\n",
        "data = INFO[DATA_NAME.lower()]"
      ],
      "execution_count": 396,
      "outputs": [
        {
          "output_type": "stream",
          "name": "stdout",
          "text": [
            "--2024-03-31 15:08:00--  https://raw.githubusercontent.com/MedMNIST/MedMNIST/main/medmnist/info.py\n",
            "Resolving raw.githubusercontent.com (raw.githubusercontent.com)... 185.199.110.133, 185.199.111.133, 185.199.108.133, ...\n",
            "Connecting to raw.githubusercontent.com (raw.githubusercontent.com)|185.199.110.133|:443... connected.\n",
            "HTTP request sent, awaiting response... 200 OK\n",
            "Length: 27766 (27K) [text/plain]\n",
            "Saving to: ‘info.py.13’\n",
            "\n",
            "\rinfo.py.13            0%[                    ]       0  --.-KB/s               \rinfo.py.13          100%[===================>]  27.12K  --.-KB/s    in 0s      \n",
            "\n",
            "2024-03-31 15:08:00 (81.9 MB/s) - ‘info.py.13’ saved [27766/27766]\n",
            "\n"
          ]
        }
      ]
    },
    {
      "cell_type": "code",
      "metadata": {
        "id": "nbCWsdDP0ECH"
      },
      "source": [
        "# Downloads the dataset file hosted on Zenodo.\n",
        "file_path = get_file(fname=\"dataset.npz\",\n",
        "                     origin=data[\"url\"],\n",
        "                     md5_hash=data[\"MD5\"])"
      ],
      "execution_count": 397,
      "outputs": []
    },
    {
      "cell_type": "code",
      "metadata": {
        "id": "GFPDZJZJ6o_T"
      },
      "source": [
        "# Loads the downloaded NumPy object, saving it to the variable 'dataset'.\n",
        "dataset = np.load(file_path)\n",
        "\n",
        "# Gets the training images and labels from the NumPy object.\n",
        "train_x = dataset[\"train_images\"]\n",
        "train_x = np.expand_dims(train_x, axis=-1)\n",
        "train_y = dataset[\"train_labels\"]\n",
        "\n",
        "# Gets the validation images and labels from the NumPy object.\n",
        "val_x = dataset[\"val_images\"]\n",
        "val_x = np.expand_dims(val_x, axis=-1)\n",
        "val_y = dataset[\"val_labels\"]\n",
        "\n",
        "# Gets the testing images and labels from the NumPy object.\n",
        "test_x = dataset[\"test_images\"]\n",
        "test_x = np.expand_dims(test_x, axis=-1)\n",
        "test_y = dataset[\"test_labels\"]"
      ],
      "execution_count": 398,
      "outputs": []
    },
    {
      "cell_type": "markdown",
      "metadata": {
        "id": "TRN-KCObfI18"
      },
      "source": [
        "## Data Exploration\n",
        "In this section we have a look at our data, their distributions to see if it is ready to be used within our machine learning algorithm."
      ]
    },
    {
      "cell_type": "code",
      "metadata": {
        "colab": {
          "base_uri": "https://localhost:8080/"
        },
        "id": "gMAxCIw3-JOW",
        "outputId": "90624458-aa35-4e92-e567-98373e58bf9a"
      },
      "source": [
        "# Declares a list of labels.\n",
        "labels = list(data[\"label\"].values()) + [\"total\"]\n",
        "\n",
        "# Gets the counts for each label in each of our datasets.\n",
        "_, train_counts = np.unique(train_y, return_counts=True)\n",
        "_, val_counts = np.unique(val_y, return_counts=True)\n",
        "_, test_counts = np.unique(test_y, return_counts=True)\n",
        "\n",
        "# Prints the counts for each label from each dataset (used to check the distributions of data in each of the eight classes to ensure there is no unexpected discepencies).\n",
        "print(pd.DataFrame(list(zip(np.append(train_counts, [sum(train_counts)]),\n",
        "                            np.append(val_counts, [sum(val_counts)]),\n",
        "                            np.append(test_counts, [sum(test_counts)]))),\n",
        "                   index=labels, columns=[\"Train\", \"Val\", \"Test\"]))"
      ],
      "execution_count": 399,
      "outputs": [
        {
          "output_type": "stream",
          "name": "stdout",
          "text": [
            "           Train  Val  Test\n",
            "normal      1214  135   234\n",
            "pneumonia   3494  389   390\n",
            "total       4708  524   624\n"
          ]
        }
      ]
    },
    {
      "cell_type": "code",
      "metadata": {
        "colab": {
          "base_uri": "https://localhost:8080/",
          "height": 466
        },
        "id": "AQ4Qba5sdt_Q",
        "outputId": "1d470caf-178b-4e29-c56f-b4f596bedc98"
      },
      "source": [
        "# Displays a random image from training dataset.\n",
        "index = random.randint(0, len(train_x))\n",
        "print(f\"{index}: {labels[train_y[index][0]]}\")\n",
        "plt.imshow(train_x[random.randint(0, len(train_x))])"
      ],
      "execution_count": 400,
      "outputs": [
        {
          "output_type": "stream",
          "name": "stdout",
          "text": [
            "2248: pneumonia\n"
          ]
        },
        {
          "output_type": "execute_result",
          "data": {
            "text/plain": [
              "<matplotlib.image.AxesImage at 0x7f9334a451b0>"
            ]
          },
          "metadata": {},
          "execution_count": 400
        },
        {
          "output_type": "display_data",
          "data": {
            "text/plain": [
              "<Figure size 640x480 with 1 Axes>"
            ],
            "image/png": "[encoded data removed]"
          },
          "metadata": {}
        }
      ]
    },
    {
      "cell_type": "markdown",
      "metadata": {
        "id": "61PPEn8Dhp_v"
      },
      "source": [
        "## Data Processing\n",
        "In this section we will create a data loader for algorithm that will dynamiclly load and augment the data when needed."
      ]
    },
    {
      "cell_type": "code",
      "metadata": {
        "id": "eKrtg2heh4tF"
      },
      "source": [
        "# Defines the data generator that will be used to augment the images as they are loaded.\n",
        "data_generator = ImageDataGenerator(featurewise_center=True,\n",
        "                                    featurewise_std_normalization=True,\n",
        "                                    horizontal_flip=True,\n",
        "                                    vertical_flip=True,\n",
        "                                    rotation_range=10,\n",
        "                                    width_shift_range=0.1,\n",
        "                                    height_shift_range=0.1,)"
      ],
      "execution_count": 401,
      "outputs": []
    },
    {
      "cell_type": "code",
      "metadata": {
        "id": "d5TzJV-O3nD7"
      },
      "source": [
        "data_generator.fit(np.append(train_x, val_x, 0))"
      ],
      "execution_count": 402,
      "outputs": []
    },
    {
      "cell_type": "markdown",
      "metadata": {
        "id": "ptmuEdE1p9MU"
      },
      "source": [
        "## Model Definition\n",
        "In this section we will define the neural network arcitecture."
      ]
    },
    {
      "cell_type": "code",
      "source": [
        "# Define the input layer of the model with the size of an image.\n",
        "input = layers.Input(shape=train_x[0].shape)\n",
        "\n",
        "# Defines the convolutional layer with max pooling.\n",
        "conv_1 = layers.Conv2D(filters=32, kernel_size=3, activation=\"relu\", kernel_regularizer=regularizers.l2(0.01))(input)\n",
        "pool_1 = layers.MaxPool2D(pool_size=(2, 2))(conv_1)\n",
        "\n",
        "# Flattens the outputs of the convolutional layers into a one-dimensional array.\n",
        "flatten = layers.Flatten()(pool_1)\n",
        "\n",
        "# Dense layer\n",
        "dense = layers.Dense(units=16, activation=\"relu\")(flatten)\n",
        "\n",
        "# Output layer:\n",
        "# Single node with sigmoid activation for binary classification.\n",
        "# L2 regularization with strength 0.01 is applied to kernel weights.\n",
        "output = layers.Dense(units=1, activation=\"sigmoid\", kernel_regularizer=regularizers.l2(0.01))(dense)\n",
        "\n",
        "# Initializes the defined model.\n",
        "model = Model(inputs=input, outputs=output, name=\"Model\")\n",
        "# Print the model summary.\n",
        "model.summary()"
      ],
      "metadata": {
        "id": "0EXYUXmD8Yhu",
        "outputId": "cdfc0e50-5525-4f41-ed05-896881fbd9e9",
        "colab": {
          "base_uri": "https://localhost:8080/"
        }
      },
      "execution_count": 403,
      "outputs": [
        {
          "output_type": "stream",
          "name": "stdout",
          "text": [
            "Model: \"Model\"\n",
            "_________________________________________________________________\n",
            " Layer (type)                Output Shape              Param #   \n",
            "=================================================================\n",
            " input_33 (InputLayer)       [(None, 28, 28, 1)]       0         \n",
            "                                                                 \n",
            " conv2d_48 (Conv2D)          (None, 26, 26, 32)        320       \n",
            "                                                                 \n",
            " max_pooling2d_41 (MaxPooli  (None, 13, 13, 32)        0         \n",
            " ng2D)                                                           \n",
            "                                                                 \n",
            " flatten_32 (Flatten)        (None, 5408)              0         \n",
            "                                                                 \n",
            " dense_63 (Dense)            (None, 16)                86544     \n",
            "                                                                 \n",
            " dense_64 (Dense)            (None, 1)                 17        \n",
            "                                                                 \n",
            "=================================================================\n",
            "Total params: 86881 (339.38 KB)\n",
            "Trainable params: 86881 (339.38 KB)\n",
            "Non-trainable params: 0 (0.00 Byte)\n",
            "_________________________________________________________________\n"
          ]
        }
      ]
    },
    {
      "cell_type": "markdown",
      "metadata": {
        "id": "SdMcAtCztO0b"
      },
      "source": [
        "## Model Training\n",
        "This is where we define the training options and then train the model.\n",
        "\n",
        "Through testing different values for the training parameters, I determined that a smaller batch size and more epochs was optimum.\n"
      ]
    },
    {
      "cell_type": "code",
      "metadata": {
        "id": "bEypwRiMuPCn"
      },
      "source": [
        "# Defining the parameters used during training.\n",
        "BATCH_SIZE = 32 #Batch size should always be a power of 2 GPU allocation purposes (quicker as no additional calculations required by the computer)\n",
        "NUM_EPOCHS = 20\n",
        "LEARNING_RATE = 0.001"
      ],
      "execution_count": 404,
      "outputs": []
    },
    {
      "cell_type": "code",
      "metadata": {
        "id": "Qb9WcL7ZtPZE"
      },
      "source": [
        "# Defines the optimiser used to adjust the model weights and compiles the model.\n",
        "optimiser = SGD(learning_rate=LEARNING_RATE)\n",
        "model.compile(optimizer=optimiser, loss=\"binary_crossentropy\", metrics=[\"accuracy\"])"
      ],
      "execution_count": 405,
      "outputs": []
    },
    {
      "cell_type": "code",
      "metadata": {
        "colab": {
          "base_uri": "https://localhost:8080/"
        },
        "id": "SOy4ArHyvIhR",
        "outputId": "c861023d-e3e6-4ef3-aa39-8cdaf8e963ae"
      },
      "source": [
        "# We use the data generator to pass the training and validation data to the model to train it.\n",
        "history = model.fit(data_generator.flow(train_x, train_y, batch_size=BATCH_SIZE),\n",
        "                    steps_per_epoch=len(train_x) / BATCH_SIZE,\n",
        "                    validation_data=data_generator.flow(val_x, val_y, batch_size=BATCH_SIZE),\n",
        "                    validation_steps=len(val_x) / BATCH_SIZE,\n",
        "                    epochs=NUM_EPOCHS)"
      ],
      "execution_count": 406,
      "outputs": [
        {
          "output_type": "stream",
          "name": "stdout",
          "text": [
            "Epoch 1/20\n",
            "147/147 [==============================] - 5s 27ms/step - loss: 0.6455 - accuracy: 0.7254 - val_loss: 0.6021 - val_accuracy: 0.7424\n",
            "Epoch 2/20\n",
            "147/147 [==============================] - 4s 28ms/step - loss: 0.5808 - accuracy: 0.7483 - val_loss: 0.5712 - val_accuracy: 0.7500\n",
            "Epoch 3/20\n",
            "147/147 [==============================] - 4s 25ms/step - loss: 0.5405 - accuracy: 0.7625 - val_loss: 0.5293 - val_accuracy: 0.7767\n",
            "Epoch 4/20\n",
            "147/147 [==============================] - 5s 32ms/step - loss: 0.5125 - accuracy: 0.7838 - val_loss: 0.5120 - val_accuracy: 0.7996\n",
            "Epoch 5/20\n",
            "147/147 [==============================] - 4s 26ms/step - loss: 0.4844 - accuracy: 0.8141 - val_loss: 0.4800 - val_accuracy: 0.8168\n",
            "Epoch 6/20\n",
            "147/147 [==============================] - 4s 25ms/step - loss: 0.4600 - accuracy: 0.8311 - val_loss: 0.4483 - val_accuracy: 0.8492\n",
            "Epoch 7/20\n",
            "147/147 [==============================] - 5s 33ms/step - loss: 0.4380 - accuracy: 0.8456 - val_loss: 0.4423 - val_accuracy: 0.8435\n",
            "Epoch 8/20\n",
            "147/147 [==============================] - 4s 25ms/step - loss: 0.4228 - accuracy: 0.8562 - val_loss: 0.4270 - val_accuracy: 0.8569\n",
            "Epoch 9/20\n",
            "147/147 [==============================] - 4s 26ms/step - loss: 0.4012 - accuracy: 0.8713 - val_loss: 0.4086 - val_accuracy: 0.8779\n",
            "Epoch 10/20\n",
            "147/147 [==============================] - 5s 34ms/step - loss: 0.3875 - accuracy: 0.8704 - val_loss: 0.3925 - val_accuracy: 0.8760\n",
            "Epoch 11/20\n",
            "147/147 [==============================] - 4s 25ms/step - loss: 0.3781 - accuracy: 0.8734 - val_loss: 0.3806 - val_accuracy: 0.8569\n",
            "Epoch 12/20\n",
            "147/147 [==============================] - 4s 26ms/step - loss: 0.3677 - accuracy: 0.8806 - val_loss: 0.3744 - val_accuracy: 0.8893\n",
            "Epoch 13/20\n",
            "147/147 [==============================] - 4s 28ms/step - loss: 0.3619 - accuracy: 0.8817 - val_loss: 0.3584 - val_accuracy: 0.8893\n",
            "Epoch 14/20\n",
            "147/147 [==============================] - 4s 25ms/step - loss: 0.3536 - accuracy: 0.8868 - val_loss: 0.3617 - val_accuracy: 0.8817\n",
            "Epoch 15/20\n",
            "147/147 [==============================] - 5s 33ms/step - loss: 0.3498 - accuracy: 0.8864 - val_loss: 0.3441 - val_accuracy: 0.8855\n",
            "Epoch 16/20\n",
            "147/147 [==============================] - 4s 26ms/step - loss: 0.3405 - accuracy: 0.8885 - val_loss: 0.3587 - val_accuracy: 0.8740\n",
            "Epoch 17/20\n",
            "147/147 [==============================] - 4s 26ms/step - loss: 0.3354 - accuracy: 0.8889 - val_loss: 0.3337 - val_accuracy: 0.8912\n",
            "Epoch 18/20\n",
            "147/147 [==============================] - 5s 34ms/step - loss: 0.3291 - accuracy: 0.8908 - val_loss: 0.3419 - val_accuracy: 0.8855\n",
            "Epoch 19/20\n",
            "147/147 [==============================] - 4s 28ms/step - loss: 0.3241 - accuracy: 0.8921 - val_loss: 0.3408 - val_accuracy: 0.8721\n",
            "Epoch 20/20\n",
            "147/147 [==============================] - 4s 25ms/step - loss: 0.3213 - accuracy: 0.8966 - val_loss: 0.3327 - val_accuracy: 0.8931\n"
          ]
        }
      ]
    },
    {
      "cell_type": "markdown",
      "metadata": {
        "id": "0bw_0oKy4UdI"
      },
      "source": [
        "## Plot Learning Curves\n",
        "This is where we visualise the training of the model."
      ]
    },
    {
      "cell_type": "code",
      "metadata": {
        "colab": {
          "base_uri": "https://localhost:8080/",
          "height": 472
        },
        "id": "8DOxQYV0oDmJ",
        "outputId": "965b5355-5a2b-4d14-8f77-8ee15b9cd831"
      },
      "source": [
        "# Plots the training and validation accuracy over the number of epochs.\n",
        "plt.plot(history.history['accuracy'])\n",
        "plt.plot(history.history['val_accuracy'])\n",
        "plt.title('Model Accuracy')\n",
        "plt.ylabel('Accuracy')\n",
        "plt.xlabel('Epoch')\n",
        "plt.legend(['Train', 'Validation'], loc='lower right')\n",
        "plt.show()"
      ],
      "execution_count": 407,
      "outputs": [
        {
          "output_type": "display_data",
          "data": {
            "text/plain": [
              "<Figure size 640x480 with 1 Axes>"
            ],
            "image/png": "[encoded data removed]"
          },
          "metadata": {}
        }
      ]
    },
    {
      "cell_type": "code",
      "metadata": {
        "id": "ZSQWVOnY4cdA",
        "colab": {
          "base_uri": "https://localhost:8080/",
          "height": 472
        },
        "outputId": "9e7e852e-9974-430e-e45b-179ac6116427"
      },
      "source": [
        "# Plots the training and validation loss over the number of epochs.\n",
        "plt.plot(history.history['loss'])\n",
        "plt.plot(history.history['val_loss'])\n",
        "plt.title('Model Loss')\n",
        "plt.ylabel('Loss')\n",
        "plt.xlabel('Epoch')\n",
        "plt.legend(['Train', 'Validation'], loc='upper right')\n",
        "plt.show()"
      ],
      "execution_count": 408,
      "outputs": [
        {
          "output_type": "display_data",
          "data": {
            "text/plain": [
              "<Figure size 640x480 with 1 Axes>"
            ],
            "image/png": "[encoded data removed]"
          },
          "metadata": {}
        }
      ]
    },
    {
      "cell_type": "code",
      "source": [
        "from tabulate import tabulate\n",
        "\n",
        "# Extract training history\n",
        "training_loss = history.history['loss']\n",
        "training_accuracy = history.history['accuracy']\n",
        "validation_loss = history.history['val_loss']\n",
        "validation_accuracy = history.history['val_accuracy']\n",
        "\n",
        "# Create a list of lists containing the data\n",
        "data = [\n",
        "    [\"Epoch\", \"Training Loss\", \"Training Accuracy\", \"Validation Loss\", \"Validation Accuracy\"]\n",
        "]\n",
        "\n",
        "for epoch, (tr_loss, tr_acc, val_loss, val_acc) in enumerate(zip(training_loss, training_accuracy, validation_loss, validation_accuracy), start=1):\n",
        "    data.append([epoch, tr_loss, tr_acc, val_loss, val_acc])\n",
        "\n",
        "# Display the data using tabulate\n",
        "print(tabulate(data, headers=\"firstrow\", tablefmt=\"grid\"))"
      ],
      "metadata": {
        "colab": {
          "base_uri": "https://localhost:8080/"
        },
        "id": "OY0udk8V0T41",
        "outputId": "bacc7e79-e5dc-41e8-902f-5e275505a41e"
      },
      "execution_count": 409,
      "outputs": [
        {
          "output_type": "stream",
          "name": "stdout",
          "text": [
            "+---------+-----------------+---------------------+-------------------+-----------------------+\n",
            "|   Epoch |   Training Loss |   Training Accuracy |   Validation Loss |   Validation Accuracy |\n",
            "+=========+=================+=====================+===================+=======================+\n",
            "|       1 |        0.645543 |            0.725361 |          0.602135 |              0.742366 |\n",
            "+---------+-----------------+---------------------+-------------------+-----------------------+\n",
            "|       2 |        0.580768 |            0.748301 |          0.571205 |              0.75     |\n",
            "+---------+-----------------+---------------------+-------------------+-----------------------+\n",
            "|       3 |        0.540541 |            0.762532 |          0.52927  |              0.776718 |\n",
            "+---------+-----------------+---------------------+-------------------+-----------------------+\n",
            "|       4 |        0.51251  |            0.783772 |          0.511971 |              0.799618 |\n",
            "+---------+-----------------+---------------------+-------------------+-----------------------+\n",
            "|       5 |        0.48441  |            0.814146 |          0.479951 |              0.816794 |\n",
            "+---------+-----------------+---------------------+-------------------+-----------------------+\n",
            "|       6 |        0.460007 |            0.831138 |          0.448299 |              0.849237 |\n",
            "+---------+-----------------+---------------------+-------------------+-----------------------+\n",
            "|       7 |        0.438013 |            0.845582 |          0.442327 |              0.843511 |\n",
            "+---------+-----------------+---------------------+-------------------+-----------------------+\n",
            "|       8 |        0.422752 |            0.856202 |          0.426967 |              0.85687  |\n",
            "+---------+-----------------+---------------------+-------------------+-----------------------+\n",
            "|       9 |        0.401227 |            0.871283 |          0.40856  |              0.877863 |\n",
            "+---------+-----------------+---------------------+-------------------+-----------------------+\n",
            "|      10 |        0.387511 |            0.870433 |          0.392451 |              0.875954 |\n",
            "+---------+-----------------+---------------------+-------------------+-----------------------+\n",
            "|      11 |        0.378083 |            0.873407 |          0.380568 |              0.85687  |\n",
            "+---------+-----------------+---------------------+-------------------+-----------------------+\n",
            "|      12 |        0.367738 |            0.880629 |          0.374413 |              0.889313 |\n",
            "+---------+-----------------+---------------------+-------------------+-----------------------+\n",
            "|      13 |        0.361865 |            0.881691 |          0.358442 |              0.889313 |\n",
            "+---------+-----------------+---------------------+-------------------+-----------------------+\n",
            "|      14 |        0.353581 |            0.886788 |          0.36172  |              0.881679 |\n",
            "+---------+-----------------+---------------------+-------------------+-----------------------+\n",
            "|      15 |        0.349788 |            0.886364 |          0.344127 |              0.885496 |\n",
            "+---------+-----------------+---------------------+-------------------+-----------------------+\n",
            "|      16 |        0.340461 |            0.888488 |          0.35867  |              0.874046 |\n",
            "+---------+-----------------+---------------------+-------------------+-----------------------+\n",
            "|      17 |        0.335405 |            0.888912 |          0.333651 |              0.891221 |\n",
            "+---------+-----------------+---------------------+-------------------+-----------------------+\n",
            "|      18 |        0.329124 |            0.890824 |          0.34187  |              0.885496 |\n",
            "+---------+-----------------+---------------------+-------------------+-----------------------+\n",
            "|      19 |        0.324095 |            0.892099 |          0.340786 |              0.872137 |\n",
            "+---------+-----------------+---------------------+-------------------+-----------------------+\n",
            "|      20 |        0.321348 |            0.896559 |          0.332728 |              0.89313  |\n",
            "+---------+-----------------+---------------------+-------------------+-----------------------+\n"
          ]
        }
      ]
    }
  ]
}