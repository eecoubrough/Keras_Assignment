{
  "nbformat": 4,
  "nbformat_minor": 0,
  "metadata": {
    "colab": {
      "provenance": [],
      "include_colab_link": true
    },
    "kernelspec": {
      "name": "python3",
      "display_name": "Python 3"
    },
    "accelerator": "GPU"
  },
  "cells": [
    {
      "cell_type": "markdown",
      "metadata": {
        "id": "view-in-github",
        "colab_type": "text"
      },
      "source": [
        "<a href=\"https://colab.research.google.com/github/eecoubrough/Keras_Assignment/blob/main/Part_3_binary.ipynb\" target=\"_parent\"><img src=\"https://colab.research.google.com/assets/colab-badge.svg\" alt=\"Open In Colab\"/></a>"
      ]
    },
    {
      "cell_type": "markdown",
      "metadata": {
        "id": "JKbgFz4AhYvK"
      },
      "source": [
        "# Deep Learning Medical Image Analysis Example\n",
        "A simple convolutional neural network model trained using a simple pathology image dataset.\n",
        "\n",
        "To use GPU acceleration make sure to change your runtime type in Google Colab to GPU."
      ]
    },
    {
      "cell_type": "markdown",
      "metadata": {
        "id": "LICWjsiH5Ysh"
      },
      "source": [
        "## Python Imports\n",
        "This section loads the necessary python packages to the instance."
      ]
    },
    {
      "cell_type": "code",
      "metadata": {
        "id": "4r14DjPX5XAT"
      },
      "source": [
        "# Built-in Imports\n",
        "import random"
      ],
      "execution_count": 3,
      "outputs": []
    },
    {
      "cell_type": "code",
      "metadata": {
        "id": "_9akxJOL576W"
      },
      "source": [
        "# Library Imports\n",
        "import numpy as np\n",
        "import pandas as pd\n",
        "import matplotlib.pyplot as plt\n",
        "from sklearn.metrics import classification_report, confusion_matrix, ConfusionMatrixDisplay"
      ],
      "execution_count": 4,
      "outputs": []
    },
    {
      "cell_type": "code",
      "metadata": {
        "id": "PPushucynmye"
      },
      "source": [
        "# Keras Imports\n",
        "from tensorflow.keras import layers\n",
        "from tensorflow.keras.models import Model\n",
        "from tensorflow.keras import regularizers\n",
        "from tensorflow.keras.optimizers import SGD\n",
        "from tensorflow.keras.utils import get_file, to_categorical\n",
        "from tensorflow.keras.preprocessing.image import ImageDataGenerator"
      ],
      "execution_count": 5,
      "outputs": []
    },
    {
      "cell_type": "markdown",
      "metadata": {
        "id": "UfG7LUYZz6I2"
      },
      "source": [
        "## Dataset Downloader\n",
        "This section will download the BloodMNIST dataset as a NumPy array object to the Google Colab instance. Note that the dataset does need to be redownloaded every time an instance is created.\n"
      ]
    },
    {
      "cell_type": "code",
      "metadata": {
        "id": "WFsupyTxnHgN"
      },
      "source": [
        "# The dataset selected is PneumoniaMNIST\n",
        "# If desired, a different MedMNIST dataset could be used simply by specifying the desired dataset name.\n",
        "DATA_NAME = \"PneumoniaMNIST\""
      ],
      "execution_count": 6,
      "outputs": []
    },
    {
      "cell_type": "code",
      "metadata": {
        "colab": {
          "base_uri": "https://localhost:8080/"
        },
        "id": "vrpiQg5VkbsL",
        "outputId": "5d517d8c-ff82-4183-d199-c01ebfe31127"
      },
      "source": [
        "# Retrieves the dataset from GitHub\n",
        "!wget https://raw.githubusercontent.com/MedMNIST/MedMNIST/main/medmnist/info.py\n",
        "from info import INFO\n",
        "data = INFO[DATA_NAME.lower()]"
      ],
      "execution_count": 7,
      "outputs": [
        {
          "output_type": "stream",
          "name": "stdout",
          "text": [
            "--2024-04-01 13:34:29--  https://raw.githubusercontent.com/MedMNIST/MedMNIST/main/medmnist/info.py\n",
            "Resolving raw.githubusercontent.com (raw.githubusercontent.com)... 185.199.108.133, 185.199.109.133, 185.199.110.133, ...\n",
            "Connecting to raw.githubusercontent.com (raw.githubusercontent.com)|185.199.108.133|:443... connected.\n",
            "HTTP request sent, awaiting response... 200 OK\n",
            "Length: 27766 (27K) [text/plain]\n",
            "Saving to: ‘info.py’\n",
            "\n",
            "\rinfo.py               0%[                    ]       0  --.-KB/s               \rinfo.py             100%[===================>]  27.12K  --.-KB/s    in 0.001s  \n",
            "\n",
            "2024-04-01 13:34:29 (26.1 MB/s) - ‘info.py’ saved [27766/27766]\n",
            "\n"
          ]
        }
      ]
    },
    {
      "cell_type": "code",
      "metadata": {
        "id": "nbCWsdDP0ECH",
        "colab": {
          "base_uri": "https://localhost:8080/"
        },
        "outputId": "fad7392c-f24e-4720-e6ea-f1e3bf58f95e"
      },
      "source": [
        "# Downloads the dataset file hosted on Zenodo.\n",
        "file_path = get_file(fname=\"dataset.npz\",\n",
        "                     origin=data[\"url\"],\n",
        "                     md5_hash=data[\"MD5\"])"
      ],
      "execution_count": 8,
      "outputs": [
        {
          "output_type": "stream",
          "name": "stdout",
          "text": [
            "Downloading data from https://zenodo.org/records/10519652/files/pneumoniamnist.npz?download=1\n",
            "4170669/4170669 [==============================] - 2s 0us/step\n"
          ]
        }
      ]
    },
    {
      "cell_type": "code",
      "metadata": {
        "id": "GFPDZJZJ6o_T"
      },
      "source": [
        "# Loads the downloaded NumPy object, saving it to the variable 'dataset'.\n",
        "dataset = np.load(file_path)\n",
        "\n",
        "# Gets the training images and labels from the NumPy object.\n",
        "train_x = dataset[\"train_images\"]\n",
        "train_x = np.expand_dims(train_x, axis=-1)\n",
        "train_y = dataset[\"train_labels\"]\n",
        "\n",
        "# Gets the validation images and labels from the NumPy object.\n",
        "val_x = dataset[\"val_images\"]\n",
        "val_x = np.expand_dims(val_x, axis=-1)\n",
        "val_y = dataset[\"val_labels\"]\n",
        "\n",
        "# Gets the testing images and labels from the NumPy object.\n",
        "test_x = dataset[\"test_images\"]\n",
        "test_x = np.expand_dims(test_x, axis=-1)\n",
        "test_y = dataset[\"test_labels\"]"
      ],
      "execution_count": 9,
      "outputs": []
    },
    {
      "cell_type": "markdown",
      "metadata": {
        "id": "TRN-KCObfI18"
      },
      "source": [
        "## Data Exploration\n",
        "In this section we have a look at our data, their distributions to see if it is ready to be used within our machine learning algorithm."
      ]
    },
    {
      "cell_type": "code",
      "metadata": {
        "colab": {
          "base_uri": "https://localhost:8080/"
        },
        "id": "gMAxCIw3-JOW",
        "outputId": "fad149b2-7276-4e6f-f35d-880d2a29af7f"
      },
      "source": [
        "# Declares a list of labels.\n",
        "labels = list(data[\"label\"].values()) + [\"total\"]\n",
        "\n",
        "# Gets the counts for each label in each of our datasets.\n",
        "_, train_counts = np.unique(train_y, return_counts=True)\n",
        "_, val_counts = np.unique(val_y, return_counts=True)\n",
        "_, test_counts = np.unique(test_y, return_counts=True)\n",
        "\n",
        "# Prints the counts for each label from each dataset (used to check the distributions of data in each of the eight classes to ensure there is no unexpected discepencies).\n",
        "print(pd.DataFrame(list(zip(np.append(train_counts, [sum(train_counts)]),\n",
        "                            np.append(val_counts, [sum(val_counts)]),\n",
        "                            np.append(test_counts, [sum(test_counts)]))),\n",
        "                   index=labels, columns=[\"Train\", \"Val\", \"Test\"]))"
      ],
      "execution_count": 10,
      "outputs": [
        {
          "output_type": "stream",
          "name": "stdout",
          "text": [
            "           Train  Val  Test\n",
            "normal      1214  135   234\n",
            "pneumonia   3494  389   390\n",
            "total       4708  524   624\n"
          ]
        }
      ]
    },
    {
      "cell_type": "code",
      "metadata": {
        "colab": {
          "base_uri": "https://localhost:8080/",
          "height": 466
        },
        "id": "AQ4Qba5sdt_Q",
        "outputId": "468446fb-a3b1-459c-a780-cdd379741e1c"
      },
      "source": [
        "# Displays a random image from training dataset.\n",
        "index = random.randint(0, len(train_x))\n",
        "print(f\"{index}: {labels[train_y[index][0]]}\")\n",
        "plt.imshow(train_x[random.randint(0, len(train_x))])"
      ],
      "execution_count": 11,
      "outputs": [
        {
          "output_type": "stream",
          "name": "stdout",
          "text": [
            "1826: pneumonia\n"
          ]
        },
        {
          "output_type": "execute_result",
          "data": {
            "text/plain": [
              "<matplotlib.image.AxesImage at 0x7e683a380970>"
            ]
          },
          "metadata": {},
          "execution_count": 11
        },
        {
          "output_type": "display_data",
          "data": {
            "text/plain": [
              "<Figure size 640x480 with 1 Axes>"
            ],
            "image/png": "[encoded data removed]"
          },
          "metadata": {}
        }
      ]
    },
    {
      "cell_type": "markdown",
      "metadata": {
        "id": "61PPEn8Dhp_v"
      },
      "source": [
        "## Data Processing\n",
        "In this section we will create a data loader for algorithm that will dynamiclly load and augment the data when needed."
      ]
    },
    {
      "cell_type": "code",
      "metadata": {
        "id": "eKrtg2heh4tF"
      },
      "source": [
        "# Defines the data generator that will be used to augment the images as they are loaded.\n",
        "data_generator = ImageDataGenerator(featurewise_center=True,\n",
        "                                    featurewise_std_normalization=True,\n",
        "                                    horizontal_flip=True,\n",
        "                                    vertical_flip=True,\n",
        "                                    rotation_range=10,\n",
        "                                    width_shift_range=0.1,\n",
        "                                    height_shift_range=0.1,)"
      ],
      "execution_count": 12,
      "outputs": []
    },
    {
      "cell_type": "code",
      "metadata": {
        "id": "d5TzJV-O3nD7"
      },
      "source": [
        "data_generator.fit(np.append(train_x, val_x, 0))"
      ],
      "execution_count": 13,
      "outputs": []
    },
    {
      "cell_type": "markdown",
      "metadata": {
        "id": "ptmuEdE1p9MU"
      },
      "source": [
        "## Model Definition\n",
        "In this section we will define the neural network arcitecture."
      ]
    },
    {
      "cell_type": "code",
      "source": [
        "# Define the input layer of the model with the size of an image.\n",
        "input = layers.Input(shape=train_x[0].shape)\n",
        "\n",
        "# Defines the convolutional layer with max pooling.\n",
        "conv_1 = layers.Conv2D(filters=32, kernel_size=3, activation=\"relu\", kernel_regularizer=regularizers.l2(0.01))(input)\n",
        "pool_1 = layers.MaxPool2D(pool_size=(2, 2))(conv_1)\n",
        "\n",
        "# Flattens the outputs of the convolutional layers into a one-dimensional array.\n",
        "flatten = layers.Flatten()(pool_1)\n",
        "\n",
        "# Dense layer\n",
        "dense = layers.Dense(units=16, activation=\"relu\")(flatten)\n",
        "\n",
        "# Output layer:\n",
        "# Single node with sigmoid activation for binary classification.\n",
        "# L2 regularization with strength 0.01 is applied to kernel weights.\n",
        "output = layers.Dense(units=1, activation=\"sigmoid\", kernel_regularizer=regularizers.l2(0.01))(dense)\n",
        "\n",
        "# Initializes the defined model.\n",
        "model = Model(inputs=input, outputs=output, name=\"Model\")\n",
        "# Print the model summary.\n",
        "model.summary()"
      ],
      "metadata": {
        "colab": {
          "base_uri": "https://localhost:8080/"
        },
        "id": "QbDTyZJpPtoo",
        "outputId": "e3aff551-554b-445b-860a-ae9dd0272ab3"
      },
      "execution_count": 14,
      "outputs": [
        {
          "output_type": "stream",
          "name": "stdout",
          "text": [
            "Model: \"Model\"\n",
            "_________________________________________________________________\n",
            " Layer (type)                Output Shape              Param #   \n",
            "=================================================================\n",
            " input_1 (InputLayer)        [(None, 28, 28, 1)]       0         \n",
            "                                                                 \n",
            " conv2d (Conv2D)             (None, 26, 26, 32)        320       \n",
            "                                                                 \n",
            " max_pooling2d (MaxPooling2  (None, 13, 13, 32)        0         \n",
            " D)                                                              \n",
            "                                                                 \n",
            " flatten (Flatten)           (None, 5408)              0         \n",
            "                                                                 \n",
            " dense (Dense)               (None, 16)                86544     \n",
            "                                                                 \n",
            " dense_1 (Dense)             (None, 1)                 17        \n",
            "                                                                 \n",
            "=================================================================\n",
            "Total params: 86881 (339.38 KB)\n",
            "Trainable params: 86881 (339.38 KB)\n",
            "Non-trainable params: 0 (0.00 Byte)\n",
            "_________________________________________________________________\n"
          ]
        }
      ]
    },
    {
      "cell_type": "markdown",
      "metadata": {
        "id": "SdMcAtCztO0b"
      },
      "source": [
        "## Model Training\n",
        "This is where we define the training options and then train the model.\n",
        "\n",
        "Through testing different values for the training parameters, I determined that a smaller batch size and more epochs was optimum.\n"
      ]
    },
    {
      "cell_type": "code",
      "metadata": {
        "id": "bEypwRiMuPCn"
      },
      "source": [
        "# Defining the parameters used during training.\n",
        "BATCH_SIZE = 32 #Batch size should always be a power of 2 GPU allocation purposes (quicker as no additional calculations required by the computer)\n",
        "NUM_EPOCHS = 20\n",
        "LEARNING_RATE = 0.001"
      ],
      "execution_count": 15,
      "outputs": []
    },
    {
      "cell_type": "code",
      "metadata": {
        "id": "Qb9WcL7ZtPZE"
      },
      "source": [
        "# Defines the optimiser used to adjust the model weights and compiles the model.\n",
        "optimiser = SGD(learning_rate=LEARNING_RATE)\n",
        "model.compile(optimizer=optimiser, loss=\"binary_crossentropy\", metrics=[\"accuracy\"])"
      ],
      "execution_count": 16,
      "outputs": []
    },
    {
      "cell_type": "code",
      "metadata": {
        "colab": {
          "base_uri": "https://localhost:8080/"
        },
        "id": "SOy4ArHyvIhR",
        "outputId": "b4e63e44-fa32-4c24-bcbd-da94fc3503a5"
      },
      "source": [
        "# We use the data generator to pass the training and validation data to the model to train it.\n",
        "history = model.fit(data_generator.flow(train_x, train_y, batch_size=BATCH_SIZE),\n",
        "                    steps_per_epoch=len(train_x) / BATCH_SIZE,\n",
        "                    validation_data=data_generator.flow(val_x, val_y, batch_size=BATCH_SIZE),\n",
        "                    validation_steps=len(val_x) / BATCH_SIZE,\n",
        "                    epochs=NUM_EPOCHS)"
      ],
      "execution_count": 17,
      "outputs": [
        {
          "output_type": "stream",
          "name": "stdout",
          "text": [
            "Epoch 1/20\n",
            "147/147 [==============================] - 5s 26ms/step - loss: 0.6388 - accuracy: 0.7264 - val_loss: 0.5989 - val_accuracy: 0.7443\n",
            "Epoch 2/20\n",
            "147/147 [==============================] - 5s 33ms/step - loss: 0.5662 - accuracy: 0.7504 - val_loss: 0.5496 - val_accuracy: 0.7691\n",
            "Epoch 3/20\n",
            "147/147 [==============================] - 4s 25ms/step - loss: 0.5204 - accuracy: 0.7821 - val_loss: 0.5075 - val_accuracy: 0.8034\n",
            "Epoch 4/20\n",
            "147/147 [==============================] - 4s 25ms/step - loss: 0.4789 - accuracy: 0.8239 - val_loss: 0.4793 - val_accuracy: 0.8302\n",
            "Epoch 5/20\n",
            "147/147 [==============================] - 4s 24ms/step - loss: 0.4522 - accuracy: 0.8439 - val_loss: 0.4568 - val_accuracy: 0.8531\n",
            "Epoch 6/20\n",
            "147/147 [==============================] - 4s 24ms/step - loss: 0.4330 - accuracy: 0.8494 - val_loss: 0.4324 - val_accuracy: 0.8645\n",
            "Epoch 7/20\n",
            "147/147 [==============================] - 5s 33ms/step - loss: 0.4085 - accuracy: 0.8713 - val_loss: 0.4261 - val_accuracy: 0.8282\n",
            "Epoch 8/20\n",
            "147/147 [==============================] - 4s 25ms/step - loss: 0.3981 - accuracy: 0.8689 - val_loss: 0.4051 - val_accuracy: 0.8721\n",
            "Epoch 9/20\n",
            "147/147 [==============================] - 4s 25ms/step - loss: 0.3822 - accuracy: 0.8751 - val_loss: 0.3932 - val_accuracy: 0.8836\n",
            "Epoch 10/20\n",
            "147/147 [==============================] - 5s 31ms/step - loss: 0.3702 - accuracy: 0.8832 - val_loss: 0.3749 - val_accuracy: 0.8779\n",
            "Epoch 11/20\n",
            "147/147 [==============================] - 4s 25ms/step - loss: 0.3671 - accuracy: 0.8842 - val_loss: 0.3765 - val_accuracy: 0.8855\n",
            "Epoch 12/20\n",
            "147/147 [==============================] - 4s 24ms/step - loss: 0.3566 - accuracy: 0.8853 - val_loss: 0.3730 - val_accuracy: 0.8664\n",
            "Epoch 13/20\n",
            "147/147 [==============================] - 5s 31ms/step - loss: 0.3477 - accuracy: 0.8876 - val_loss: 0.3672 - val_accuracy: 0.8740\n",
            "Epoch 14/20\n",
            "147/147 [==============================] - 4s 25ms/step - loss: 0.3491 - accuracy: 0.8838 - val_loss: 0.3559 - val_accuracy: 0.8931\n",
            "Epoch 15/20\n",
            "147/147 [==============================] - 4s 24ms/step - loss: 0.3339 - accuracy: 0.8915 - val_loss: 0.3353 - val_accuracy: 0.9008\n",
            "Epoch 16/20\n",
            "147/147 [==============================] - 6s 39ms/step - loss: 0.3354 - accuracy: 0.8900 - val_loss: 0.3554 - val_accuracy: 0.8893\n",
            "Epoch 17/20\n",
            "147/147 [==============================] - 4s 26ms/step - loss: 0.3272 - accuracy: 0.8932 - val_loss: 0.3413 - val_accuracy: 0.8874\n",
            "Epoch 18/20\n",
            "147/147 [==============================] - 4s 24ms/step - loss: 0.3269 - accuracy: 0.8891 - val_loss: 0.3422 - val_accuracy: 0.8969\n",
            "Epoch 19/20\n",
            "147/147 [==============================] - 4s 27ms/step - loss: 0.3279 - accuracy: 0.8908 - val_loss: 0.3301 - val_accuracy: 0.8912\n",
            "Epoch 20/20\n",
            "147/147 [==============================] - 4s 29ms/step - loss: 0.3267 - accuracy: 0.8921 - val_loss: 0.3280 - val_accuracy: 0.8931\n"
          ]
        }
      ]
    },
    {
      "cell_type": "markdown",
      "metadata": {
        "id": "0bw_0oKy4UdI"
      },
      "source": [
        "## Plot Learning Curves\n",
        "This is where we visualise the training of the model."
      ]
    },
    {
      "cell_type": "code",
      "metadata": {
        "colab": {
          "base_uri": "https://localhost:8080/",
          "height": 472
        },
        "id": "8DOxQYV0oDmJ",
        "outputId": "83bb6349-74f6-4b9a-f131-d276a9db23f4"
      },
      "source": [
        "# Plots the training and validation accuracy over the number of epochs.\n",
        "plt.plot(history.history['accuracy'])\n",
        "plt.plot(history.history['val_accuracy'])\n",
        "plt.title('Model Accuracy')\n",
        "plt.ylabel('Accuracy')\n",
        "plt.xlabel('Epoch')\n",
        "plt.legend(['Train', 'Validation'], loc='lower right')\n",
        "plt.show()"
      ],
      "execution_count": 18,
      "outputs": [
        {
          "output_type": "display_data",
          "data": {
            "text/plain": [
              "<Figure size 640x480 with 1 Axes>"
            ],
            "image/png": "[encoded data removed]"
          },
          "metadata": {}
        }
      ]
    },
    {
      "cell_type": "code",
      "metadata": {
        "id": "ZSQWVOnY4cdA",
        "colab": {
          "base_uri": "https://localhost:8080/",
          "height": 472
        },
        "outputId": "441c3920-1a1e-4658-de2c-6449e355d179"
      },
      "source": [
        "# Plots the training and validation loss over the number of epochs.\n",
        "plt.plot(history.history['loss'])\n",
        "plt.plot(history.history['val_loss'])\n",
        "plt.title('Model Loss')\n",
        "plt.ylabel('Loss')\n",
        "plt.xlabel('Epoch')\n",
        "plt.legend(['Train', 'Validation'], loc='upper right')\n",
        "plt.show()"
      ],
      "execution_count": 19,
      "outputs": [
        {
          "output_type": "display_data",
          "data": {
            "text/plain": [
              "<Figure size 640x480 with 1 Axes>"
            ],
            "image/png": "[encoded data removed]"
          },
          "metadata": {}
        }
      ]
    },
    {
      "cell_type": "code",
      "source": [
        "\n",
        "# Evaluate the model on the test data to obtain the test accuracy\n",
        "test_loss, test_accuracy = model.evaluate(test_x, test_y)\n",
        "\n",
        "print(f'Test Loss: {test_loss}')\n",
        "print(f'Test Accuracy: {test_accuracy}')\n",
        "\n",
        "# Visualize the test accuracy (optional)\n",
        "plt.bar(['Test Accuracy'], [test_accuracy], color='blue')\n",
        "plt.title('Test Accuracy')\n",
        "plt.ylabel('Accuracy')\n",
        "plt.ylim(0, 1)\n",
        "plt.show()"
      ],
      "metadata": {
        "id": "XXWmcLak3W9I",
        "outputId": "580cc747-d2cb-4f64-e0ff-1d5ac3c33948",
        "colab": {
          "base_uri": "https://localhost:8080/",
          "height": 506
        }
      },
      "execution_count": 20,
      "outputs": [
        {
          "output_type": "stream",
          "name": "stdout",
          "text": [
            "20/20 [==============================] - 0s 6ms/step - loss: 219.6640 - accuracy: 0.6250\n",
            "Test Loss: 219.6639862060547\n",
            "Test Accuracy: 0.625\n"
          ]
        },
        {
          "output_type": "display_data",
          "data": {
            "text/plain": [
              "<Figure size 640x480 with 1 Axes>"
            ],
            "image/png": "[encoded data removed]"
          },
          "metadata": {}
        }
      ]
    },
    {
      "cell_type": "code",
      "source": [
        "from tabulate import tabulate\n",
        "\n",
        "# Extract training history\n",
        "training_loss = history.history['loss']\n",
        "training_accuracy = history.history['accuracy']\n",
        "validation_loss = history.history['val_loss']\n",
        "validation_accuracy = history.history['val_accuracy']\n",
        "\n",
        "# Create a list of lists containing the data\n",
        "data = [\n",
        "    [\"Epoch\", \"Training Loss\", \"Training Accuracy\", \"Validation Loss\", \"Validation Accuracy\"]\n",
        "]\n",
        "\n",
        "for epoch, (tr_loss, tr_acc, val_loss, val_acc) in enumerate(zip(training_loss, training_accuracy, validation_loss, validation_accuracy), start=1):\n",
        "    data.append([epoch, tr_loss, tr_acc, val_loss, val_acc])\n",
        "\n",
        "# Display the data using tabulate\n",
        "print(tabulate(data, headers=\"firstrow\", tablefmt=\"grid\"))"
      ],
      "metadata": {
        "colab": {
          "base_uri": "https://localhost:8080/"
        },
        "id": "OY0udk8V0T41",
        "outputId": "e3b76093-213a-49fa-8da8-cebbf761be8a"
      },
      "execution_count": 21,
      "outputs": [
        {
          "output_type": "stream",
          "name": "stdout",
          "text": [
            "+---------+-----------------+---------------------+-------------------+-----------------------+\n",
            "|   Epoch |   Training Loss |   Training Accuracy |   Validation Loss |   Validation Accuracy |\n",
            "+=========+=================+=====================+===================+=======================+\n",
            "|       1 |        0.638782 |            0.726423 |          0.598949 |              0.744275 |\n",
            "+---------+-----------------+---------------------+-------------------+-----------------------+\n",
            "|       2 |        0.566195 |            0.750425 |          0.549599 |              0.769084 |\n",
            "+---------+-----------------+---------------------+-------------------+-----------------------+\n",
            "|       3 |        0.520354 |            0.782073 |          0.507465 |              0.803435 |\n",
            "+---------+-----------------+---------------------+-------------------+-----------------------+\n",
            "|       4 |        0.478907 |            0.823917 |          0.479295 |              0.830153 |\n",
            "+---------+-----------------+---------------------+-------------------+-----------------------+\n",
            "|       5 |        0.452233 |            0.843883 |          0.456814 |              0.853053 |\n",
            "+---------+-----------------+---------------------+-------------------+-----------------------+\n",
            "|       6 |        0.433033 |            0.849405 |          0.43238  |              0.864504 |\n",
            "+---------+-----------------+---------------------+-------------------+-----------------------+\n",
            "|       7 |        0.408511 |            0.871283 |          0.426145 |              0.828244 |\n",
            "+---------+-----------------+---------------------+-------------------+-----------------------+\n",
            "|       8 |        0.398091 |            0.868946 |          0.405113 |              0.872137 |\n",
            "+---------+-----------------+---------------------+-------------------+-----------------------+\n",
            "|       9 |        0.382226 |            0.875106 |          0.393213 |              0.883588 |\n",
            "+---------+-----------------+---------------------+-------------------+-----------------------+\n",
            "|      10 |        0.37021  |            0.883178 |          0.374913 |              0.877863 |\n",
            "+---------+-----------------+---------------------+-------------------+-----------------------+\n",
            "|      11 |        0.367065 |            0.88424  |          0.376512 |              0.885496 |\n",
            "+---------+-----------------+---------------------+-------------------+-----------------------+\n",
            "|      12 |        0.356594 |            0.885302 |          0.373045 |              0.866412 |\n",
            "+---------+-----------------+---------------------+-------------------+-----------------------+\n",
            "|      13 |        0.347679 |            0.887638 |          0.367236 |              0.874046 |\n",
            "+---------+-----------------+---------------------+-------------------+-----------------------+\n",
            "|      14 |        0.349082 |            0.883815 |          0.355893 |              0.89313  |\n",
            "+---------+-----------------+---------------------+-------------------+-----------------------+\n",
            "|      15 |        0.333933 |            0.891461 |          0.335323 |              0.900763 |\n",
            "+---------+-----------------+---------------------+-------------------+-----------------------+\n",
            "|      16 |        0.335429 |            0.889975 |          0.355431 |              0.889313 |\n",
            "+---------+-----------------+---------------------+-------------------+-----------------------+\n",
            "|      17 |        0.327239 |            0.893161 |          0.341345 |              0.887405 |\n",
            "+---------+-----------------+---------------------+-------------------+-----------------------+\n",
            "|      18 |        0.326941 |            0.889125 |          0.342203 |              0.896947 |\n",
            "+---------+-----------------+---------------------+-------------------+-----------------------+\n",
            "|      19 |        0.327891 |            0.890824 |          0.330109 |              0.891221 |\n",
            "+---------+-----------------+---------------------+-------------------+-----------------------+\n",
            "|      20 |        0.326735 |            0.892099 |          0.328041 |              0.89313  |\n",
            "+---------+-----------------+---------------------+-------------------+-----------------------+\n"
          ]
        }
      ]
    }
  ]
}