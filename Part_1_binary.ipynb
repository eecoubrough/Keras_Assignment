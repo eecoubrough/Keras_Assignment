{
  "nbformat": 4,
  "nbformat_minor": 0,
  "metadata": {
    "colab": {
      "provenance": [],
      "include_colab_link": true
    },
    "kernelspec": {
      "name": "python3",
      "display_name": "Python 3"
    },
    "accelerator": "GPU"
  },
  "cells": [
    {
      "cell_type": "markdown",
      "metadata": {
        "id": "view-in-github",
        "colab_type": "text"
      },
      "source": [
        "<a href=\"https://colab.research.google.com/github/eecoubrough/Keras_Assignment/blob/main/Part_1_binary.ipynb\" target=\"_parent\"><img src=\"https://colab.research.google.com/assets/colab-badge.svg\" alt=\"Open In Colab\"/></a>"
      ]
    },
    {
      "cell_type": "markdown",
      "metadata": {
        "id": "JKbgFz4AhYvK"
      },
      "source": [
        "# Deep Learning Medical Image Analysis Example\n",
        "A simple convolutional neural network model trained using a simple pathology image dataset.\n",
        "\n",
        "To use GPU acceleration make sure to change your runtime type in Google Colab to GPU."
      ]
    },
    {
      "cell_type": "markdown",
      "metadata": {
        "id": "LICWjsiH5Ysh"
      },
      "source": [
        "## Python Imports\n",
        "This section will load the necessary python packages to the instance."
      ]
    },
    {
      "cell_type": "code",
      "metadata": {
        "id": "4r14DjPX5XAT"
      },
      "source": [
        "# Built-in Imports\n",
        "import random"
      ],
      "execution_count": 1,
      "outputs": []
    },
    {
      "cell_type": "code",
      "metadata": {
        "id": "_9akxJOL576W"
      },
      "source": [
        "# Library Imports\n",
        "import numpy as np\n",
        "import pandas as pd\n",
        "import matplotlib.pyplot as plt\n",
        "import matplotlib.cm as cm\n",
        "import tabulate\n",
        "import seaborn as sns\n",
        "from sklearn.metrics import classification_report, confusion_matrix, ConfusionMatrixDisplay"
      ],
      "execution_count": 2,
      "outputs": []
    },
    {
      "cell_type": "code",
      "metadata": {
        "id": "PPushucynmye"
      },
      "source": [
        "# Keras Imports\n",
        "from tensorflow.keras import layers\n",
        "from tensorflow.keras.models import Model\n",
        "from tensorflow.keras import regularizers\n",
        "from tensorflow.keras.optimizers import SGD\n",
        "from tensorflow.keras.utils import get_file, to_categorical\n",
        "from tensorflow.keras.preprocessing.image import ImageDataGenerator"
      ],
      "execution_count": 3,
      "outputs": []
    },
    {
      "cell_type": "markdown",
      "metadata": {
        "id": "UfG7LUYZz6I2"
      },
      "source": [
        "## Dataset Downloader\n",
        "This section will download the PneumoniaMNIST dataset as a NumPy array object to the Google Colab instance. Note that the dataset does need to be redownloaded every time an instance is created."
      ]
    },
    {
      "cell_type": "code",
      "metadata": {
        "id": "WFsupyTxnHgN"
      },
      "source": [
        "# The dataset selected is PneumoniaMNIST\n",
        "# If desired, a different MedMNIST dataset could be used simply by specifying the desired dataset name.\n",
        "DATA_NAME = \"PneumoniaMNIST\""
      ],
      "execution_count": 4,
      "outputs": []
    },
    {
      "cell_type": "code",
      "metadata": {
        "colab": {
          "base_uri": "https://localhost:8080/"
        },
        "id": "vrpiQg5VkbsL",
        "outputId": "043591dc-23bf-4df0-8915-606b854ffad8"
      },
      "source": [
        "# Retrieves the dataset from GitHub\n",
        "!wget https://raw.githubusercontent.com/MedMNIST/MedMNIST/main/medmnist/info.py\n",
        "from info import INFO\n",
        "data = INFO[DATA_NAME.lower()]"
      ],
      "execution_count": 5,
      "outputs": [
        {
          "output_type": "stream",
          "name": "stdout",
          "text": [
            "--2024-04-01 13:40:35--  https://raw.githubusercontent.com/MedMNIST/MedMNIST/main/medmnist/info.py\n",
            "Resolving raw.githubusercontent.com (raw.githubusercontent.com)... 185.199.109.133, 185.199.111.133, 185.199.110.133, ...\n",
            "Connecting to raw.githubusercontent.com (raw.githubusercontent.com)|185.199.109.133|:443... connected.\n",
            "HTTP request sent, awaiting response... 200 OK\n",
            "Length: 27766 (27K) [text/plain]\n",
            "Saving to: ‘info.py’\n",
            "\n",
            "info.py             100%[===================>]  27.12K  --.-KB/s    in 0.008s  \n",
            "\n",
            "2024-04-01 13:40:35 (3.16 MB/s) - ‘info.py’ saved [27766/27766]\n",
            "\n"
          ]
        }
      ]
    },
    {
      "cell_type": "code",
      "metadata": {
        "id": "nbCWsdDP0ECH",
        "colab": {
          "base_uri": "https://localhost:8080/"
        },
        "outputId": "158e00d2-8694-4ad2-b16e-fb9ad41b0b91"
      },
      "source": [
        "# Downloads the dataset file hosted on Zenodo.\n",
        "file_path = get_file(fname=\"dataset.npz\",\n",
        "                     origin=data[\"url\"],\n",
        "                     md5_hash=data[\"MD5\"])"
      ],
      "execution_count": 6,
      "outputs": [
        {
          "output_type": "stream",
          "name": "stdout",
          "text": [
            "Downloading data from https://zenodo.org/records/10519652/files/pneumoniamnist.npz?download=1\n",
            "4170669/4170669 [==============================] - 9s 2us/step\n"
          ]
        }
      ]
    },
    {
      "cell_type": "code",
      "source": [
        "# Loads the downloaded NumPy object, saving it to the variable 'dataset'.\n",
        "dataset = np.load(file_path)\n",
        "\n",
        "# Gets the training images and labels from the NumPy object.\n",
        "train_x = dataset[\"train_images\"]\n",
        "# Adds an extra new dimension to the training images array to make it compatible with CNNs.\n",
        "    # This is necessary because the dataset is greyscale images are represented by a 2D array, but CNNs require a 3D input tensor.\n",
        "    # By adding a new dimension with size 1, it explicitly specifies that there is just one channel (for grayscale) in addition to height and width.\n",
        "train_x = np.expand_dims(train_x, axis=-1)\n",
        "train_y = dataset[\"train_labels\"]\n",
        "\n",
        "# Gets the validation images and labels from the NumPy object.\n",
        "val_x = dataset[\"val_images\"]\n",
        "# Adds an extra new dimension to the training images array to make it compatible with CNNs.\n",
        "val_x = np.expand_dims(val_x, axis=-1)\n",
        "val_y = dataset[\"val_labels\"]\n",
        "\n",
        "# Gets the testing images and labels from the NumPy object.\n",
        "test_x = dataset[\"test_images\"]\n",
        "# Adds an extra new dimension to the training images array to make it compatible with CNNs.\n",
        "test_x = np.expand_dims(test_x, axis=-1)\n",
        "test_y = dataset[\"test_labels\"]"
      ],
      "metadata": {
        "id": "rg3BshBkvuNy"
      },
      "execution_count": 7,
      "outputs": []
    },
    {
      "cell_type": "markdown",
      "metadata": {
        "id": "TRN-KCObfI18"
      },
      "source": [
        "## Data Exploration\n",
        "In this section we have a look at our data, their distributions to see if it is ready to be used within our machine learning algorithm."
      ]
    },
    {
      "cell_type": "code",
      "source": [
        "# Print the shape of one of the images in your dataset to ensure the images are in the expected shape format.\n",
        "print(train_x[0].shape)"
      ],
      "metadata": {
        "colab": {
          "base_uri": "https://localhost:8080/"
        },
        "id": "aR5PtCQPxNp-",
        "outputId": "31421a84-00e7-46c4-fd4b-893664a080b8"
      },
      "execution_count": 8,
      "outputs": [
        {
          "output_type": "stream",
          "name": "stdout",
          "text": [
            "(28, 28, 1)\n"
          ]
        }
      ]
    },
    {
      "cell_type": "code",
      "metadata": {
        "colab": {
          "base_uri": "https://localhost:8080/"
        },
        "id": "gMAxCIw3-JOW",
        "outputId": "de16c3cd-fe12-4c2f-92cf-2a0f5a50b8d8"
      },
      "source": [
        "# Declares a list of labels.\n",
        "labels = list(data[\"label\"].values()) + [\"total\"]\n",
        "\n",
        "# Gets the counts for each label in each of our datasets.\n",
        "_, train_counts = np.unique(train_y, return_counts=True)\n",
        "_, val_counts = np.unique(val_y, return_counts=True)\n",
        "_, test_counts = np.unique(test_y, return_counts=True)\n",
        "\n",
        "# Prints the counts for each label from each dataset (used to check the distributions of data in each of the eight classes to ensure there is no unexpected discepencies).\n",
        "print(pd.DataFrame(list(zip(np.append(train_counts, [sum(train_counts)]),\n",
        "                            np.append(val_counts, [sum(val_counts)]),\n",
        "                            np.append(test_counts, [sum(test_counts)]))),\n",
        "                   index=labels, columns=[\"Train\", \"Val\", \"Test\"]))"
      ],
      "execution_count": 9,
      "outputs": [
        {
          "output_type": "stream",
          "name": "stdout",
          "text": [
            "           Train  Val  Test\n",
            "normal      1214  135   234\n",
            "pneumonia   3494  389   390\n",
            "total       4708  524   624\n"
          ]
        }
      ]
    },
    {
      "cell_type": "code",
      "metadata": {
        "colab": {
          "base_uri": "https://localhost:8080/",
          "height": 466
        },
        "id": "AQ4Qba5sdt_Q",
        "outputId": "a8abc381-dc57-4506-db8c-b43c3740b626"
      },
      "source": [
        "# Displays a random image from training dataset.\n",
        "index = random.randint(0, len(train_x))\n",
        "print(f\"{index}: {labels[train_y[index][0]]}\")\n",
        "plt.imshow(train_x[random.randint(0, len(train_x))])"
      ],
      "execution_count": 10,
      "outputs": [
        {
          "output_type": "stream",
          "name": "stdout",
          "text": [
            "2175: pneumonia\n"
          ]
        },
        {
          "output_type": "execute_result",
          "data": {
            "text/plain": [
              "<matplotlib.image.AxesImage at 0x7c1228b91330>"
            ]
          },
          "metadata": {},
          "execution_count": 10
        },
        {
          "output_type": "display_data",
          "data": {
            "text/plain": [
              "<Figure size 640x480 with 1 Axes>"
            ],
            "image/png": "[encoded data removed]"
          },
          "metadata": {}
        }
      ]
    },
    {
      "cell_type": "markdown",
      "metadata": {
        "id": "61PPEn8Dhp_v"
      },
      "source": [
        "## Data Processing\n",
        "In this section we will create a data loader for algorithm that will dynamically load and augment the data when needed."
      ]
    },
    {
      "cell_type": "code",
      "metadata": {
        "id": "eKrtg2heh4tF"
      },
      "source": [
        "# Defines the data generator that will be used to augment the images as they are loaded.\n",
        "data_generator = ImageDataGenerator(featurewise_center=True,\n",
        "                                    featurewise_std_normalization=True,\n",
        "                                    horizontal_flip=True,\n",
        "                                    vertical_flip=True)"
      ],
      "execution_count": 11,
      "outputs": []
    },
    {
      "cell_type": "code",
      "metadata": {
        "id": "d5TzJV-O3nD7"
      },
      "source": [
        "data_generator.fit(np.append(train_x, val_x, 0))"
      ],
      "execution_count": 12,
      "outputs": []
    },
    {
      "cell_type": "markdown",
      "source": [
        "\n",
        "\n",
        "---\n",
        "# **Part 1 - Covnet with same architechture and training regime**\n"
      ],
      "metadata": {
        "id": "TPh8GA_wE2dx"
      }
    },
    {
      "cell_type": "markdown",
      "metadata": {
        "id": "ptmuEdE1p9MU"
      },
      "source": [
        "## Model Definition\n"
      ]
    },
    {
      "cell_type": "code",
      "metadata": {
        "colab": {
          "base_uri": "https://localhost:8080/"
        },
        "id": "Ud-jcR_ZqE0V",
        "outputId": "74d4fb20-34b8-4c9b-8a50-4bb46ec7459c"
      },
      "source": [
        "# Define the input layer of the model with the size of an image.\n",
        "input = layers.Input(shape=train_x[0].shape)\n",
        "\n",
        "# Defines the first convolutional layer with max pooling.\n",
        "conv_1 = layers.Conv2D(filters=32, kernel_size=3, activation=\"relu\")(input)\n",
        "pool_1 = layers.MaxPool2D(pool_size=(2, 2))(conv_1)\n",
        "\n",
        "# Defines the second convolutional layer with max pooling.\n",
        "conv_2 = layers.Conv2D(filters=32, kernel_size=3, activation=\"relu\")(pool_1)\n",
        "pool_2 = layers.MaxPool2D(pool_size=(2, 2))(conv_2)\n",
        "\n",
        "# Flattens the outputs of the convolutional layers into a one dimensional array.\n",
        "flatten = layers.Flatten()(pool_2)\n",
        "\n",
        "# Defines the output layer of the model a number of output nodes equal to the number of classes.\n",
        "output = layers.Dense(units=1, activation=\"sigmoid\")(flatten)\n",
        "\n",
        "# Initilises the defined model and prints summary of the model.\n",
        "model_1 = Model(inputs=input, outputs=output, name=\"Model_1\")\n",
        "model_1.summary()"
      ],
      "execution_count": 13,
      "outputs": [
        {
          "output_type": "stream",
          "name": "stdout",
          "text": [
            "Model: \"Model_1\"\n",
            "_________________________________________________________________\n",
            " Layer (type)                Output Shape              Param #   \n",
            "=================================================================\n",
            " input_1 (InputLayer)        [(None, 28, 28, 1)]       0         \n",
            "                                                                 \n",
            " conv2d (Conv2D)             (None, 26, 26, 32)        320       \n",
            "                                                                 \n",
            " max_pooling2d (MaxPooling2  (None, 13, 13, 32)        0         \n",
            " D)                                                              \n",
            "                                                                 \n",
            " conv2d_1 (Conv2D)           (None, 11, 11, 32)        9248      \n",
            "                                                                 \n",
            " max_pooling2d_1 (MaxPoolin  (None, 5, 5, 32)          0         \n",
            " g2D)                                                            \n",
            "                                                                 \n",
            " flatten (Flatten)           (None, 800)               0         \n",
            "                                                                 \n",
            " dense (Dense)               (None, 1)                 801       \n",
            "                                                                 \n",
            "=================================================================\n",
            "Total params: 10369 (40.50 KB)\n",
            "Trainable params: 10369 (40.50 KB)\n",
            "Non-trainable params: 0 (0.00 Byte)\n",
            "_________________________________________________________________\n"
          ]
        }
      ]
    },
    {
      "cell_type": "markdown",
      "metadata": {
        "id": "SdMcAtCztO0b"
      },
      "source": [
        "## Model Training\n",
        "\n"
      ]
    },
    {
      "cell_type": "code",
      "metadata": {
        "id": "bEypwRiMuPCn"
      },
      "source": [
        "# Define the parameters used during training.\n",
        "BATCH_SIZE = 64\n",
        "NUM_EPOCHS = 10\n",
        "LEARNING_RATE = 0.001"
      ],
      "execution_count": 14,
      "outputs": []
    },
    {
      "cell_type": "code",
      "metadata": {
        "id": "Qb9WcL7ZtPZE"
      },
      "source": [
        "# Defines the optimiser used to adjust the model weights and compiles the model.\n",
        "optimiser = SGD(learning_rate=LEARNING_RATE)\n",
        "model_1.compile(optimizer=optimiser, loss=\"binary_crossentropy\", metrics=[\"accuracy\"])"
      ],
      "execution_count": 15,
      "outputs": []
    },
    {
      "cell_type": "code",
      "metadata": {
        "colab": {
          "base_uri": "https://localhost:8080/"
        },
        "id": "SOy4ArHyvIhR",
        "outputId": "3261d7a4-a4e8-408d-ac6f-5b1107ae2ef1"
      },
      "source": [
        "# Use data generator to pass the training and validation data to the model to train it.\n",
        "history_1 = model_1.fit(data_generator.flow(train_x, train_y, batch_size=BATCH_SIZE),\n",
        "                    steps_per_epoch=len(train_x) / BATCH_SIZE,\n",
        "                    validation_data=data_generator.flow(val_x, val_y, batch_size=BATCH_SIZE),\n",
        "                    validation_steps=len(val_x) / BATCH_SIZE,\n",
        "                    epochs=NUM_EPOCHS)"
      ],
      "execution_count": 16,
      "outputs": [
        {
          "output_type": "stream",
          "name": "stdout",
          "text": [
            "Epoch 1/10\n",
            "73/73 [==============================] - 6s 55ms/step - loss: 0.6579 - accuracy: 0.7413 - val_loss: 0.6410 - val_accuracy: 0.7424\n",
            "Epoch 2/10\n",
            "73/73 [==============================] - 2s 25ms/step - loss: 0.6282 - accuracy: 0.7421 - val_loss: 0.6204 - val_accuracy: 0.7424\n",
            "Epoch 3/10\n",
            "73/73 [==============================] - 2s 23ms/step - loss: 0.6087 - accuracy: 0.7421 - val_loss: 0.6036 - val_accuracy: 0.7424\n",
            "Epoch 4/10\n",
            "73/73 [==============================] - 2s 24ms/step - loss: 0.5925 - accuracy: 0.7421 - val_loss: 0.5900 - val_accuracy: 0.7424\n",
            "Epoch 5/10\n",
            "73/73 [==============================] - 2s 25ms/step - loss: 0.5813 - accuracy: 0.7421 - val_loss: 0.5787 - val_accuracy: 0.7424\n",
            "Epoch 6/10\n",
            "73/73 [==============================] - 2s 24ms/step - loss: 0.5704 - accuracy: 0.7421 - val_loss: 0.5724 - val_accuracy: 0.7424\n",
            "Epoch 7/10\n",
            "73/73 [==============================] - 2s 24ms/step - loss: 0.5607 - accuracy: 0.7421 - val_loss: 0.5649 - val_accuracy: 0.7424\n",
            "Epoch 8/10\n",
            "73/73 [==============================] - 2s 24ms/step - loss: 0.5526 - accuracy: 0.7421 - val_loss: 0.5540 - val_accuracy: 0.7424\n",
            "Epoch 9/10\n",
            "73/73 [==============================] - 2s 25ms/step - loss: 0.5440 - accuracy: 0.7421 - val_loss: 0.5465 - val_accuracy: 0.7424\n",
            "Epoch 10/10\n",
            "73/73 [==============================] - 2s 30ms/step - loss: 0.5360 - accuracy: 0.7421 - val_loss: 0.5420 - val_accuracy: 0.7424\n"
          ]
        }
      ]
    },
    {
      "cell_type": "markdown",
      "metadata": {
        "id": "0bw_0oKy4UdI"
      },
      "source": [
        "## Plot Learning Curves\n",
        "This is where we visualise the training of the model."
      ]
    },
    {
      "cell_type": "code",
      "metadata": {
        "colab": {
          "base_uri": "https://localhost:8080/",
          "height": 472
        },
        "id": "8DOxQYV0oDmJ",
        "outputId": "e11113ef-0a6c-4519-edf2-a76771be66ac"
      },
      "source": [
        "# Plots the training and validation accuracy over the number of epochs.\n",
        "plt.plot(history_1.history['accuracy'])\n",
        "plt.plot(history_1.history['val_accuracy'])\n",
        "\n",
        "# Add plot title.\n",
        "plt.title('Model Accuracy')\n",
        "\n",
        "# Add plot axes labels.\n",
        "plt.ylabel('Accuracy')\n",
        "plt.xlabel('Epoch')\n",
        "\n",
        "# Add plot legend to distinguish between training and validation accuracy lines.\n",
        "plt.legend(['Train', 'Validation'], loc='lower right')\n",
        "\n",
        "# Show the plot.\n",
        "plt.show()"
      ],
      "execution_count": 17,
      "outputs": [
        {
          "output_type": "display_data",
          "data": {
            "text/plain": [
              "<Figure size 640x480 with 1 Axes>"
            ],
            "image/png": "[encoded data removed]"
          },
          "metadata": {}
        }
      ]
    },
    {
      "cell_type": "markdown",
      "source": [
        "The training accuracy is moderately low at the beginning, increasing rapidly before flattening out at approximately 3.5 epochs. This indicates that the addition of more training examples does not improve the models performance on the training dataset.\n",
        "\n",
        "---\n",
        "\n"
      ],
      "metadata": {
        "id": "5X4LvRZxyUZy"
      }
    },
    {
      "cell_type": "code",
      "metadata": {
        "id": "ZSQWVOnY4cdA",
        "colab": {
          "base_uri": "https://localhost:8080/",
          "height": 472
        },
        "outputId": "1a35326a-dbf5-4e50-cba2-aa90a0006d3c"
      },
      "source": [
        "# Plots the training and validation loss over the number of epochs.\n",
        "plt.plot(history_1.history['loss'])\n",
        "plt.plot(history_1.history['val_loss'])\n",
        "\n",
        "# Add plot title.\n",
        "plt.title('Model Loss')\n",
        "\n",
        "# Add plot axes labels.\n",
        "plt.ylabel('Loss')\n",
        "plt.xlabel('Epoch')\n",
        "\n",
        "# Add plot legend to distinguish between training and validation accuracy lines.\n",
        "plt.legend(['Train', 'Validation'], loc='upper right')\n",
        "\n",
        "# Show the plot.\n",
        "plt.show()"
      ],
      "execution_count": 18,
      "outputs": [
        {
          "output_type": "display_data",
          "data": {
            "text/plain": [
              "<Figure size 640x480 with 1 Axes>"
            ],
            "image/png": "[encoded data removed]"
          },
          "metadata": {}
        }
      ]
    },
    {
      "cell_type": "markdown",
      "source": [
        "## Testing"
      ],
      "metadata": {
        "id": "pp_oVWL6JPti"
      }
    },
    {
      "cell_type": "code",
      "source": [
        "test_loss_1, test_acc_1 = model_1.evaluate(train_x, train_y)"
      ],
      "metadata": {
        "colab": {
          "base_uri": "https://localhost:8080/"
        },
        "id": "uoz1XbfPJPWQ",
        "outputId": "ebe7c65b-66b1-448f-8378-d7bafa170b35"
      },
      "execution_count": 19,
      "outputs": [
        {
          "output_type": "stream",
          "name": "stdout",
          "text": [
            "148/148 [==============================] - 1s 4ms/step - loss: 42.9241 - accuracy: 0.7421\n"
          ]
        }
      ]
    },
    {
      "cell_type": "markdown",
      "source": [
        "\n",
        "\n",
        "---\n",
        "#**Part 2 - A network with only dense layers**\n"
      ],
      "metadata": {
        "id": "c4VQU_S6EdzS"
      }
    },
    {
      "cell_type": "markdown",
      "metadata": {
        "id": "pTGN_THiJaVx"
      },
      "source": [
        "## Model Definition\n"
      ]
    },
    {
      "cell_type": "markdown",
      "source": [
        "This model has been designed to have a similar number of parameters to model_1. This was achieved by adjusting the number of units in each of the dense layers.\n",
        "\n",
        "> Model_1 has a total of 10369 parameters, and model_2 has 10371 parameters.\n",
        "\n",
        "\n",
        "\n",
        "\n",
        "\n"
      ],
      "metadata": {
        "id": "8KtKc80uIEXm"
      }
    },
    {
      "cell_type": "code",
      "metadata": {
        "colab": {
          "base_uri": "https://localhost:8080/"
        },
        "outputId": "644f81ec-7858-4740-a11b-15083fbfaa81",
        "id": "8RH8MwGmJaVy"
      },
      "source": [
        "# Define the input layer of the model with the size of an image.\n",
        "input = layers.Input(shape=train_x[0].shape)\n",
        "\n",
        "# Flattens the outputs of the input layer into a 1D array.\n",
        "flatten = layers.Flatten()(input)\n",
        "\n",
        "# Dense layer 1 with 13 units and ReLU activation.\n",
        "dense_1 = layers.Dense(units=13, activation=\"relu\")(flatten)\n",
        "\n",
        "# Dense layer 2 with 11 units and ReLU activation.\n",
        "dense_2 = layers.Dense(units=11, activation=\"relu\")(dense_1)\n",
        "\n",
        "# Defines the output layer with a single node and sigmoid activation for binary classification.\n",
        "output = layers.Dense(units=1, activation=\"sigmoid\")(dense_2)\n",
        "\n",
        "# Initializes the defined model with the input and output layers.\n",
        "model_2 = Model(inputs=input, outputs=output, name=\"Model_2\")\n",
        "\n",
        "# Print the summary of the model.\n",
        "model_2.summary()\n"
      ],
      "execution_count": 20,
      "outputs": [
        {
          "output_type": "stream",
          "name": "stdout",
          "text": [
            "Model: \"Model_2\"\n",
            "_________________________________________________________________\n",
            " Layer (type)                Output Shape              Param #   \n",
            "=================================================================\n",
            " input_2 (InputLayer)        [(None, 28, 28, 1)]       0         \n",
            "                                                                 \n",
            " flatten_1 (Flatten)         (None, 784)               0         \n",
            "                                                                 \n",
            " dense_1 (Dense)             (None, 13)                10205     \n",
            "                                                                 \n",
            " dense_2 (Dense)             (None, 11)                154       \n",
            "                                                                 \n",
            " dense_3 (Dense)             (None, 1)                 12        \n",
            "                                                                 \n",
            "=================================================================\n",
            "Total params: 10371 (40.51 KB)\n",
            "Trainable params: 10371 (40.51 KB)\n",
            "Non-trainable params: 0 (0.00 Byte)\n",
            "_________________________________________________________________\n"
          ]
        }
      ]
    },
    {
      "cell_type": "markdown",
      "metadata": {
        "id": "b_3TLHsvJaVy"
      },
      "source": [
        "## Model Training\n",
        "This is where we define the training options and then train the model.\n"
      ]
    },
    {
      "cell_type": "code",
      "metadata": {
        "id": "bBh5Q0-mJaVz"
      },
      "source": [
        "# Defines the parameters used during training.\n",
        "# Since the training regime is to be the same as for model_1, these parameters are the same as they were previously.\n",
        "BATCH_SIZE = 64\n",
        "NUM_EPOCHS = 10\n",
        "LEARNING_RATE = 0.001"
      ],
      "execution_count": 21,
      "outputs": []
    },
    {
      "cell_type": "code",
      "metadata": {
        "id": "NhNxMt_lJaVz"
      },
      "source": [
        "# Define the optimizer with the above specified learning rate.\n",
        "optimizer = SGD(learning_rate=LEARNING_RATE)\n",
        "\n",
        "# Compile the model with the above defined optimizer, binary crossentropy loss, and accuracy metric.\n",
        "model_2.compile(optimizer=optimizer, loss=\"binary_crossentropy\", metrics=[\"accuracy\"])"
      ],
      "execution_count": 22,
      "outputs": []
    },
    {
      "cell_type": "code",
      "metadata": {
        "colab": {
          "base_uri": "https://localhost:8080/",
          "height": 615
        },
        "outputId": "a4456205-98c1-4f26-dc15-010df6683b4e",
        "id": "OLj3V4PpJaVz"
      },
      "source": [
        "# Train the model using training data generated in batches by the data generator.\n",
        "history_2 = model_2.fit(\n",
        "    data_generator.flow(train_x, train_y, batch_size=BATCH_SIZE),\n",
        "    # Calculate steps per epoch based on the number of training samples and batch size.\n",
        "    steps_per_epoch=len(train_x) / BATCH_SIZE,\n",
        "    # Use validation data generated in batches by the data generator.\n",
        "    validation_data=data_generator.flow(val_x, val_y, batch_size=BATCH_SIZE),\n",
        "    # Calculate validation steps based on the number of validation samples and batch size.\n",
        "    validation_steps=len(val_x) / BATCH_SIZE,\n",
        "    # Number of epochs to train the model.\n",
        "    epochs=NUM_EPOCHS\n",
        ")\n"
      ],
      "execution_count": 23,
      "outputs": [
        {
          "output_type": "stream",
          "name": "stdout",
          "text": [
            "Epoch 1/10\n",
            "73/73 [==============================] - 1s 8ms/step - loss: 0.5955 - accuracy: 0.6941 - val_loss: 0.5651 - val_accuracy: 0.7214\n",
            "Epoch 2/10\n",
            "73/73 [==============================] - 0s 7ms/step - loss: 0.5134 - accuracy: 0.7640 - val_loss: 0.5018 - val_accuracy: 0.7672\n",
            "Epoch 3/10\n",
            "73/73 [==============================] - 0s 6ms/step - loss: 0.4662 - accuracy: 0.7923 - val_loss: 0.4674 - val_accuracy: 0.7901\n",
            "Epoch 4/10\n",
            "73/73 [==============================] - 0s 7ms/step - loss: 0.4278 - accuracy: 0.8105 - val_loss: 0.4295 - val_accuracy: 0.8053\n",
            "Epoch 5/10\n",
            "73/73 [==============================] - 0s 7ms/step - loss: 0.3962 - accuracy: 0.8282 - val_loss: 0.4044 - val_accuracy: 0.8092\n",
            "Epoch 6/10\n",
            "73/73 [==============================] - 0s 7ms/step - loss: 0.3722 - accuracy: 0.8379 - val_loss: 0.3718 - val_accuracy: 0.8206\n",
            "Epoch 7/10\n",
            "40/73 [===============>..............] - ETA: 0s - loss: 0.3544 - accuracy: 0.8420"
          ]
        },
        {
          "output_type": "error",
          "ename": "KeyboardInterrupt",
          "evalue": "",
          "traceback": [
            "\u001b[0;31m---------------------------------------------------------------------------\u001b[0m",
            "\u001b[0;31mKeyboardInterrupt\u001b[0m                         Traceback (most recent call last)",
            "\u001b[0;32m<ipython-input-23-4e057a6ae430>\u001b[0m in \u001b[0;36m<cell line: 2>\u001b[0;34m()\u001b[0m\n\u001b[1;32m      1\u001b[0m \u001b[0;31m# Train the model using training data generated in batches by the data generator.\u001b[0m\u001b[0;34m\u001b[0m\u001b[0;34m\u001b[0m\u001b[0m\n\u001b[0;32m----> 2\u001b[0;31m history_2 = model_2.fit(\n\u001b[0m\u001b[1;32m      3\u001b[0m     \u001b[0mdata_generator\u001b[0m\u001b[0;34m.\u001b[0m\u001b[0mflow\u001b[0m\u001b[0;34m(\u001b[0m\u001b[0mtrain_x\u001b[0m\u001b[0;34m,\u001b[0m \u001b[0mtrain_y\u001b[0m\u001b[0;34m,\u001b[0m \u001b[0mbatch_size\u001b[0m\u001b[0;34m=\u001b[0m\u001b[0mBATCH_SIZE\u001b[0m\u001b[0;34m)\u001b[0m\u001b[0;34m,\u001b[0m\u001b[0;34m\u001b[0m\u001b[0;34m\u001b[0m\u001b[0m\n\u001b[1;32m      4\u001b[0m     \u001b[0;31m# Calculate steps per epoch based on the number of training samples and batch size.\u001b[0m\u001b[0;34m\u001b[0m\u001b[0;34m\u001b[0m\u001b[0m\n\u001b[1;32m      5\u001b[0m     \u001b[0msteps_per_epoch\u001b[0m\u001b[0;34m=\u001b[0m\u001b[0mlen\u001b[0m\u001b[0;34m(\u001b[0m\u001b[0mtrain_x\u001b[0m\u001b[0;34m)\u001b[0m \u001b[0;34m/\u001b[0m \u001b[0mBATCH_SIZE\u001b[0m\u001b[0;34m,\u001b[0m\u001b[0;34m\u001b[0m\u001b[0;34m\u001b[0m\u001b[0m\n",
            "\u001b[0;32m/usr/local/lib/python3.10/dist-packages/keras/src/utils/traceback_utils.py\u001b[0m in \u001b[0;36merror_handler\u001b[0;34m(*args, **kwargs)\u001b[0m\n\u001b[1;32m     63\u001b[0m         \u001b[0mfiltered_tb\u001b[0m \u001b[0;34m=\u001b[0m \u001b[0;32mNone\u001b[0m\u001b[0;34m\u001b[0m\u001b[0;34m\u001b[0m\u001b[0m\n\u001b[1;32m     64\u001b[0m         \u001b[0;32mtry\u001b[0m\u001b[0;34m:\u001b[0m\u001b[0;34m\u001b[0m\u001b[0;34m\u001b[0m\u001b[0m\n\u001b[0;32m---> 65\u001b[0;31m             \u001b[0;32mreturn\u001b[0m \u001b[0mfn\u001b[0m\u001b[0;34m(\u001b[0m\u001b[0;34m*\u001b[0m\u001b[0margs\u001b[0m\u001b[0;34m,\u001b[0m \u001b[0;34m**\u001b[0m\u001b[0mkwargs\u001b[0m\u001b[0;34m)\u001b[0m\u001b[0;34m\u001b[0m\u001b[0;34m\u001b[0m\u001b[0m\n\u001b[0m\u001b[1;32m     66\u001b[0m         \u001b[0;32mexcept\u001b[0m \u001b[0mException\u001b[0m \u001b[0;32mas\u001b[0m \u001b[0me\u001b[0m\u001b[0;34m:\u001b[0m\u001b[0;34m\u001b[0m\u001b[0;34m\u001b[0m\u001b[0m\n\u001b[1;32m     67\u001b[0m             \u001b[0mfiltered_tb\u001b[0m \u001b[0;34m=\u001b[0m \u001b[0m_process_traceback_frames\u001b[0m\u001b[0;34m(\u001b[0m\u001b[0me\u001b[0m\u001b[0;34m.\u001b[0m\u001b[0m__traceback__\u001b[0m\u001b[0;34m)\u001b[0m\u001b[0;34m\u001b[0m\u001b[0;34m\u001b[0m\u001b[0m\n",
            "\u001b[0;32m/usr/local/lib/python3.10/dist-packages/keras/src/engine/training.py\u001b[0m in \u001b[0;36mfit\u001b[0;34m(self, x, y, batch_size, epochs, verbose, callbacks, validation_split, validation_data, shuffle, class_weight, sample_weight, initial_epoch, steps_per_epoch, validation_steps, validation_batch_size, validation_freq, max_queue_size, workers, use_multiprocessing)\u001b[0m\n\u001b[1;32m   1805\u001b[0m                         ):\n\u001b[1;32m   1806\u001b[0m                             \u001b[0mcallbacks\u001b[0m\u001b[0;34m.\u001b[0m\u001b[0mon_train_batch_begin\u001b[0m\u001b[0;34m(\u001b[0m\u001b[0mstep\u001b[0m\u001b[0;34m)\u001b[0m\u001b[0;34m\u001b[0m\u001b[0;34m\u001b[0m\u001b[0m\n\u001b[0;32m-> 1807\u001b[0;31m                             \u001b[0mtmp_logs\u001b[0m \u001b[0;34m=\u001b[0m \u001b[0mself\u001b[0m\u001b[0;34m.\u001b[0m\u001b[0mtrain_function\u001b[0m\u001b[0;34m(\u001b[0m\u001b[0miterator\u001b[0m\u001b[0;34m)\u001b[0m\u001b[0;34m\u001b[0m\u001b[0;34m\u001b[0m\u001b[0m\n\u001b[0m\u001b[1;32m   1808\u001b[0m                             \u001b[0;32mif\u001b[0m \u001b[0mdata_handler\u001b[0m\u001b[0;34m.\u001b[0m\u001b[0mshould_sync\u001b[0m\u001b[0;34m:\u001b[0m\u001b[0;34m\u001b[0m\u001b[0;34m\u001b[0m\u001b[0m\n\u001b[1;32m   1809\u001b[0m                                 \u001b[0mcontext\u001b[0m\u001b[0;34m.\u001b[0m\u001b[0masync_wait\u001b[0m\u001b[0;34m(\u001b[0m\u001b[0;34m)\u001b[0m\u001b[0;34m\u001b[0m\u001b[0;34m\u001b[0m\u001b[0m\n",
            "\u001b[0;32m/usr/local/lib/python3.10/dist-packages/tensorflow/python/util/traceback_utils.py\u001b[0m in \u001b[0;36merror_handler\u001b[0;34m(*args, **kwargs)\u001b[0m\n\u001b[1;32m    148\u001b[0m     \u001b[0mfiltered_tb\u001b[0m \u001b[0;34m=\u001b[0m \u001b[0;32mNone\u001b[0m\u001b[0;34m\u001b[0m\u001b[0;34m\u001b[0m\u001b[0m\n\u001b[1;32m    149\u001b[0m     \u001b[0;32mtry\u001b[0m\u001b[0;34m:\u001b[0m\u001b[0;34m\u001b[0m\u001b[0;34m\u001b[0m\u001b[0m\n\u001b[0;32m--> 150\u001b[0;31m       \u001b[0;32mreturn\u001b[0m \u001b[0mfn\u001b[0m\u001b[0;34m(\u001b[0m\u001b[0;34m*\u001b[0m\u001b[0margs\u001b[0m\u001b[0;34m,\u001b[0m \u001b[0;34m**\u001b[0m\u001b[0mkwargs\u001b[0m\u001b[0;34m)\u001b[0m\u001b[0;34m\u001b[0m\u001b[0;34m\u001b[0m\u001b[0m\n\u001b[0m\u001b[1;32m    151\u001b[0m     \u001b[0;32mexcept\u001b[0m \u001b[0mException\u001b[0m \u001b[0;32mas\u001b[0m \u001b[0me\u001b[0m\u001b[0;34m:\u001b[0m\u001b[0;34m\u001b[0m\u001b[0;34m\u001b[0m\u001b[0m\n\u001b[1;32m    152\u001b[0m       \u001b[0mfiltered_tb\u001b[0m \u001b[0;34m=\u001b[0m \u001b[0m_process_traceback_frames\u001b[0m\u001b[0;34m(\u001b[0m\u001b[0me\u001b[0m\u001b[0;34m.\u001b[0m\u001b[0m__traceback__\u001b[0m\u001b[0;34m)\u001b[0m\u001b[0;34m\u001b[0m\u001b[0;34m\u001b[0m\u001b[0m\n",
            "\u001b[0;32m/usr/local/lib/python3.10/dist-packages/tensorflow/python/eager/polymorphic_function/polymorphic_function.py\u001b[0m in \u001b[0;36m__call__\u001b[0;34m(self, *args, **kwds)\u001b[0m\n\u001b[1;32m    830\u001b[0m \u001b[0;34m\u001b[0m\u001b[0m\n\u001b[1;32m    831\u001b[0m       \u001b[0;32mwith\u001b[0m \u001b[0mOptionalXlaContext\u001b[0m\u001b[0;34m(\u001b[0m\u001b[0mself\u001b[0m\u001b[0;34m.\u001b[0m\u001b[0m_jit_compile\u001b[0m\u001b[0;34m)\u001b[0m\u001b[0;34m:\u001b[0m\u001b[0;34m\u001b[0m\u001b[0;34m\u001b[0m\u001b[0m\n\u001b[0;32m--> 832\u001b[0;31m         \u001b[0mresult\u001b[0m \u001b[0;34m=\u001b[0m \u001b[0mself\u001b[0m\u001b[0;34m.\u001b[0m\u001b[0m_call\u001b[0m\u001b[0;34m(\u001b[0m\u001b[0;34m*\u001b[0m\u001b[0margs\u001b[0m\u001b[0;34m,\u001b[0m \u001b[0;34m**\u001b[0m\u001b[0mkwds\u001b[0m\u001b[0;34m)\u001b[0m\u001b[0;34m\u001b[0m\u001b[0;34m\u001b[0m\u001b[0m\n\u001b[0m\u001b[1;32m    833\u001b[0m \u001b[0;34m\u001b[0m\u001b[0m\n\u001b[1;32m    834\u001b[0m       \u001b[0mnew_tracing_count\u001b[0m \u001b[0;34m=\u001b[0m \u001b[0mself\u001b[0m\u001b[0;34m.\u001b[0m\u001b[0mexperimental_get_tracing_count\u001b[0m\u001b[0;34m(\u001b[0m\u001b[0;34m)\u001b[0m\u001b[0;34m\u001b[0m\u001b[0;34m\u001b[0m\u001b[0m\n",
            "\u001b[0;32m/usr/local/lib/python3.10/dist-packages/tensorflow/python/eager/polymorphic_function/polymorphic_function.py\u001b[0m in \u001b[0;36m_call\u001b[0;34m(self, *args, **kwds)\u001b[0m\n\u001b[1;32m    866\u001b[0m       \u001b[0;31m# In this case we have created variables on the first call, so we run the\u001b[0m\u001b[0;34m\u001b[0m\u001b[0;34m\u001b[0m\u001b[0m\n\u001b[1;32m    867\u001b[0m       \u001b[0;31m# defunned version which is guaranteed to never create variables.\u001b[0m\u001b[0;34m\u001b[0m\u001b[0;34m\u001b[0m\u001b[0m\n\u001b[0;32m--> 868\u001b[0;31m       return tracing_compilation.call_function(\n\u001b[0m\u001b[1;32m    869\u001b[0m           \u001b[0margs\u001b[0m\u001b[0;34m,\u001b[0m \u001b[0mkwds\u001b[0m\u001b[0;34m,\u001b[0m \u001b[0mself\u001b[0m\u001b[0;34m.\u001b[0m\u001b[0m_no_variable_creation_config\u001b[0m\u001b[0;34m\u001b[0m\u001b[0;34m\u001b[0m\u001b[0m\n\u001b[1;32m    870\u001b[0m       )\n",
            "\u001b[0;32m/usr/local/lib/python3.10/dist-packages/tensorflow/python/eager/polymorphic_function/tracing_compilation.py\u001b[0m in \u001b[0;36mcall_function\u001b[0;34m(args, kwargs, tracing_options)\u001b[0m\n\u001b[1;32m    136\u001b[0m   \u001b[0;31m# Bind it ourselves to skip unnecessary canonicalization of default call.\u001b[0m\u001b[0;34m\u001b[0m\u001b[0;34m\u001b[0m\u001b[0m\n\u001b[1;32m    137\u001b[0m   \u001b[0mbound_args\u001b[0m \u001b[0;34m=\u001b[0m \u001b[0mfunction\u001b[0m\u001b[0;34m.\u001b[0m\u001b[0mfunction_type\u001b[0m\u001b[0;34m.\u001b[0m\u001b[0mbind\u001b[0m\u001b[0;34m(\u001b[0m\u001b[0;34m*\u001b[0m\u001b[0margs\u001b[0m\u001b[0;34m,\u001b[0m \u001b[0;34m**\u001b[0m\u001b[0mkwargs\u001b[0m\u001b[0;34m)\u001b[0m\u001b[0;34m\u001b[0m\u001b[0;34m\u001b[0m\u001b[0m\n\u001b[0;32m--> 138\u001b[0;31m   \u001b[0mflat_inputs\u001b[0m \u001b[0;34m=\u001b[0m \u001b[0mfunction\u001b[0m\u001b[0;34m.\u001b[0m\u001b[0mfunction_type\u001b[0m\u001b[0;34m.\u001b[0m\u001b[0munpack_inputs\u001b[0m\u001b[0;34m(\u001b[0m\u001b[0mbound_args\u001b[0m\u001b[0;34m)\u001b[0m\u001b[0;34m\u001b[0m\u001b[0;34m\u001b[0m\u001b[0m\n\u001b[0m\u001b[1;32m    139\u001b[0m   return function._call_flat(  # pylint: disable=protected-access\n\u001b[1;32m    140\u001b[0m       \u001b[0mflat_inputs\u001b[0m\u001b[0;34m,\u001b[0m \u001b[0mcaptured_inputs\u001b[0m\u001b[0;34m=\u001b[0m\u001b[0mfunction\u001b[0m\u001b[0;34m.\u001b[0m\u001b[0mcaptured_inputs\u001b[0m\u001b[0;34m\u001b[0m\u001b[0;34m\u001b[0m\u001b[0m\n",
            "\u001b[0;32m/usr/local/lib/python3.10/dist-packages/tensorflow/core/function/polymorphism/function_type.py\u001b[0m in \u001b[0;36munpack_inputs\u001b[0;34m(self, bound_parameters)\u001b[0m\n\u001b[1;32m    389\u001b[0m     \u001b[0;32mfor\u001b[0m \u001b[0mp\u001b[0m \u001b[0;32min\u001b[0m \u001b[0msorted_parameters\u001b[0m\u001b[0;34m:\u001b[0m\u001b[0;34m\u001b[0m\u001b[0;34m\u001b[0m\u001b[0m\n\u001b[1;32m    390\u001b[0m       flat.extend(\n\u001b[0;32m--> 391\u001b[0;31m           \u001b[0mp\u001b[0m\u001b[0;34m.\u001b[0m\u001b[0mtype_constraint\u001b[0m\u001b[0;34m.\u001b[0m\u001b[0mto_tensors\u001b[0m\u001b[0;34m(\u001b[0m\u001b[0mbound_parameters\u001b[0m\u001b[0;34m.\u001b[0m\u001b[0marguments\u001b[0m\u001b[0;34m[\u001b[0m\u001b[0mp\u001b[0m\u001b[0;34m.\u001b[0m\u001b[0mname\u001b[0m\u001b[0;34m]\u001b[0m\u001b[0;34m)\u001b[0m\u001b[0;34m\u001b[0m\u001b[0;34m\u001b[0m\u001b[0m\n\u001b[0m\u001b[1;32m    392\u001b[0m       )\n\u001b[1;32m    393\u001b[0m \u001b[0;34m\u001b[0m\u001b[0m\n",
            "\u001b[0;32m/usr/local/lib/python3.10/dist-packages/tensorflow/python/framework/type_spec.py\u001b[0m in \u001b[0;36mto_tensors\u001b[0;34m(self, value)\u001b[0m\n\u001b[1;32m    250\u001b[0m \u001b[0;34m\u001b[0m\u001b[0m\n\u001b[1;32m    251\u001b[0m     \u001b[0mtensors\u001b[0m \u001b[0;34m=\u001b[0m \u001b[0;34m[\u001b[0m\u001b[0;34m]\u001b[0m\u001b[0;34m\u001b[0m\u001b[0;34m\u001b[0m\u001b[0m\n\u001b[0;32m--> 252\u001b[0;31m     nest.map_structure(\n\u001b[0m\u001b[1;32m    253\u001b[0m         \u001b[0;32mlambda\u001b[0m \u001b[0mspec\u001b[0m\u001b[0;34m,\u001b[0m \u001b[0mv\u001b[0m\u001b[0;34m:\u001b[0m \u001b[0mtensors\u001b[0m\u001b[0;34m.\u001b[0m\u001b[0mextend\u001b[0m\u001b[0;34m(\u001b[0m\u001b[0mspec\u001b[0m\u001b[0;34m.\u001b[0m\u001b[0mto_tensors\u001b[0m\u001b[0;34m(\u001b[0m\u001b[0mv\u001b[0m\u001b[0;34m)\u001b[0m\u001b[0;34m)\u001b[0m\u001b[0;34m,\u001b[0m\u001b[0;34m\u001b[0m\u001b[0;34m\u001b[0m\u001b[0m\n\u001b[1;32m    254\u001b[0m         \u001b[0mself\u001b[0m\u001b[0;34m.\u001b[0m\u001b[0m_component_specs\u001b[0m\u001b[0;34m,\u001b[0m\u001b[0;34m\u001b[0m\u001b[0;34m\u001b[0m\u001b[0m\n",
            "\u001b[0;32m/usr/local/lib/python3.10/dist-packages/tensorflow/python/util/nest.py\u001b[0m in \u001b[0;36mmap_structure\u001b[0;34m(func, *structure, **kwargs)\u001b[0m\n\u001b[1;32m    629\u001b[0m     \u001b[0mValueError\u001b[0m\u001b[0;34m:\u001b[0m \u001b[0mIf\u001b[0m \u001b[0mwrong\u001b[0m \u001b[0mkeyword\u001b[0m \u001b[0marguments\u001b[0m \u001b[0mare\u001b[0m \u001b[0mprovided\u001b[0m\u001b[0;34m.\u001b[0m\u001b[0;34m\u001b[0m\u001b[0;34m\u001b[0m\u001b[0m\n\u001b[1;32m    630\u001b[0m   \"\"\"\n\u001b[0;32m--> 631\u001b[0;31m   return nest_util.map_structure(\n\u001b[0m\u001b[1;32m    632\u001b[0m       \u001b[0mnest_util\u001b[0m\u001b[0;34m.\u001b[0m\u001b[0mModality\u001b[0m\u001b[0;34m.\u001b[0m\u001b[0mCORE\u001b[0m\u001b[0;34m,\u001b[0m \u001b[0mfunc\u001b[0m\u001b[0;34m,\u001b[0m \u001b[0;34m*\u001b[0m\u001b[0mstructure\u001b[0m\u001b[0;34m,\u001b[0m \u001b[0;34m**\u001b[0m\u001b[0mkwargs\u001b[0m\u001b[0;34m\u001b[0m\u001b[0;34m\u001b[0m\u001b[0m\n\u001b[1;32m    633\u001b[0m   )\n",
            "\u001b[0;32m/usr/local/lib/python3.10/dist-packages/tensorflow/python/util/nest_util.py\u001b[0m in \u001b[0;36mmap_structure\u001b[0;34m(modality, func, *structure, **kwargs)\u001b[0m\n\u001b[1;32m   1064\u001b[0m   \"\"\"\n\u001b[1;32m   1065\u001b[0m   \u001b[0;32mif\u001b[0m \u001b[0mmodality\u001b[0m \u001b[0;34m==\u001b[0m \u001b[0mModality\u001b[0m\u001b[0;34m.\u001b[0m\u001b[0mCORE\u001b[0m\u001b[0;34m:\u001b[0m\u001b[0;34m\u001b[0m\u001b[0;34m\u001b[0m\u001b[0m\n\u001b[0;32m-> 1066\u001b[0;31m     \u001b[0;32mreturn\u001b[0m \u001b[0m_tf_core_map_structure\u001b[0m\u001b[0;34m(\u001b[0m\u001b[0mfunc\u001b[0m\u001b[0;34m,\u001b[0m \u001b[0;34m*\u001b[0m\u001b[0mstructure\u001b[0m\u001b[0;34m,\u001b[0m \u001b[0;34m**\u001b[0m\u001b[0mkwargs\u001b[0m\u001b[0;34m)\u001b[0m\u001b[0;34m\u001b[0m\u001b[0;34m\u001b[0m\u001b[0m\n\u001b[0m\u001b[1;32m   1067\u001b[0m   \u001b[0;32melif\u001b[0m \u001b[0mmodality\u001b[0m \u001b[0;34m==\u001b[0m \u001b[0mModality\u001b[0m\u001b[0;34m.\u001b[0m\u001b[0mDATA\u001b[0m\u001b[0;34m:\u001b[0m\u001b[0;34m\u001b[0m\u001b[0;34m\u001b[0m\u001b[0m\n\u001b[1;32m   1068\u001b[0m     \u001b[0;32mreturn\u001b[0m \u001b[0m_tf_data_map_structure\u001b[0m\u001b[0;34m(\u001b[0m\u001b[0mfunc\u001b[0m\u001b[0;34m,\u001b[0m \u001b[0;34m*\u001b[0m\u001b[0mstructure\u001b[0m\u001b[0;34m,\u001b[0m \u001b[0;34m**\u001b[0m\u001b[0mkwargs\u001b[0m\u001b[0;34m)\u001b[0m\u001b[0;34m\u001b[0m\u001b[0;34m\u001b[0m\u001b[0m\n",
            "\u001b[0;32m/usr/local/lib/python3.10/dist-packages/tensorflow/python/util/nest_util.py\u001b[0m in \u001b[0;36m_tf_core_map_structure\u001b[0;34m(func, *structure, **kwargs)\u001b[0m\n\u001b[1;32m   1104\u001b[0m   return _tf_core_pack_sequence_as(\n\u001b[1;32m   1105\u001b[0m       \u001b[0mstructure\u001b[0m\u001b[0;34m[\u001b[0m\u001b[0;36m0\u001b[0m\u001b[0;34m]\u001b[0m\u001b[0;34m,\u001b[0m\u001b[0;34m\u001b[0m\u001b[0;34m\u001b[0m\u001b[0m\n\u001b[0;32m-> 1106\u001b[0;31m       \u001b[0;34m[\u001b[0m\u001b[0mfunc\u001b[0m\u001b[0;34m(\u001b[0m\u001b[0;34m*\u001b[0m\u001b[0mx\u001b[0m\u001b[0;34m)\u001b[0m \u001b[0;32mfor\u001b[0m \u001b[0mx\u001b[0m \u001b[0;32min\u001b[0m \u001b[0mentries\u001b[0m\u001b[0;34m]\u001b[0m\u001b[0;34m,\u001b[0m\u001b[0;34m\u001b[0m\u001b[0;34m\u001b[0m\u001b[0m\n\u001b[0m\u001b[1;32m   1107\u001b[0m       \u001b[0mexpand_composites\u001b[0m\u001b[0;34m=\u001b[0m\u001b[0mexpand_composites\u001b[0m\u001b[0;34m,\u001b[0m\u001b[0;34m\u001b[0m\u001b[0;34m\u001b[0m\u001b[0m\n\u001b[1;32m   1108\u001b[0m   )\n",
            "\u001b[0;32m/usr/local/lib/python3.10/dist-packages/tensorflow/python/util/nest_util.py\u001b[0m in \u001b[0;36m<listcomp>\u001b[0;34m(.0)\u001b[0m\n\u001b[1;32m   1104\u001b[0m   return _tf_core_pack_sequence_as(\n\u001b[1;32m   1105\u001b[0m       \u001b[0mstructure\u001b[0m\u001b[0;34m[\u001b[0m\u001b[0;36m0\u001b[0m\u001b[0;34m]\u001b[0m\u001b[0;34m,\u001b[0m\u001b[0;34m\u001b[0m\u001b[0;34m\u001b[0m\u001b[0m\n\u001b[0;32m-> 1106\u001b[0;31m       \u001b[0;34m[\u001b[0m\u001b[0mfunc\u001b[0m\u001b[0;34m(\u001b[0m\u001b[0;34m*\u001b[0m\u001b[0mx\u001b[0m\u001b[0;34m)\u001b[0m \u001b[0;32mfor\u001b[0m \u001b[0mx\u001b[0m \u001b[0;32min\u001b[0m \u001b[0mentries\u001b[0m\u001b[0;34m]\u001b[0m\u001b[0;34m,\u001b[0m\u001b[0;34m\u001b[0m\u001b[0;34m\u001b[0m\u001b[0m\n\u001b[0m\u001b[1;32m   1107\u001b[0m       \u001b[0mexpand_composites\u001b[0m\u001b[0;34m=\u001b[0m\u001b[0mexpand_composites\u001b[0m\u001b[0;34m,\u001b[0m\u001b[0;34m\u001b[0m\u001b[0;34m\u001b[0m\u001b[0m\n\u001b[1;32m   1108\u001b[0m   )\n",
            "\u001b[0;32m/usr/local/lib/python3.10/dist-packages/tensorflow/python/framework/type_spec.py\u001b[0m in \u001b[0;36m<lambda>\u001b[0;34m(spec, v)\u001b[0m\n\u001b[1;32m    251\u001b[0m     \u001b[0mtensors\u001b[0m \u001b[0;34m=\u001b[0m \u001b[0;34m[\u001b[0m\u001b[0;34m]\u001b[0m\u001b[0;34m\u001b[0m\u001b[0;34m\u001b[0m\u001b[0m\n\u001b[1;32m    252\u001b[0m     nest.map_structure(\n\u001b[0;32m--> 253\u001b[0;31m         \u001b[0;32mlambda\u001b[0m \u001b[0mspec\u001b[0m\u001b[0;34m,\u001b[0m \u001b[0mv\u001b[0m\u001b[0;34m:\u001b[0m \u001b[0mtensors\u001b[0m\u001b[0;34m.\u001b[0m\u001b[0mextend\u001b[0m\u001b[0;34m(\u001b[0m\u001b[0mspec\u001b[0m\u001b[0;34m.\u001b[0m\u001b[0mto_tensors\u001b[0m\u001b[0;34m(\u001b[0m\u001b[0mv\u001b[0m\u001b[0;34m)\u001b[0m\u001b[0;34m)\u001b[0m\u001b[0;34m,\u001b[0m\u001b[0;34m\u001b[0m\u001b[0;34m\u001b[0m\u001b[0m\n\u001b[0m\u001b[1;32m    254\u001b[0m         \u001b[0mself\u001b[0m\u001b[0;34m.\u001b[0m\u001b[0m_component_specs\u001b[0m\u001b[0;34m,\u001b[0m\u001b[0;34m\u001b[0m\u001b[0;34m\u001b[0m\u001b[0m\n\u001b[1;32m    255\u001b[0m         self._to_components(value))\n",
            "\u001b[0;32m/usr/local/lib/python3.10/dist-packages/tensorflow/python/framework/tensor.py\u001b[0m in \u001b[0;36mto_tensors\u001b[0;34m(self, value)\u001b[0m\n\u001b[1;32m   1080\u001b[0m \u001b[0;34m\u001b[0m\u001b[0m\n\u001b[1;32m   1081\u001b[0m   \u001b[0;32mdef\u001b[0m \u001b[0mto_tensors\u001b[0m\u001b[0;34m(\u001b[0m\u001b[0mself\u001b[0m\u001b[0;34m,\u001b[0m \u001b[0mvalue\u001b[0m\u001b[0;34m)\u001b[0m\u001b[0;34m:\u001b[0m\u001b[0;34m\u001b[0m\u001b[0;34m\u001b[0m\u001b[0m\n\u001b[0;32m-> 1082\u001b[0;31m     \u001b[0mvalue\u001b[0m \u001b[0;34m=\u001b[0m \u001b[0mself\u001b[0m\u001b[0;34m.\u001b[0m\u001b[0mcast\u001b[0m\u001b[0;34m(\u001b[0m\u001b[0mvalue\u001b[0m\u001b[0;34m,\u001b[0m \u001b[0mtrace_type\u001b[0m\u001b[0;34m.\u001b[0m\u001b[0mInternalCastContext\u001b[0m\u001b[0;34m(\u001b[0m\u001b[0;34m)\u001b[0m\u001b[0;34m)\u001b[0m\u001b[0;34m\u001b[0m\u001b[0;34m\u001b[0m\u001b[0m\n\u001b[0m\u001b[1;32m   1083\u001b[0m     \u001b[0;32mif\u001b[0m \u001b[0;32mnot\u001b[0m \u001b[0mvalue\u001b[0m\u001b[0;34m.\u001b[0m\u001b[0mshape\u001b[0m\u001b[0;34m.\u001b[0m\u001b[0mis_subtype_of\u001b[0m\u001b[0;34m(\u001b[0m\u001b[0mself\u001b[0m\u001b[0;34m.\u001b[0m\u001b[0mshape\u001b[0m\u001b[0;34m)\u001b[0m\u001b[0;34m:\u001b[0m\u001b[0;34m\u001b[0m\u001b[0;34m\u001b[0m\u001b[0m\n\u001b[1;32m   1084\u001b[0m       raise TypeError(\n",
            "\u001b[0;32m/usr/local/lib/python3.10/dist-packages/tensorflow/python/framework/tensor.py\u001b[0m in \u001b[0;36mcast\u001b[0;34m(self, value, casting_context)\u001b[0m\n\u001b[1;32m   1108\u001b[0m     \u001b[0;32mif\u001b[0m \u001b[0;32mnot\u001b[0m \u001b[0misinstance\u001b[0m\u001b[0;34m(\u001b[0m\u001b[0mvalue\u001b[0m\u001b[0;34m,\u001b[0m \u001b[0mTensor\u001b[0m\u001b[0;34m)\u001b[0m\u001b[0;34m:\u001b[0m\u001b[0;34m\u001b[0m\u001b[0;34m\u001b[0m\u001b[0m\n\u001b[1;32m   1109\u001b[0m       \u001b[0mvalue\u001b[0m \u001b[0;34m=\u001b[0m \u001b[0mtensor_conversion_registry\u001b[0m\u001b[0;34m.\u001b[0m\u001b[0mconvert\u001b[0m\u001b[0;34m(\u001b[0m\u001b[0mvalue\u001b[0m\u001b[0;34m,\u001b[0m \u001b[0mself\u001b[0m\u001b[0;34m.\u001b[0m\u001b[0mdtype\u001b[0m\u001b[0;34m)\u001b[0m\u001b[0;34m\u001b[0m\u001b[0;34m\u001b[0m\u001b[0m\n\u001b[0;32m-> 1110\u001b[0;31m     \u001b[0mvalue_spec\u001b[0m \u001b[0;34m=\u001b[0m \u001b[0mTensorSpec\u001b[0m\u001b[0;34m(\u001b[0m\u001b[0mvalue\u001b[0m\u001b[0;34m.\u001b[0m\u001b[0mshape\u001b[0m\u001b[0;34m,\u001b[0m \u001b[0mvalue\u001b[0m\u001b[0;34m.\u001b[0m\u001b[0mdtype\u001b[0m\u001b[0;34m,\u001b[0m \u001b[0mself\u001b[0m\u001b[0;34m.\u001b[0m\u001b[0mname\u001b[0m\u001b[0;34m)\u001b[0m\u001b[0;34m\u001b[0m\u001b[0;34m\u001b[0m\u001b[0m\n\u001b[0m\u001b[1;32m   1111\u001b[0m \u001b[0;34m\u001b[0m\u001b[0m\n\u001b[1;32m   1112\u001b[0m     \u001b[0;32mif\u001b[0m \u001b[0;32mnot\u001b[0m \u001b[0mvalue_spec\u001b[0m\u001b[0;34m.\u001b[0m\u001b[0mis_subtype_of\u001b[0m\u001b[0;34m(\u001b[0m\u001b[0mself\u001b[0m\u001b[0;34m)\u001b[0m\u001b[0;34m:\u001b[0m\u001b[0;34m\u001b[0m\u001b[0;34m\u001b[0m\u001b[0m\n",
            "\u001b[0;32m/usr/local/lib/python3.10/dist-packages/tensorflow/python/framework/tensor.py\u001b[0m in \u001b[0;36m__init__\u001b[0;34m(self, shape, dtype, name)\u001b[0m\n\u001b[1;32m    864\u001b[0m         \u001b[0;32mnot\u001b[0m \u001b[0mconvertible\u001b[0m \u001b[0mto\u001b[0m \u001b[0ma\u001b[0m\u001b[0;31m \u001b[0m\u001b[0;31m`\u001b[0m\u001b[0mtf\u001b[0m\u001b[0;34m.\u001b[0m\u001b[0mDType\u001b[0m\u001b[0;31m`\u001b[0m\u001b[0;34m.\u001b[0m\u001b[0;34m\u001b[0m\u001b[0;34m\u001b[0m\u001b[0m\n\u001b[1;32m    865\u001b[0m     \"\"\"\n\u001b[0;32m--> 866\u001b[0;31m     \u001b[0mself\u001b[0m\u001b[0;34m.\u001b[0m\u001b[0m_shape\u001b[0m \u001b[0;34m=\u001b[0m \u001b[0mtensor_shape\u001b[0m\u001b[0;34m.\u001b[0m\u001b[0mTensorShape\u001b[0m\u001b[0;34m(\u001b[0m\u001b[0mshape\u001b[0m\u001b[0;34m)\u001b[0m\u001b[0;34m\u001b[0m\u001b[0;34m\u001b[0m\u001b[0m\n\u001b[0m\u001b[1;32m    867\u001b[0m     \u001b[0mself\u001b[0m\u001b[0;34m.\u001b[0m\u001b[0m_dtype\u001b[0m \u001b[0;34m=\u001b[0m \u001b[0mdtypes\u001b[0m\u001b[0;34m.\u001b[0m\u001b[0mas_dtype\u001b[0m\u001b[0;34m(\u001b[0m\u001b[0mdtype\u001b[0m\u001b[0;34m)\u001b[0m\u001b[0;34m\u001b[0m\u001b[0;34m\u001b[0m\u001b[0m\n\u001b[1;32m    868\u001b[0m     \u001b[0mself\u001b[0m\u001b[0;34m.\u001b[0m\u001b[0m_name\u001b[0m \u001b[0;34m=\u001b[0m \u001b[0mname\u001b[0m\u001b[0;34m\u001b[0m\u001b[0;34m\u001b[0m\u001b[0m\n",
            "\u001b[0;32m/usr/local/lib/python3.10/dist-packages/tensorflow/python/framework/tensor_shape.py\u001b[0m in \u001b[0;36m__init__\u001b[0;34m(self, dims)\u001b[0m\n\u001b[1;32m    831\u001b[0m     \u001b[0;32melif\u001b[0m \u001b[0mdims\u001b[0m \u001b[0;32mis\u001b[0m \u001b[0;32mNone\u001b[0m\u001b[0;34m:\u001b[0m\u001b[0;34m\u001b[0m\u001b[0;34m\u001b[0m\u001b[0m\n\u001b[1;32m    832\u001b[0m       \u001b[0mself\u001b[0m\u001b[0;34m.\u001b[0m\u001b[0m_dims\u001b[0m \u001b[0;34m=\u001b[0m \u001b[0;32mNone\u001b[0m\u001b[0;34m\u001b[0m\u001b[0;34m\u001b[0m\u001b[0m\n\u001b[0;32m--> 833\u001b[0;31m     \u001b[0;32melif\u001b[0m \u001b[0misinstance\u001b[0m\u001b[0;34m(\u001b[0m\u001b[0mdims\u001b[0m\u001b[0;34m,\u001b[0m \u001b[0mtensor_shape_pb2\u001b[0m\u001b[0;34m.\u001b[0m\u001b[0mTensorShapeProto\u001b[0m\u001b[0;34m)\u001b[0m\u001b[0;34m:\u001b[0m\u001b[0;34m\u001b[0m\u001b[0;34m\u001b[0m\u001b[0m\n\u001b[0m\u001b[1;32m    834\u001b[0m       \u001b[0;32mif\u001b[0m \u001b[0mdims\u001b[0m\u001b[0;34m.\u001b[0m\u001b[0munknown_rank\u001b[0m\u001b[0;34m:\u001b[0m\u001b[0;34m\u001b[0m\u001b[0;34m\u001b[0m\u001b[0m\n\u001b[1;32m    835\u001b[0m         \u001b[0mself\u001b[0m\u001b[0;34m.\u001b[0m\u001b[0m_dims\u001b[0m \u001b[0;34m=\u001b[0m \u001b[0;32mNone\u001b[0m\u001b[0;34m\u001b[0m\u001b[0;34m\u001b[0m\u001b[0m\n",
            "\u001b[0;31mKeyboardInterrupt\u001b[0m: "
          ]
        }
      ]
    },
    {
      "cell_type": "markdown",
      "metadata": {
        "id": "EqcJCxqmJaVz"
      },
      "source": [
        "## Plot Learning Curves\n",
        "This is where we visualise the training of the model."
      ]
    },
    {
      "cell_type": "code",
      "metadata": {
        "id": "LPkXhPbNJaV0"
      },
      "source": [
        "# Plots the training and validation accuracy over the number of epochs.\n",
        "plt.plot(history_2.history['accuracy'])\n",
        "plt.plot(history_2.history['val_accuracy'])\n",
        "\n",
        "# Add plot title.\n",
        "plt.title('Model Accuracy')\n",
        "\n",
        "# Add plot axes labels.\n",
        "plt.ylabel('Accuracy')\n",
        "plt.xlabel('Epoch')\n",
        "\n",
        "# Add plot legend to distinguish between training and validation accuracy lines.\n",
        "plt.legend(['Train', 'Validation'], loc='lower right')\n",
        "\n",
        "# Show the plot.\n",
        "plt.show()"
      ],
      "execution_count": null,
      "outputs": []
    },
    {
      "cell_type": "code",
      "metadata": {
        "id": "dTEzu65_JaV0"
      },
      "source": [
        "# Plots the training and validation loss over the number of epochs.\n",
        "plt.plot(history_2.history['loss'])\n",
        "plt.plot(history_2.history['val_loss'])\n",
        "\n",
        "# Add plot title.\n",
        "plt.title('Model Loss')\n",
        "\n",
        "# Add plot axes labels.\n",
        "plt.ylabel('Loss')\n",
        "plt.xlabel('Epoch')\n",
        "\n",
        "# Add plot legend to distinguish between training and validation accuracy lines.\n",
        "plt.legend(['Train', 'Validation'], loc='upper right')\n",
        "\n",
        "# Show the plot.\n",
        "plt.show()"
      ],
      "execution_count": null,
      "outputs": []
    },
    {
      "cell_type": "markdown",
      "source": [
        "## Testing"
      ],
      "metadata": {
        "id": "o722eqcmJkPB"
      }
    },
    {
      "cell_type": "code",
      "source": [
        "test_loss_2, test_acc_2 = model_2.evaluate(train_x, train_y)"
      ],
      "metadata": {
        "id": "gU9-gnCAJkPC"
      },
      "execution_count": null,
      "outputs": []
    },
    {
      "cell_type": "markdown",
      "source": [
        "\n",
        "---\n",
        "#**Part 3 - A deep network of my own design**\n"
      ],
      "metadata": {
        "id": "RYoa9mzrOEHD"
      }
    },
    {
      "cell_type": "markdown",
      "source": [
        "## Data Augmentation"
      ],
      "metadata": {
        "id": "DzwZnPnnw05D"
      }
    },
    {
      "cell_type": "code",
      "metadata": {
        "id": "F4pyD19twye9"
      },
      "source": [
        "# Defines the data generator for augmenting images during loading.\n",
        "data_generator = ImageDataGenerator(featurewise_center=True,  # Centers the pixel values of each image around zero.\n",
        "                                    featurewise_std_normalization=True,     # Standardizes the pixel values of each image.\n",
        "                                    horizontal_flip=True,     # Randomly flips images horizontally.\n",
        "                                    vertical_flip=True,     # Randomly flips images vertically.\n",
        "                                    rotation_range=10,     # Randomly rotates images within the specified range.\n",
        "                                    width_shift_range=0.1,     # Randomly shifts images horizontally within the specified range.\n",
        "                                    height_shift_range=0.1,     # Randomly shifts images vertically within the specified range.\n",
        "                                    )\n"
      ],
      "execution_count": null,
      "outputs": []
    },
    {
      "cell_type": "code",
      "metadata": {
        "id": "khemchtSwyfT"
      },
      "source": [
        "data_generator.fit(np.append(train_x, val_x, 0))"
      ],
      "execution_count": null,
      "outputs": []
    },
    {
      "cell_type": "markdown",
      "metadata": {
        "id": "b1CpaZRwwqxC"
      },
      "source": [
        "## Model Definition\n",
        "In this section I will define the neural network arcitecture.\n",
        "\n",
        "The deep network model architecture consists of two convolutional and one dense layer, followed by an output layer for binary classification."
      ]
    },
    {
      "cell_type": "code",
      "source": [
        "# Define the input layer of the model with the size of an image.\n",
        "input = layers.Input(shape=train_x[0].shape)\n",
        "\n",
        "# Defines the convolutional layer with max pooling.\n",
        "conv_1 = layers.Conv2D(filters=64, kernel_size=3, activation=\"relu\", kernel_regularizer=regularizers.l2(0.01))(input)\n",
        "pool_1 = layers.MaxPool2D(pool_size=(2, 2))(conv_1)\n",
        "\n",
        "conv_2 = layers.Conv2D(filters=32, kernel_size=3, activation=\"relu\", kernel_regularizer=regularizers.l2(0.01))(pool_1)\n",
        "\n",
        "# Flattens the outputs of the convolutional layers into a one-dimensional array.\n",
        "flatten = layers.Flatten()(conv_2)\n",
        "\n",
        "# Dense layer\n",
        "dense = layers.Dense(units=16, activation=\"relu\")(flatten)\n",
        "\n",
        "# Output layer:\n",
        "# Single node with sigmoid activation for binary classification.\n",
        "# L2 regularization with strength 0.01 is applied to kernel weights.\n",
        "output = layers.Dense(units=1, activation=\"sigmoid\", kernel_regularizer=regularizers.l2(0.01))(dense)\n",
        "\n",
        "# Initializes the defined model.\n",
        "model_3 = Model(inputs=input, outputs=output, name=\"Model_3\")\n",
        "# Print the model summary.\n",
        "model_3.summary()"
      ],
      "metadata": {
        "id": "QbDTyZJpPtoo"
      },
      "execution_count": null,
      "outputs": []
    },
    {
      "cell_type": "markdown",
      "metadata": {
        "id": "Y_LxQ_mtwqxO"
      },
      "source": [
        "## Model Training\n",
        "This is where we define the training options and then train the model.\n",
        "\n",
        "Through testing different values for the training parameters, I determined that a smaller batch size and more epochs was optimum.\n"
      ]
    },
    {
      "cell_type": "code",
      "metadata": {
        "id": "KNFhrInawqxO"
      },
      "source": [
        "# Defines the parameters used during training.\n",
        "BATCH_SIZE = 16 #Batch size should always be a power of 2 GPU allocation purposes (quicker as no additional calculations required by the computer)\n",
        "NUM_EPOCHS = 10\n",
        "LEARNING_RATE = 0.01"
      ],
      "execution_count": null,
      "outputs": []
    },
    {
      "cell_type": "code",
      "metadata": {
        "id": "Xl6eQS4pwqxO"
      },
      "source": [
        "# Define the optimizer with the above specified learning rate.\n",
        "optimizer = SGD(learning_rate=LEARNING_RATE)\n",
        "\n",
        "# Compile the model with the above defined optimizer, binary crossentropy loss, and accuracy metric.\n",
        "model_3.compile(optimizer=optimizer, loss=\"binary_crossentropy\", metrics=[\"accuracy\"])"
      ],
      "execution_count": null,
      "outputs": []
    },
    {
      "cell_type": "code",
      "metadata": {
        "id": "PUTetjpAwqxO"
      },
      "source": [
        "# Train the model using training data generated in batches by the data generator.\n",
        "history_3 = model_3.fit(\n",
        "    data_generator.flow(train_x, train_y, batch_size=BATCH_SIZE),\n",
        "    # Calculate steps per epoch based on the number of training samples and batch size.\n",
        "    steps_per_epoch=len(train_x) / BATCH_SIZE,\n",
        "    # Use validation data generated in batches by the data generator.\n",
        "    validation_data=data_generator.flow(val_x, val_y, batch_size=BATCH_SIZE),\n",
        "    # Calculate validation steps based on the number of validation samples and batch size.\n",
        "    validation_steps=len(val_x) / BATCH_SIZE,\n",
        "    # Number of epochs to train the model.\n",
        "    epochs=NUM_EPOCHS\n",
        ")\n"
      ],
      "execution_count": null,
      "outputs": []
    },
    {
      "cell_type": "markdown",
      "metadata": {
        "id": "-BndlNJRwqxO"
      },
      "source": [
        "## Plot Learning Curves\n",
        "This is where we visualise the training of the model."
      ]
    },
    {
      "cell_type": "code",
      "metadata": {
        "id": "p5Hqj5BpwqxP"
      },
      "source": [
        "# Plots the training and validation accuracy over the number of epochs.\n",
        "plt.plot(history_3.history['accuracy'])\n",
        "plt.plot(history_3.history['val_accuracy'])\n",
        "\n",
        "# Add plot title.\n",
        "plt.title('Model Accuracy')\n",
        "\n",
        "# Add plot axes labels.\n",
        "plt.ylabel('Accuracy')\n",
        "plt.xlabel('Epoch')\n",
        "\n",
        "# Add plot legend to distinguish between training and validation accuracy lines.\n",
        "plt.legend(['Train', 'Validation'], loc='lower right')\n",
        "\n",
        "# Show the plot.\n",
        "plt.show()"
      ],
      "execution_count": null,
      "outputs": []
    },
    {
      "cell_type": "code",
      "metadata": {
        "id": "EUjBwbCBwqxP"
      },
      "source": [
        "# Plots the training and validation loss over the number of epochs.\n",
        "plt.plot(history_3.history['loss'])\n",
        "plt.plot(history_3.history['val_loss'])\n",
        "\n",
        "# Add plot title.\n",
        "plt.title('Model Loss')\n",
        "\n",
        "# Add plot axes labels.\n",
        "plt.ylabel('Loss')\n",
        "plt.xlabel('Epoch')\n",
        "\n",
        "# Add plot legend to distinguish between training and validation accuracy lines.\n",
        "plt.legend(['Train', 'Validation'], loc='upper right')\n",
        "\n",
        "# Show the plot.\n",
        "plt.show()"
      ],
      "execution_count": null,
      "outputs": []
    },
    {
      "cell_type": "markdown",
      "source": [
        "## Testing"
      ],
      "metadata": {
        "id": "9DU1gLaRJpyr"
      }
    },
    {
      "cell_type": "code",
      "source": [
        "test_loss_3, test_acc_3 = model_3.evaluate(train_x, train_y)"
      ],
      "metadata": {
        "id": "itXo2daTJpyr"
      },
      "execution_count": null,
      "outputs": []
    },
    {
      "cell_type": "markdown",
      "source": [
        "# Comparing the models"
      ],
      "metadata": {
        "id": "9NAWNEhk8bMy"
      }
    },
    {
      "cell_type": "code",
      "source": [
        "# Create colour palette by getting three colors from the Inferno colormap\n",
        "colours = [cm.inferno(0.2), cm.inferno(0.5), cm.inferno(0.8)]\n",
        "\n",
        "#\n",
        "plt.plot(history_1.history['accuracy'], label='Model 1 Train', linestyle='dashed', color=colours[0])\n",
        "plt.plot(history_1.history['val_accuracy'], label='Model 1 Validation', color=colours[0])\n",
        "\n",
        "#\n",
        "plt.plot(history_2.history['accuracy'], label='Model 2 Train', linestyle='dashed', color=colours[1])\n",
        "plt.plot(history_2.history['val_accuracy'], label='Model 2 Validation', color=colours[1])\n",
        "\n",
        "#\n",
        "plt.plot(history_3.history['accuracy'], label='Model 3 Train', linestyle='dashed', color=colours[2])\n",
        "plt.plot(history_3.history['val_accuracy'], label='Model 3 Validation', color=colours[2])\n",
        "\n",
        "# Add plot title\n",
        "plt.title('Training and Validation Accuracy for Three Models')\n",
        "\n",
        "# Add axis labels\n",
        "plt.xlabel('Epoch')\n",
        "plt.ylabel('Accuracy')\n",
        "\n",
        "# Set x-axis limit to 10 epochs\n",
        "plt.xlim(-0.5, 9.5)\n",
        "\n",
        "# Add plot legend to the right of the plot\n",
        "plt.legend(loc='center left', bbox_to_anchor=(1, 0.5))\n",
        "\n",
        "# Show plot\n",
        "plt.show()"
      ],
      "metadata": {
        "id": "dTpScjxY0qiP"
      },
      "execution_count": null,
      "outputs": []
    },
    {
      "cell_type": "code",
      "source": [
        "# Create colour palette by getting three colors from the Inferno colormap\n",
        "colours = [cm.inferno(0.2), cm.inferno(0.5), cm.inferno(0.8)]\n",
        "\n",
        "# Plot training loss for Model 1 (dashed line)\n",
        "plt.plot(history_1.history['loss'], label='Model 1 Train', linestyle='dashed', color=colours[0])\n",
        "# Plot validation loss for Model 1 (solid line)\n",
        "plt.plot(history_1.history['val_loss'], label='Model 1 Validation', color=colours[0])\n",
        "\n",
        "# Plot training loss for Model 2 (dashed line)\n",
        "plt.plot(history_2.history['loss'], label='Model 2 Train', linestyle='dashed', color=colours[1])\n",
        "# Plot validation loss for Model 2 (solid line)\n",
        "plt.plot(history_2.history['val_loss'], label='Model 2 Validation', color=colours[1])\n",
        "\n",
        "# Plot training loss for Model 3 (dashed line)\n",
        "plt.plot(history_3.history['loss'], label='Model 3 Train', linestyle='dashed', color=colours[2])\n",
        "# Plot validation loss for Model 3 (solid line)\n",
        "plt.plot(history_3.history['val_loss'], label='Model 3 Validation', color=colours[2])\n",
        "\n",
        "# Add plot title\n",
        "plt.title('Training and Validation Loss for Three Models')\n",
        "\n",
        "# Add axis labels\n",
        "plt.xlabel('Epoch')\n",
        "plt.ylabel('Loss')\n",
        "\n",
        "# Set x-axis limit to 10 epochs\n",
        "plt.xlim(-0.5, 9.5)\n",
        "\n",
        "# Add plot legend to the right of the plot\n",
        "plt.legend(loc='center left', bbox_to_anchor=(1, 0.5))\n",
        "\n",
        "# Show plot\n",
        "plt.show()"
      ],
      "metadata": {
        "id": "ho02WvQveG0l"
      },
      "execution_count": null,
      "outputs": []
    },
    {
      "cell_type": "code",
      "source": [
        "import matplotlib.pyplot as plt\n",
        "from matplotlib import cm\n",
        "\n",
        "# Create colour palette by getting three colors from the Inferno colormap\n",
        "colours = [cm.inferno(0.2), cm.inferno(0.5), cm.inferno(0.8)]\n",
        "\n",
        "# Create a figure with two subplots\n",
        "fig, axs = plt.subplots(1, 2, figsize=(12, 6))\n",
        "\n",
        "# Plot training and validation accuracy for the three models\n",
        "for i, history in enumerate([history_1, history_2, history_3]):\n",
        "    axs[0].plot(history.history['accuracy'], label=f'Model {i+1} Train', linestyle='dashed', color=colours[i])\n",
        "    axs[0].plot(history.history['val_accuracy'], label=f'Model {i+1} Validation', color=colours[i])\n",
        "\n",
        "# Add plot title and labels for the accuracy subplot\n",
        "axs[0].set_title('Training and Validation Accuracy for Three Models')\n",
        "axs[0].set_xlabel('Epoch')\n",
        "axs[0].set_ylabel('Accuracy')\n",
        "axs[0].set_xlim(-0.5, 9.5) # Set x-axis limit to 10 epochs\n",
        "\n",
        "# Plot training and validation loss for the three models\n",
        "for i, history in enumerate([history_1, history_2, history_3]):\n",
        "    axs[1].plot(history.history['loss'], label=f'Model {i+1} Train', linestyle='dashed', color=colours[i])\n",
        "    axs[1].plot(history.history['val_loss'], label=f'Model {i+1} Validation', color=colours[i])\n",
        "\n",
        "# Add plot title and labels for the loss subplot\n",
        "axs[1].set_title('Training and Validation Loss for Three Models')\n",
        "axs[1].set_xlabel('Epoch')\n",
        "axs[1].set_ylabel('Loss')\n",
        "axs[1].set_xlim(-0.5, 9.5) # Set x-axis limit to 10 epochs\n",
        "\n",
        "# Create a shared legend, below the subplots\n",
        "handles, labels = axs[0].get_legend_handles_labels()\n",
        "fig.legend(handles, labels, loc='upper center', bbox_to_anchor=(0.5, -0.05), shadow=True, ncol=3)\n",
        "\n",
        "# Adjust layout\n",
        "plt.tight_layout()\n",
        "\n",
        "# Show the plots\n",
        "plt.show()\n"
      ],
      "metadata": {
        "id": "A0Kl2qX4PYio"
      },
      "execution_count": null,
      "outputs": []
    },
    {
      "cell_type": "code",
      "source": [
        "from tabulate import tabulate\n",
        "\n",
        "# Assuming you have test_loss_1, test_acc_1, test_loss_2, test_acc_2, test_loss_3, test_acc_3 variables\n",
        "# containing the test loss and accuracy for each model.\n",
        "\n",
        "# Create a list of lists containing the data\n",
        "data = [\n",
        "    [\"Model 1\", test_loss_1, test_acc_1],\n",
        "    [\"Model 2\", test_loss_2, test_acc_2],\n",
        "    [\"Model 3\", test_loss_3, test_acc_3]\n",
        "]\n",
        "\n",
        "# Display the data using tabulate\n",
        "print(tabulate(data, headers=[\"Model\", \"Test Loss\", \"Test Accuracy\"], tablefmt=\"fancy_grid\"))\n"
      ],
      "metadata": {
        "id": "xkB7X1cTKIkF"
      },
      "execution_count": null,
      "outputs": []
    },
    {
      "cell_type": "code",
      "source": [
        "# Get predicted probabilities for each class\n",
        "predicted_probs_3 = model_3.predict(test_x)\n",
        "\n",
        "# Convert predicted probabilities to class labels (0 or 1)\n",
        "predicted_labels_3 = (predicted_probs_3 > 0.5).astype(int)\n",
        "\n",
        "# Generating the confusion matrix\n",
        "cm = confusion_matrix(test_y, predicted_labels_3)\n",
        "\n",
        "# Plotting the confusion matrix using seaborn\n",
        "plt.figure(figsize=(8, 6))\n",
        "sns.heatmap(cm, annot=True, fmt='d', cmap='mako')\n",
        "plt.xlabel('Predicted Label')\n",
        "plt.ylabel('True Label')\n",
        "plt.title('Confusion Matrix for Model 1')\n",
        "plt.show()"
      ],
      "metadata": {
        "id": "T5H4FrDEMJQi"
      },
      "execution_count": null,
      "outputs": []
    },
    {
      "cell_type": "code",
      "source": [
        "import numpy as np\n",
        "from sklearn.metrics import confusion_matrix\n",
        "import seaborn as sns\n",
        "import matplotlib.pyplot as plt\n",
        "\n",
        "# Assuming test_x and test_y are your test data and true labels\n",
        "# Get predicted probabilities for the test data\n",
        "predicted_probs = model_3.predict(test_x)\n",
        "\n",
        "# Convert predicted probabilities to binary class labels (0 or 1)\n",
        "predicted_labels = (predicted_probs > 0.5).astype(int)\n",
        "\n",
        "# Generate the confusion matrix\n",
        "cm = confusion_matrix(test_y, predicted_labels)\n",
        "\n",
        "# Plot the confusion matrix using seaborn\n",
        "plt.figure(figsize=(8, 6))\n",
        "sns.heatmap(cm, annot=True, fmt='d', cmap='Blues')\n",
        "plt.xlabel('Predicted Label')\n",
        "plt.ylabel('True Label')\n",
        "plt.title('Confusion Matrix')\n",
        "plt.show()"
      ],
      "metadata": {
        "id": "VFUB19wKQAVN"
      },
      "execution_count": null,
      "outputs": []
    },
    {
      "cell_type": "code",
      "source": [
        "\n",
        "# Evaluate the model on the test data to obtain the test accuracy\n",
        "test_loss, test_accuracy = model_3.evaluate(test_x, test_y)\n",
        "\n",
        "print(f'Test Loss: {test_loss}')\n",
        "print(f'Test Accuracy: {test_accuracy}')\n",
        "\n",
        "# Visualize the test accuracy (optional)\n",
        "plt.bar(['Test Accuracy'], [test_accuracy], color='blue')\n",
        "plt.title('Test Accuracy')\n",
        "plt.ylabel('Accuracy')\n",
        "plt.ylim(0, 1)\n",
        "plt.show()"
      ],
      "metadata": {
        "id": "TfWrHnGrrNGl"
      },
      "execution_count": null,
      "outputs": []
    },
    {
      "cell_type": "code",
      "source": [
        "import matplotlib.pyplot as plt\n",
        "from matplotlib import cm\n",
        "\n",
        "# Create colour palette by getting three colors from the Inferno colormap\n",
        "colours = [cm.inferno(0.2), cm.inferno(0.5), cm.inferno(0.8)]\n",
        "\n",
        "# Test accuracies and losses for three different models\n",
        "test_accs = [test_acc_1, test_acc_2, test_acc_3]\n",
        "test_losses = [test_loss_1, test_loss_2, test_loss_3]\n",
        "\n",
        "# Create a figure with two subplots\n",
        "fig, axs = plt.subplots(1, 2, figsize=(10, 6))\n",
        "\n",
        "# Bar plot for test accuracies\n",
        "axs[0].bar(range(len(test_accs)), test_accs, color=colours)\n",
        "axs[0].set_title('Test Accuracies')\n",
        "axs[0].set_ylabel('Accuracy')\n",
        "axs[0].set_xticks(range(len(test_accs)))\n",
        "axs[0].set_xticklabels(['Model 1', 'Model 2', 'Model 3'])\n",
        "\n",
        "# Bar plot for test losses\n",
        "axs[1].bar(range(len(test_losses)), test_losses, color=colours)\n",
        "axs[1].set_title('Test Losses')\n",
        "axs[1].set_ylabel('Loss')\n",
        "axs[1].set_xticks(range(len(test_losses)))\n",
        "axs[1].set_xticklabels(['Model 1', 'Model 2', 'Model 3'])\n",
        "\n",
        "# Adjust layout\n",
        "plt.tight_layout()\n",
        "\n",
        "# Show the plots\n",
        "plt.show()"
      ],
      "metadata": {
        "id": "pimcCcstvnfp"
      },
      "execution_count": null,
      "outputs": []
    }
  ]
}