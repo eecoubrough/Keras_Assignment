{
  "nbformat": 4,
  "nbformat_minor": 0,
  "metadata": {
    "colab": {
      "provenance": [],
      "include_colab_link": true
    },
    "kernelspec": {
      "name": "python3",
      "display_name": "Python 3"
    },
    "accelerator": "GPU"
  },
  "cells": [
    {
      "cell_type": "markdown",
      "metadata": {
        "id": "view-in-github",
        "colab_type": "text"
      },
      "source": [
        "<a href=\"https://colab.research.google.com/github/eecoubrough/Keras_Assignment/blob/main/Part_1_binary.ipynb\" target=\"_parent\"><img src=\"https://colab.research.google.com/assets/colab-badge.svg\" alt=\"Open In Colab\"/></a>"
      ]
    },
    {
      "cell_type": "markdown",
      "metadata": {
        "id": "JKbgFz4AhYvK"
      },
      "source": [
        "# Deep Learning Medical Image Analysis Example\n",
        "A simple convolutional neural network model trained using a simple pathology image dataset.\n",
        "\n",
        "To use GPU acceleration make sure to change your runtime type in Google Colab to GPU."
      ]
    },
    {
      "cell_type": "markdown",
      "metadata": {
        "id": "LICWjsiH5Ysh"
      },
      "source": [
        "## Python Imports\n",
        "This section will load the necessary python packages to the instance."
      ]
    },
    {
      "cell_type": "code",
      "metadata": {
        "id": "4r14DjPX5XAT"
      },
      "source": [
        "# Built-in Imports\n",
        "import random"
      ],
      "execution_count": 91,
      "outputs": []
    },
    {
      "cell_type": "code",
      "metadata": {
        "id": "_9akxJOL576W"
      },
      "source": [
        "# Library Imports\n",
        "import numpy as np\n",
        "import pandas as pd\n",
        "import matplotlib.pyplot as plt\n",
        "import matplotlib.cm as cm\n",
        "import tabulate\n",
        "from sklearn.metrics import classification_report, confusion_matrix, ConfusionMatrixDisplay"
      ],
      "execution_count": 92,
      "outputs": []
    },
    {
      "cell_type": "code",
      "metadata": {
        "id": "PPushucynmye"
      },
      "source": [
        "# Keras Imports\n",
        "from tensorflow.keras import layers\n",
        "from tensorflow.keras.models import Model\n",
        "from tensorflow.keras import regularizers\n",
        "from tensorflow.keras.optimizers import SGD\n",
        "from tensorflow.keras.utils import get_file, to_categorical\n",
        "from tensorflow.keras.preprocessing.image import ImageDataGenerator"
      ],
      "execution_count": 93,
      "outputs": []
    },
    {
      "cell_type": "markdown",
      "metadata": {
        "id": "UfG7LUYZz6I2"
      },
      "source": [
        "## Dataset Downloader\n",
        "This section will download the PneumoniaMNIST dataset as a NumPy array object to the Google Colab instance. Note that the dataset does need to be redownloaded every time an instance is created."
      ]
    },
    {
      "cell_type": "code",
      "metadata": {
        "id": "WFsupyTxnHgN"
      },
      "source": [
        "# The dataset selected is PneumoniaMNIST\n",
        "# If desired, a different MedMNIST dataset could be used simply by specifying the desired dataset name.\n",
        "DATA_NAME = \"PneumoniaMNIST\""
      ],
      "execution_count": 94,
      "outputs": []
    },
    {
      "cell_type": "code",
      "metadata": {
        "colab": {
          "base_uri": "https://localhost:8080/"
        },
        "id": "vrpiQg5VkbsL",
        "outputId": "a5326000-a5c4-4bc8-a350-a161d9635cbd"
      },
      "source": [
        "# Retrieves the dataset from GitHub\n",
        "!wget https://raw.githubusercontent.com/MedMNIST/MedMNIST/main/medmnist/info.py\n",
        "from info import INFO\n",
        "data = INFO[DATA_NAME.lower()]"
      ],
      "execution_count": 95,
      "outputs": [
        {
          "output_type": "stream",
          "name": "stdout",
          "text": [
            "--2024-04-01 14:57:37--  https://raw.githubusercontent.com/MedMNIST/MedMNIST/main/medmnist/info.py\n",
            "Resolving raw.githubusercontent.com (raw.githubusercontent.com)... 185.199.108.133, 185.199.109.133, 185.199.110.133, ...\n",
            "Connecting to raw.githubusercontent.com (raw.githubusercontent.com)|185.199.108.133|:443... connected.\n",
            "HTTP request sent, awaiting response... 200 OK\n",
            "Length: 27766 (27K) [text/plain]\n",
            "Saving to: ‘info.py.2’\n",
            "\n",
            "\rinfo.py.2             0%[                    ]       0  --.-KB/s               \rinfo.py.2           100%[===================>]  27.12K  --.-KB/s    in 0.002s  \n",
            "\n",
            "2024-04-01 14:57:38 (10.8 MB/s) - ‘info.py.2’ saved [27766/27766]\n",
            "\n"
          ]
        }
      ]
    },
    {
      "cell_type": "code",
      "metadata": {
        "id": "nbCWsdDP0ECH"
      },
      "source": [
        "# Downloads the dataset file hosted on Zenodo.\n",
        "file_path = get_file(fname=\"dataset.npz\",\n",
        "                     origin=data[\"url\"],\n",
        "                     md5_hash=data[\"MD5\"])"
      ],
      "execution_count": 96,
      "outputs": []
    },
    {
      "cell_type": "code",
      "source": [
        "# Loads the downloaded NumPy object, saving it to the variable 'dataset'.\n",
        "dataset = np.load(file_path)\n",
        "\n",
        "# Gets the training images and labels from the NumPy object.\n",
        "train_x = dataset[\"train_images\"]\n",
        "# Adds an extra new dimension to the training images array to make it compatible with CNNs.\n",
        "    # This is necessary because the dataset is greyscale images are represented by a 2D array, but CNNs require a 3D input tensor.\n",
        "    # By adding a new dimension with size 1, it explicitly specifies that there is just one channel (for grayscale) in addition to height and width.\n",
        "train_x = np.expand_dims(train_x, axis=-1)\n",
        "train_y = dataset[\"train_labels\"]\n",
        "\n",
        "# Gets the validation images and labels from the NumPy object.\n",
        "val_x = dataset[\"val_images\"]\n",
        "# Adds an extra new dimension to the training images array to make it compatible with CNNs.\n",
        "val_x = np.expand_dims(val_x, axis=-1)\n",
        "val_y = dataset[\"val_labels\"]\n",
        "\n",
        "# Gets the testing images and labels from the NumPy object.\n",
        "test_x = dataset[\"test_images\"]\n",
        "# Adds an extra new dimension to the training images array to make it compatible with CNNs.\n",
        "test_x = np.expand_dims(test_x, axis=-1)\n",
        "test_y = dataset[\"test_labels\"]"
      ],
      "metadata": {
        "id": "rg3BshBkvuNy"
      },
      "execution_count": 97,
      "outputs": []
    },
    {
      "cell_type": "markdown",
      "metadata": {
        "id": "TRN-KCObfI18"
      },
      "source": [
        "## Data Exploration\n",
        "In this section we have a look at our data, their distributions to see if it is ready to be used within our machine learning algorithm."
      ]
    },
    {
      "cell_type": "code",
      "source": [
        "# Print the shape of one of the images in your dataset to ensure the images are in the expected shape format.\n",
        "print(train_x[0].shape)"
      ],
      "metadata": {
        "colab": {
          "base_uri": "https://localhost:8080/"
        },
        "id": "aR5PtCQPxNp-",
        "outputId": "22ec3e18-d525-47f9-fb4e-1c2d477d9269"
      },
      "execution_count": 98,
      "outputs": [
        {
          "output_type": "stream",
          "name": "stdout",
          "text": [
            "(28, 28, 1)\n"
          ]
        }
      ]
    },
    {
      "cell_type": "code",
      "metadata": {
        "colab": {
          "base_uri": "https://localhost:8080/"
        },
        "id": "gMAxCIw3-JOW",
        "outputId": "5900f289-aaca-4e00-e757-1ee074879eed"
      },
      "source": [
        "# Declares a list of labels.\n",
        "labels = list(data[\"label\"].values()) + [\"total\"]\n",
        "\n",
        "# Gets the counts for each label in each of our datasets.\n",
        "_, train_counts = np.unique(train_y, return_counts=True)\n",
        "_, val_counts = np.unique(val_y, return_counts=True)\n",
        "_, test_counts = np.unique(test_y, return_counts=True)\n",
        "\n",
        "# Prints the counts for each label from each dataset (used to check the distributions of data in each of the eight classes to ensure there is no unexpected discepencies).\n",
        "print(pd.DataFrame(list(zip(np.append(train_counts, [sum(train_counts)]),\n",
        "                            np.append(val_counts, [sum(val_counts)]),\n",
        "                            np.append(test_counts, [sum(test_counts)]))),\n",
        "                   index=labels, columns=[\"Train\", \"Val\", \"Test\"]))"
      ],
      "execution_count": 99,
      "outputs": [
        {
          "output_type": "stream",
          "name": "stdout",
          "text": [
            "           Train  Val  Test\n",
            "normal      1214  135   234\n",
            "pneumonia   3494  389   390\n",
            "total       4708  524   624\n"
          ]
        }
      ]
    },
    {
      "cell_type": "code",
      "metadata": {
        "colab": {
          "base_uri": "https://localhost:8080/",
          "height": 466
        },
        "id": "AQ4Qba5sdt_Q",
        "outputId": "7bb5e7cd-5b53-4c25-f10b-e76cead3ce66"
      },
      "source": [
        "# Displays a random image from training dataset.\n",
        "index = random.randint(0, len(train_x))\n",
        "print(f\"{index}: {labels[train_y[index][0]]}\")\n",
        "plt.imshow(train_x[random.randint(0, len(train_x))])"
      ],
      "execution_count": 100,
      "outputs": [
        {
          "output_type": "stream",
          "name": "stdout",
          "text": [
            "812: pneumonia\n"
          ]
        },
        {
          "output_type": "execute_result",
          "data": {
            "text/plain": [
              "<matplotlib.image.AxesImage at 0x7ac97aadfe20>"
            ]
          },
          "metadata": {},
          "execution_count": 100
        },
        {
          "output_type": "display_data",
          "data": {
            "text/plain": [
              "<Figure size 640x480 with 1 Axes>"
            ],
            "image/png": "[encoded data removed]"
          },
          "metadata": {}
        }
      ]
    },
    {
      "cell_type": "markdown",
      "metadata": {
        "id": "61PPEn8Dhp_v"
      },
      "source": [
        "## Data Processing\n",
        "In this section we will create a data loader for algorithm that will dynamically load and augment the data when needed."
      ]
    },
    {
      "cell_type": "code",
      "metadata": {
        "id": "eKrtg2heh4tF"
      },
      "source": [
        "# Defines the data generator that will be used to augment the images as they are loaded.\n",
        "data_generator = ImageDataGenerator(featurewise_center=True,\n",
        "                                    featurewise_std_normalization=True,\n",
        "                                    horizontal_flip=True,\n",
        "                                    vertical_flip=True)"
      ],
      "execution_count": 101,
      "outputs": []
    },
    {
      "cell_type": "code",
      "metadata": {
        "id": "d5TzJV-O3nD7"
      },
      "source": [
        "data_generator.fit(np.append(train_x, val_x, 0))"
      ],
      "execution_count": 102,
      "outputs": []
    },
    {
      "cell_type": "markdown",
      "source": [
        "\n",
        "\n",
        "---\n",
        "# **Part 1 - Covnet with same architechture and training regime**\n"
      ],
      "metadata": {
        "id": "TPh8GA_wE2dx"
      }
    },
    {
      "cell_type": "markdown",
      "metadata": {
        "id": "ptmuEdE1p9MU"
      },
      "source": [
        "## Model Definition\n",
        "\n",
        "This section defines a convnet with the same architecture and training regime as in the example Colab notebook. The model has 2 convolutional layers with max pooling, a flattening layer, then an output layer.\n",
        "\n",
        "<br>\n",
        "\n",
        "The convolutional layers use the ReLU (Rectified Linear Unit) activation function. This sets all negative values to zero and keeps all positive values unchanged. ReLU is the most common function used for hidden layers because it is simple to implement and, unlike the other activation function options, ReLU does not have a vanishing gradient problem.\n",
        "\n",
        "<br>\n",
        "\n",
        "The flatten layer reshapes the output of the preceding layers into a one-dimensional array. This step is necessary to prepare the data for the fully connected layers.\n",
        "\n",
        "<br>\n",
        "\n",
        "Since the task is a binary classification task, the output layer of the model is a dense layer with a single neuron and a sigmoid activation function. Sigmoid activation squashes the output to a range between 0 and 1, representing the probability of the input belonging to the positive class, making it the ideal activation function for binary classification tasks."
      ]
    },
    {
      "cell_type": "code",
      "metadata": {
        "colab": {
          "base_uri": "https://localhost:8080/"
        },
        "id": "Ud-jcR_ZqE0V",
        "outputId": "0e9824f9-b59f-4b39-b3db-6715bc812b93"
      },
      "source": [
        "# Define the input layer of the model with the size of an image.\n",
        "input = layers.Input(shape=train_x[0].shape)\n",
        "\n",
        "# Defines the first convolutional layer with max pooling.\n",
        "conv_1 = layers.Conv2D(filters=32, kernel_size=3, activation=\"relu\")(input)\n",
        "pool_1 = layers.MaxPool2D(pool_size=(2, 2))(conv_1)\n",
        "\n",
        "# Defines the second convolutional layer with max pooling.\n",
        "conv_2 = layers.Conv2D(filters=32, kernel_size=3, activation=\"relu\")(pool_1)\n",
        "pool_2 = layers.MaxPool2D(pool_size=(2, 2))(conv_2)\n",
        "\n",
        "# Flattens the outputs of the convolutional layers into a one dimensional array.\n",
        "flatten = layers.Flatten()(pool_2)\n",
        "\n",
        "# Defines the output layer of the model a number of output nodes equal to the number of classes.\n",
        "output = layers.Dense(units=1, activation=\"sigmoid\")(flatten)\n",
        "\n",
        "# Initilises the defined model and prints summary of the model.\n",
        "model_1 = Model(inputs=input, outputs=output, name=\"Model_1\")\n",
        "model_1.summary()"
      ],
      "execution_count": 103,
      "outputs": [
        {
          "output_type": "stream",
          "name": "stdout",
          "text": [
            "Model: \"Model_1\"\n",
            "_________________________________________________________________\n",
            " Layer (type)                Output Shape              Param #   \n",
            "=================================================================\n",
            " input_5 (InputLayer)        [(None, 28, 28, 1)]       0         \n",
            "                                                                 \n",
            " conv2d_6 (Conv2D)           (None, 26, 26, 32)        320       \n",
            "                                                                 \n",
            " max_pooling2d_5 (MaxPoolin  (None, 13, 13, 32)        0         \n",
            " g2D)                                                            \n",
            "                                                                 \n",
            " conv2d_7 (Conv2D)           (None, 11, 11, 32)        9248      \n",
            "                                                                 \n",
            " max_pooling2d_6 (MaxPoolin  (None, 5, 5, 32)          0         \n",
            " g2D)                                                            \n",
            "                                                                 \n",
            " flatten_4 (Flatten)         (None, 800)               0         \n",
            "                                                                 \n",
            " dense_7 (Dense)             (None, 1)                 801       \n",
            "                                                                 \n",
            "=================================================================\n",
            "Total params: 10369 (40.50 KB)\n",
            "Trainable params: 10369 (40.50 KB)\n",
            "Non-trainable params: 0 (0.00 Byte)\n",
            "_________________________________________________________________\n"
          ]
        }
      ]
    },
    {
      "cell_type": "markdown",
      "metadata": {
        "id": "SdMcAtCztO0b"
      },
      "source": [
        "## Model Training\n",
        "\n"
      ]
    },
    {
      "cell_type": "code",
      "metadata": {
        "id": "bEypwRiMuPCn"
      },
      "source": [
        "# Define the parameters used during training.\n",
        "BATCH_SIZE = 64\n",
        "NUM_EPOCHS = 10\n",
        "LEARNING_RATE = 0.001"
      ],
      "execution_count": 104,
      "outputs": []
    },
    {
      "cell_type": "code",
      "metadata": {
        "id": "Qb9WcL7ZtPZE"
      },
      "source": [
        "# Defines the optimiser used to adjust the model weights and compiles the model.\n",
        "optimiser = SGD(learning_rate=LEARNING_RATE)\n",
        "model_1.compile(optimizer=optimiser, loss=\"binary_crossentropy\", metrics=[\"accuracy\"])"
      ],
      "execution_count": 105,
      "outputs": []
    },
    {
      "cell_type": "code",
      "metadata": {
        "colab": {
          "base_uri": "https://localhost:8080/"
        },
        "id": "SOy4ArHyvIhR",
        "outputId": "affcbdec-25af-42ea-ad18-6107a68fb695"
      },
      "source": [
        "# Use data generator to pass the training and validation data to the model to train it.\n",
        "history_1 = model_1.fit(data_generator.flow(train_x, train_y, batch_size=BATCH_SIZE),\n",
        "                    steps_per_epoch=len(train_x) / BATCH_SIZE,\n",
        "                    validation_data=data_generator.flow(val_x, val_y, batch_size=BATCH_SIZE),\n",
        "                    validation_steps=len(val_x) / BATCH_SIZE,\n",
        "                    epochs=NUM_EPOCHS)"
      ],
      "execution_count": 106,
      "outputs": [
        {
          "output_type": "stream",
          "name": "stdout",
          "text": [
            "Epoch 1/10\n",
            "73/73 [==============================] - 9s 106ms/step - loss: 0.6992 - accuracy: 0.4790 - val_loss: 0.6758 - val_accuracy: 0.6947\n",
            "Epoch 2/10\n",
            "73/73 [==============================] - 5s 60ms/step - loss: 0.6543 - accuracy: 0.7343 - val_loss: 0.6406 - val_accuracy: 0.7424\n",
            "Epoch 3/10\n",
            "73/73 [==============================] - 4s 55ms/step - loss: 0.6287 - accuracy: 0.7421 - val_loss: 0.6223 - val_accuracy: 0.7424\n",
            "Epoch 4/10\n",
            "73/73 [==============================] - 3s 39ms/step - loss: 0.6104 - accuracy: 0.7421 - val_loss: 0.6082 - val_accuracy: 0.7424\n",
            "Epoch 5/10\n",
            "73/73 [==============================] - 3s 40ms/step - loss: 0.5976 - accuracy: 0.7421 - val_loss: 0.5921 - val_accuracy: 0.7424\n",
            "Epoch 6/10\n",
            "73/73 [==============================] - 6s 78ms/step - loss: 0.5856 - accuracy: 0.7421 - val_loss: 0.5856 - val_accuracy: 0.7424\n",
            "Epoch 7/10\n",
            "73/73 [==============================] - 3s 39ms/step - loss: 0.5754 - accuracy: 0.7421 - val_loss: 0.5751 - val_accuracy: 0.7424\n",
            "Epoch 8/10\n",
            "73/73 [==============================] - 5s 64ms/step - loss: 0.5660 - accuracy: 0.7421 - val_loss: 0.5708 - val_accuracy: 0.7424\n",
            "Epoch 9/10\n",
            "73/73 [==============================] - 4s 61ms/step - loss: 0.5572 - accuracy: 0.7424 - val_loss: 0.5609 - val_accuracy: 0.7424\n",
            "Epoch 10/10\n",
            "73/73 [==============================] - 3s 39ms/step - loss: 0.5493 - accuracy: 0.7428 - val_loss: 0.5577 - val_accuracy: 0.7424\n"
          ]
        }
      ]
    },
    {
      "cell_type": "markdown",
      "metadata": {
        "id": "0bw_0oKy4UdI"
      },
      "source": [
        "## Plot Learning Curves\n",
        "This is where we visualise the training of the model."
      ]
    },
    {
      "cell_type": "code",
      "metadata": {
        "id": "8DOxQYV0oDmJ",
        "colab": {
          "base_uri": "https://localhost:8080/",
          "height": 472
        },
        "outputId": "f6970655-0026-4529-bc07-f2049506f47d"
      },
      "source": [
        "# Plots the training and validation accuracy over the number of epochs.\n",
        "plt.plot(history_1.history['accuracy'])\n",
        "plt.plot(history_1.history['val_accuracy'])\n",
        "\n",
        "# Add plot title.\n",
        "plt.title('Model Accuracy')\n",
        "\n",
        "# Add plot axes labels.\n",
        "plt.ylabel('Accuracy')\n",
        "plt.xlabel('Epoch')\n",
        "\n",
        "# Add plot legend to distinguish between training and validation accuracy lines.\n",
        "plt.legend(['Train', 'Validation'], loc='lower right')\n",
        "\n",
        "# Show the plot.\n",
        "plt.show()"
      ],
      "execution_count": 107,
      "outputs": [
        {
          "output_type": "display_data",
          "data": {
            "text/plain": [
              "<Figure size 640x480 with 1 Axes>"
            ],
            "image/png": "[encoded data removed]"
          },
          "metadata": {}
        }
      ]
    },
    {
      "cell_type": "markdown",
      "source": [
        "The training accuracy is moderately low at the beginning, increasing rapidly before flattening out at approximately 3.5 epochs. This indicates that the addition of more training examples does not improve the models performance on the training dataset.\n",
        "\n",
        "---\n",
        "\n"
      ],
      "metadata": {
        "id": "5X4LvRZxyUZy"
      }
    },
    {
      "cell_type": "code",
      "metadata": {
        "id": "ZSQWVOnY4cdA",
        "colab": {
          "base_uri": "https://localhost:8080/",
          "height": 472
        },
        "outputId": "9cc67e38-9c88-42b6-be80-788d7f32d8bf"
      },
      "source": [
        "# Plots the training and validation loss over the number of epochs.\n",
        "plt.plot(history_1.history['loss'])\n",
        "plt.plot(history_1.history['val_loss'])\n",
        "\n",
        "# Add plot title.\n",
        "plt.title('Model Loss')\n",
        "\n",
        "# Add plot axes labels.\n",
        "plt.ylabel('Loss')\n",
        "plt.xlabel('Epoch')\n",
        "\n",
        "# Add plot legend to distinguish between training and validation accuracy lines.\n",
        "plt.legend(['Train', 'Validation'], loc='upper right')\n",
        "\n",
        "# Show the plot.\n",
        "plt.show()"
      ],
      "execution_count": 108,
      "outputs": [
        {
          "output_type": "display_data",
          "data": {
            "text/plain": [
              "<Figure size 640x480 with 1 Axes>"
            ],
            "image/png": "[encoded data removed]"
          },
          "metadata": {}
        }
      ]
    },
    {
      "cell_type": "markdown",
      "source": [
        "\n",
        "\n",
        "---\n",
        "#**Part 2 - A network with only dense layers**\n"
      ],
      "metadata": {
        "id": "c4VQU_S6EdzS"
      }
    },
    {
      "cell_type": "markdown",
      "metadata": {
        "id": "pTGN_THiJaVx"
      },
      "source": [
        "## Model Definition\n"
      ]
    },
    {
      "cell_type": "markdown",
      "source": [
        "**This section defines a network with dense layers but no convolutional layers, designed to have a total number of parameters comparable to the convnet in 1.**\n",
        "\n",
        "<br>\n",
        "\n",
        "The flatten layer reshapes the data from the input layer into a one-dimensional array. This step is necessary to prepare the data for the dense layers, which require a one-dimentional input.\n",
        "\n",
        "<br>\n",
        "\n",
        "The two dense layers are fully connected layers i.e. each neuron is connected to every neuron in the previous layer. These layers serves as feature extractors, enabling the model to learn complex patterns and relationships in the data.\n",
        "\n",
        "<br>\n",
        "\n",
        "Since the task is a binary classification task, the output layer of the model is a dense layer with a single neuron and a sigmoid activation function. Sigmoid activation squashes the output to a range between 0 and 1, representing the probability of the input belonging to the positive class, making it the ideal activation function for binary classification tasks.\n",
        "\n",
        "<br>\n",
        "\n",
        "This model has been designed to have a similar number of parameters to model_1. This was achieved by adjusting the number of units in each of the dense layers.\n",
        "\n",
        "> Model_1 has a total of 10369 parameters, and model_2 has 10371 parameters."
      ],
      "metadata": {
        "id": "8KtKc80uIEXm"
      }
    },
    {
      "cell_type": "code",
      "metadata": {
        "id": "8RH8MwGmJaVy",
        "colab": {
          "base_uri": "https://localhost:8080/"
        },
        "outputId": "813a838d-f76d-4ad1-d2f5-0969f000635a"
      },
      "source": [
        "# Define the input layer of the model with the size of an image.\n",
        "input = layers.Input(shape=train_x[0].shape)\n",
        "\n",
        "# Flattens the outputs of the input layer into a 1D array.\n",
        "flatten = layers.Flatten()(input)\n",
        "\n",
        "# Dense layer 1 with 13 units and ReLU activation.\n",
        "dense_1 = layers.Dense(units=13, activation=\"relu\")(flatten)\n",
        "\n",
        "# Dense layer 2 with 11 units and ReLU activation.\n",
        "dense_2 = layers.Dense(units=11, activation=\"relu\")(dense_1)\n",
        "\n",
        "# Defines the output layer with a single node and sigmoid activation for binary classification.\n",
        "output = layers.Dense(units=1, activation=\"sigmoid\")(dense_2)\n",
        "\n",
        "# Initializes the defined model with the input and output layers.\n",
        "model_2 = Model(inputs=input, outputs=output, name=\"Model_2\")\n",
        "\n",
        "# Print the summary of the model.\n",
        "model_2.summary()\n"
      ],
      "execution_count": 110,
      "outputs": [
        {
          "output_type": "stream",
          "name": "stdout",
          "text": [
            "Model: \"Model_2\"\n",
            "_________________________________________________________________\n",
            " Layer (type)                Output Shape              Param #   \n",
            "=================================================================\n",
            " input_6 (InputLayer)        [(None, 28, 28, 1)]       0         \n",
            "                                                                 \n",
            " flatten_5 (Flatten)         (None, 784)               0         \n",
            "                                                                 \n",
            " dense_8 (Dense)             (None, 13)                10205     \n",
            "                                                                 \n",
            " dense_9 (Dense)             (None, 11)                154       \n",
            "                                                                 \n",
            " dense_10 (Dense)            (None, 1)                 12        \n",
            "                                                                 \n",
            "=================================================================\n",
            "Total params: 10371 (40.51 KB)\n",
            "Trainable params: 10371 (40.51 KB)\n",
            "Non-trainable params: 0 (0.00 Byte)\n",
            "_________________________________________________________________\n"
          ]
        }
      ]
    },
    {
      "cell_type": "markdown",
      "metadata": {
        "id": "b_3TLHsvJaVy"
      },
      "source": [
        "## Model Training\n",
        "This is where we define the training options and then train the model.\n"
      ]
    },
    {
      "cell_type": "code",
      "metadata": {
        "id": "bBh5Q0-mJaVz"
      },
      "source": [
        "# Defines the parameters used during training.\n",
        "# Since the training regime is to be the same as for model_1, these parameters are the same as they were previously.\n",
        "BATCH_SIZE = 64\n",
        "NUM_EPOCHS = 10\n",
        "LEARNING_RATE = 0.001"
      ],
      "execution_count": 111,
      "outputs": []
    },
    {
      "cell_type": "code",
      "metadata": {
        "id": "NhNxMt_lJaVz"
      },
      "source": [
        "# Define the optimizer with the above specified learning rate.\n",
        "optimizer = SGD(learning_rate=LEARNING_RATE)\n",
        "\n",
        "# Compile the model with the above defined optimizer, binary crossentropy loss, and accuracy metric.\n",
        "model_2.compile(optimizer=optimizer, loss=\"binary_crossentropy\", metrics=[\"accuracy\"])"
      ],
      "execution_count": 112,
      "outputs": []
    },
    {
      "cell_type": "code",
      "metadata": {
        "id": "OLj3V4PpJaVz",
        "colab": {
          "base_uri": "https://localhost:8080/"
        },
        "outputId": "75956d7b-9bb7-444e-ce75-7b75dfe6110b"
      },
      "source": [
        "# Train the model using training data generated in batches by the data generator.\n",
        "history_2 = model_2.fit(\n",
        "    data_generator.flow(train_x, train_y, batch_size=BATCH_SIZE),\n",
        "    # Calculate steps per epoch based on the number of training samples and batch size.\n",
        "    steps_per_epoch=len(train_x) / BATCH_SIZE,\n",
        "    # Use validation data generated in batches by the data generator.\n",
        "    validation_data=data_generator.flow(val_x, val_y, batch_size=BATCH_SIZE),\n",
        "    # Calculate validation steps based on the number of validation samples and batch size.\n",
        "    validation_steps=len(val_x) / BATCH_SIZE,\n",
        "    # Number of epochs to train the model.\n",
        "    epochs=NUM_EPOCHS\n",
        ")\n"
      ],
      "execution_count": 113,
      "outputs": [
        {
          "output_type": "stream",
          "name": "stdout",
          "text": [
            "Epoch 1/10\n",
            "73/73 [==============================] - 2s 10ms/step - loss: 0.5560 - accuracy: 0.7315 - val_loss: 0.5276 - val_accuracy: 0.7538\n",
            "Epoch 2/10\n",
            "73/73 [==============================] - 1s 9ms/step - loss: 0.4921 - accuracy: 0.7608 - val_loss: 0.4847 - val_accuracy: 0.7672\n",
            "Epoch 3/10\n",
            "73/73 [==============================] - 1s 7ms/step - loss: 0.4523 - accuracy: 0.7785 - val_loss: 0.4431 - val_accuracy: 0.7824\n",
            "Epoch 4/10\n",
            "73/73 [==============================] - 1s 8ms/step - loss: 0.4209 - accuracy: 0.7980 - val_loss: 0.4182 - val_accuracy: 0.7901\n",
            "Epoch 5/10\n",
            "73/73 [==============================] - 1s 14ms/step - loss: 0.3979 - accuracy: 0.8099 - val_loss: 0.3963 - val_accuracy: 0.8244\n",
            "Epoch 6/10\n",
            "73/73 [==============================] - 1s 12ms/step - loss: 0.3831 - accuracy: 0.8212 - val_loss: 0.3826 - val_accuracy: 0.8244\n",
            "Epoch 7/10\n",
            "73/73 [==============================] - 1s 9ms/step - loss: 0.3660 - accuracy: 0.8411 - val_loss: 0.3563 - val_accuracy: 0.8473\n",
            "Epoch 8/10\n",
            "73/73 [==============================] - 1s 7ms/step - loss: 0.3499 - accuracy: 0.8579 - val_loss: 0.3485 - val_accuracy: 0.8588\n",
            "Epoch 9/10\n",
            "73/73 [==============================] - 1s 7ms/step - loss: 0.3362 - accuracy: 0.8647 - val_loss: 0.3328 - val_accuracy: 0.8664\n",
            "Epoch 10/10\n",
            "73/73 [==============================] - 1s 7ms/step - loss: 0.3206 - accuracy: 0.8796 - val_loss: 0.3213 - val_accuracy: 0.8817\n"
          ]
        }
      ]
    },
    {
      "cell_type": "markdown",
      "metadata": {
        "id": "EqcJCxqmJaVz"
      },
      "source": [
        "## Plot Learning Curves\n",
        "This is where we visualise the training of the model."
      ]
    },
    {
      "cell_type": "code",
      "metadata": {
        "id": "LPkXhPbNJaV0",
        "colab": {
          "base_uri": "https://localhost:8080/",
          "height": 472
        },
        "outputId": "808eda2e-d9c5-4de2-93fc-3c78f38df4d0"
      },
      "source": [
        "# Plots the training and validation accuracy over the number of epochs.\n",
        "plt.plot(history_2.history['accuracy'])\n",
        "plt.plot(history_2.history['val_accuracy'])\n",
        "\n",
        "# Add plot title.\n",
        "plt.title('Model Accuracy')\n",
        "\n",
        "# Add plot axes labels.\n",
        "plt.ylabel('Accuracy')\n",
        "plt.xlabel('Epoch')\n",
        "\n",
        "# Add plot legend to distinguish between training and validation accuracy lines.\n",
        "plt.legend(['Train', 'Validation'], loc='lower right')\n",
        "\n",
        "# Show the plot.\n",
        "plt.show()"
      ],
      "execution_count": 114,
      "outputs": [
        {
          "output_type": "display_data",
          "data": {
            "text/plain": [
              "<Figure size 640x480 with 1 Axes>"
            ],
            "image/png": "[encoded data removed]"
          },
          "metadata": {}
        }
      ]
    },
    {
      "cell_type": "code",
      "metadata": {
        "id": "dTEzu65_JaV0",
        "colab": {
          "base_uri": "https://localhost:8080/",
          "height": 472
        },
        "outputId": "9e3d1ba1-4563-462b-eee9-4c3ddc4d0514"
      },
      "source": [
        "# Plots the training and validation loss over the number of epochs.\n",
        "plt.plot(history_2.history['loss'])\n",
        "plt.plot(history_2.history['val_loss'])\n",
        "\n",
        "# Add plot title.\n",
        "plt.title('Model Loss')\n",
        "\n",
        "# Add plot axes labels.\n",
        "plt.ylabel('Loss')\n",
        "plt.xlabel('Epoch')\n",
        "\n",
        "# Add plot legend to distinguish between training and validation accuracy lines.\n",
        "plt.legend(['Train', 'Validation'], loc='upper right')\n",
        "\n",
        "# Show the plot.\n",
        "plt.show()"
      ],
      "execution_count": 115,
      "outputs": [
        {
          "output_type": "display_data",
          "data": {
            "text/plain": [
              "<Figure size 640x480 with 1 Axes>"
            ],
            "image/png": "[encoded data removed]"
          },
          "metadata": {}
        }
      ]
    },
    {
      "cell_type": "markdown",
      "source": [
        "## Testing"
      ],
      "metadata": {
        "id": "o722eqcmJkPB"
      }
    },
    {
      "cell_type": "code",
      "source": [
        "test_loss_2, test_acc_2 = model_2.evaluate(train_x, train_y)"
      ],
      "metadata": {
        "id": "gU9-gnCAJkPC",
        "colab": {
          "base_uri": "https://localhost:8080/"
        },
        "outputId": "0d1f81cc-a0bb-4886-9104-58adad21a24c"
      },
      "execution_count": 116,
      "outputs": [
        {
          "output_type": "stream",
          "name": "stdout",
          "text": [
            "148/148 [==============================] - 0s 1ms/step - loss: 77.3825 - accuracy: 0.7421\n"
          ]
        }
      ]
    },
    {
      "cell_type": "markdown",
      "source": [
        "\n",
        "---\n",
        "#**Part 3 - A deep network of my own design**\n"
      ],
      "metadata": {
        "id": "RYoa9mzrOEHD"
      }
    },
    {
      "cell_type": "markdown",
      "source": [
        "## Data Augmentation"
      ],
      "metadata": {
        "id": "DzwZnPnnw05D"
      }
    },
    {
      "cell_type": "code",
      "metadata": {
        "id": "F4pyD19twye9"
      },
      "source": [
        "# Defines the data generator for augmenting images during loading.\n",
        "data_generator = ImageDataGenerator(featurewise_center=True,  # Centers the pixel values of each image around zero.\n",
        "                                    featurewise_std_normalization=True,     # Standardizes the pixel values of each image.\n",
        "                                    horizontal_flip=True,     # Randomly flips images horizontally.\n",
        "                                    vertical_flip=True,     # Randomly flips images vertically.\n",
        "                                    rotation_range=10,     # Randomly rotates images within the specified range.\n",
        "                                    width_shift_range=0.1,     # Randomly shifts images horizontally within the specified range.\n",
        "                                    height_shift_range=0.1,     # Randomly shifts images vertically within the specified range.\n",
        "                                    )\n"
      ],
      "execution_count": 117,
      "outputs": []
    },
    {
      "cell_type": "code",
      "metadata": {
        "id": "khemchtSwyfT"
      },
      "source": [
        "data_generator.fit(np.append(train_x, val_x, 0))"
      ],
      "execution_count": 118,
      "outputs": []
    },
    {
      "cell_type": "markdown",
      "metadata": {
        "id": "b1CpaZRwwqxC"
      },
      "source": [
        "## Model Definition\n",
        "In this section I will define the neural network arcitecture.\n",
        "\n",
        "The deep network model architecture consists of two convolutional and one dense layer, followed by an output layer for binary classification."
      ]
    },
    {
      "cell_type": "code",
      "source": [
        "# Define the input layer of the model with the size of an image.\n",
        "input = layers.Input(shape=train_x[0].shape)\n",
        "\n",
        "# Defines the convolutional layer with max pooling.\n",
        "conv_1 = layers.Conv2D(filters=64, kernel_size=3, activation=\"relu\", kernel_regularizer=regularizers.l2(0.01))(input)\n",
        "pool_1 = layers.MaxPool2D(pool_size=(2, 2))(conv_1)\n",
        "\n",
        "conv_2 = layers.Conv2D(filters=32, kernel_size=3, activation=\"relu\", kernel_regularizer=regularizers.l2(0.01))(pool_1)\n",
        "\n",
        "# Flattens the outputs of the convolutional layers into a one-dimensional array.\n",
        "flatten = layers.Flatten()(conv_2)\n",
        "\n",
        "# Dense layer\n",
        "dense = layers.Dense(units=16, activation=\"relu\")(flatten)\n",
        "\n",
        "# Output layer:\n",
        "# Single node with sigmoid activation for binary classification.\n",
        "# L2 regularization with strength 0.01 is applied to kernel weights.\n",
        "output = layers.Dense(units=1, activation=\"sigmoid\", kernel_regularizer=regularizers.l2(0.01))(dense)\n",
        "\n",
        "# Initializes the defined model.\n",
        "model_3 = Model(inputs=input, outputs=output, name=\"Model_3\")\n",
        "# Print the model summary.\n",
        "model_3.summary()"
      ],
      "metadata": {
        "id": "QbDTyZJpPtoo",
        "colab": {
          "base_uri": "https://localhost:8080/"
        },
        "outputId": "7fc29d30-ab79-4f43-d480-902e70b6b5ef"
      },
      "execution_count": 119,
      "outputs": [
        {
          "output_type": "stream",
          "name": "stdout",
          "text": [
            "Model: \"Model_3\"\n",
            "_________________________________________________________________\n",
            " Layer (type)                Output Shape              Param #   \n",
            "=================================================================\n",
            " input_7 (InputLayer)        [(None, 28, 28, 1)]       0         \n",
            "                                                                 \n",
            " conv2d_8 (Conv2D)           (None, 26, 26, 64)        640       \n",
            "                                                                 \n",
            " max_pooling2d_7 (MaxPoolin  (None, 13, 13, 64)        0         \n",
            " g2D)                                                            \n",
            "                                                                 \n",
            " conv2d_9 (Conv2D)           (None, 11, 11, 32)        18464     \n",
            "                                                                 \n",
            " flatten_6 (Flatten)         (None, 3872)              0         \n",
            "                                                                 \n",
            " dense_11 (Dense)            (None, 16)                61968     \n",
            "                                                                 \n",
            " dense_12 (Dense)            (None, 1)                 17        \n",
            "                                                                 \n",
            "=================================================================\n",
            "Total params: 81089 (316.75 KB)\n",
            "Trainable params: 81089 (316.75 KB)\n",
            "Non-trainable params: 0 (0.00 Byte)\n",
            "_________________________________________________________________\n"
          ]
        }
      ]
    },
    {
      "cell_type": "markdown",
      "metadata": {
        "id": "Y_LxQ_mtwqxO"
      },
      "source": [
        "## Model Training\n",
        "This is where we define the training options and then train the model.\n",
        "\n",
        "Through testing different values for the training parameters, I determined that a smaller batch size and more epochs was optimum.\n"
      ]
    },
    {
      "cell_type": "code",
      "metadata": {
        "id": "KNFhrInawqxO"
      },
      "source": [
        "# Defines the parameters used during training.\n",
        "BATCH_SIZE = 16 #Batch size should always be a power of 2 GPU allocation purposes (quicker as no additional calculations required by the computer)\n",
        "NUM_EPOCHS = 10\n",
        "LEARNING_RATE = 0.01"
      ],
      "execution_count": 120,
      "outputs": []
    },
    {
      "cell_type": "code",
      "metadata": {
        "id": "Xl6eQS4pwqxO"
      },
      "source": [
        "# Define the optimizer with the above specified learning rate.\n",
        "optimizer = SGD(learning_rate=LEARNING_RATE)\n",
        "\n",
        "# Compile the model with the above defined optimizer, binary crossentropy loss, and accuracy metric.\n",
        "model_3.compile(optimizer=optimizer, loss=\"binary_crossentropy\", metrics=[\"accuracy\"])"
      ],
      "execution_count": 121,
      "outputs": []
    },
    {
      "cell_type": "code",
      "metadata": {
        "id": "PUTetjpAwqxO",
        "colab": {
          "base_uri": "https://localhost:8080/"
        },
        "outputId": "e915dd14-715f-4c73-e1ed-2dcf21c9db42"
      },
      "source": [
        "# Train the model using training data generated in batches by the data generator.\n",
        "history_3 = model_3.fit(\n",
        "    data_generator.flow(train_x, train_y, batch_size=BATCH_SIZE),\n",
        "    # Calculate steps per epoch based on the number of training samples and batch size.\n",
        "    steps_per_epoch=len(train_x) / BATCH_SIZE,\n",
        "    # Use validation data generated in batches by the data generator.\n",
        "    validation_data=data_generator.flow(val_x, val_y, batch_size=BATCH_SIZE),\n",
        "    # Calculate validation steps based on the number of validation samples and batch size.\n",
        "    validation_steps=len(val_x) / BATCH_SIZE,\n",
        "    # Number of epochs to train the model.\n",
        "    epochs=NUM_EPOCHS\n",
        ")\n"
      ],
      "execution_count": 122,
      "outputs": [
        {
          "output_type": "stream",
          "name": "stdout",
          "text": [
            "Epoch 1/10\n",
            "294/294 [==============================] - 14s 42ms/step - loss: 0.9268 - accuracy: 0.7659 - val_loss: 0.7731 - val_accuracy: 0.8817\n",
            "Epoch 2/10\n",
            "294/294 [==============================] - 10s 35ms/step - loss: 0.7049 - accuracy: 0.8762 - val_loss: 0.6795 - val_accuracy: 0.8855\n",
            "Epoch 3/10\n",
            "294/294 [==============================] - 8s 28ms/step - loss: 0.6292 - accuracy: 0.8872 - val_loss: 0.6255 - val_accuracy: 0.8798\n",
            "Epoch 4/10\n",
            "294/294 [==============================] - 8s 28ms/step - loss: 0.5715 - accuracy: 0.9004 - val_loss: 0.5832 - val_accuracy: 0.8931\n",
            "Epoch 5/10\n",
            "294/294 [==============================] - 13s 44ms/step - loss: 0.5296 - accuracy: 0.9053 - val_loss: 0.5012 - val_accuracy: 0.9198\n",
            "Epoch 6/10\n",
            "294/294 [==============================] - 8s 28ms/step - loss: 0.4926 - accuracy: 0.9097 - val_loss: 0.4938 - val_accuracy: 0.9084\n",
            "Epoch 7/10\n",
            "294/294 [==============================] - 8s 26ms/step - loss: 0.4499 - accuracy: 0.9157 - val_loss: 0.4568 - val_accuracy: 0.9160\n",
            "Epoch 8/10\n",
            "294/294 [==============================] - 7s 24ms/step - loss: 0.4266 - accuracy: 0.9184 - val_loss: 0.4358 - val_accuracy: 0.9046\n",
            "Epoch 9/10\n",
            "294/294 [==============================] - 7s 23ms/step - loss: 0.4024 - accuracy: 0.9197 - val_loss: 0.4078 - val_accuracy: 0.9065\n",
            "Epoch 10/10\n",
            "294/294 [==============================] - 8s 26ms/step - loss: 0.3865 - accuracy: 0.9201 - val_loss: 0.4379 - val_accuracy: 0.8836\n"
          ]
        }
      ]
    },
    {
      "cell_type": "markdown",
      "metadata": {
        "id": "-BndlNJRwqxO"
      },
      "source": [
        "## Plot Learning Curves\n",
        "This is where we visualise the training of the model."
      ]
    },
    {
      "cell_type": "code",
      "metadata": {
        "id": "p5Hqj5BpwqxP",
        "colab": {
          "base_uri": "https://localhost:8080/",
          "height": 472
        },
        "outputId": "ccdc7a3a-e635-4cf3-9bf8-aa421e463d4a"
      },
      "source": [
        "# Plots the training and validation accuracy over the number of epochs.\n",
        "plt.plot(history_3.history['accuracy'])\n",
        "plt.plot(history_3.history['val_accuracy'])\n",
        "\n",
        "# Add plot title.\n",
        "plt.title('Model Accuracy')\n",
        "\n",
        "# Add plot axes labels.\n",
        "plt.ylabel('Accuracy')\n",
        "plt.xlabel('Epoch')\n",
        "\n",
        "# Add plot legend to distinguish between training and validation accuracy lines.\n",
        "plt.legend(['Train', 'Validation'], loc='lower right')\n",
        "\n",
        "# Show the plot.\n",
        "plt.show()"
      ],
      "execution_count": 123,
      "outputs": [
        {
          "output_type": "display_data",
          "data": {
            "text/plain": [
              "<Figure size 640x480 with 1 Axes>"
            ],
            "image/png": "[encoded data removed]"
          },
          "metadata": {}
        }
      ]
    },
    {
      "cell_type": "code",
      "metadata": {
        "id": "EUjBwbCBwqxP",
        "colab": {
          "base_uri": "https://localhost:8080/",
          "height": 472
        },
        "outputId": "cd75d606-d772-4aee-f7ad-d82438069a60"
      },
      "source": [
        "# Plots the training and validation loss over the number of epochs.\n",
        "plt.plot(history_3.history['loss'])\n",
        "plt.plot(history_3.history['val_loss'])\n",
        "\n",
        "# Add plot title.\n",
        "plt.title('Model Loss')\n",
        "\n",
        "# Add plot axes labels.\n",
        "plt.ylabel('Loss')\n",
        "plt.xlabel('Epoch')\n",
        "\n",
        "# Add plot legend to distinguish between training and validation accuracy lines.\n",
        "plt.legend(['Train', 'Validation'], loc='upper right')\n",
        "\n",
        "# Show the plot.\n",
        "plt.show()"
      ],
      "execution_count": 124,
      "outputs": [
        {
          "output_type": "display_data",
          "data": {
            "text/plain": [
              "<Figure size 640x480 with 1 Axes>"
            ],
            "image/png": "[encoded data removed]"
          },
          "metadata": {}
        }
      ]
    },
    {
      "cell_type": "markdown",
      "source": [
        "## Testing"
      ],
      "metadata": {
        "id": "9DU1gLaRJpyr"
      }
    },
    {
      "cell_type": "code",
      "source": [
        "test_loss_3, test_acc_3 = model_3.evaluate(train_x, train_y)"
      ],
      "metadata": {
        "id": "itXo2daTJpyr",
        "colab": {
          "base_uri": "https://localhost:8080/"
        },
        "outputId": "0baa9f03-fd74-4217-c9c7-68c7e9a2a39c"
      },
      "execution_count": 125,
      "outputs": [
        {
          "output_type": "stream",
          "name": "stdout",
          "text": [
            "148/148 [==============================] - 1s 9ms/step - loss: 191.5625 - accuracy: 0.7421\n"
          ]
        }
      ]
    },
    {
      "cell_type": "markdown",
      "source": [
        "# Comparing the models"
      ],
      "metadata": {
        "id": "9NAWNEhk8bMy"
      }
    },
    {
      "cell_type": "code",
      "source": [
        "# Retrieve the maximum validation accuracy for each model\n",
        "max_accs = [max(history_1.history['val_accuracy']), max(history_2.history['val_accuracy']), max(history_3.history['val_accuracy'])]\n",
        "\n",
        "# Retrieve the minimum validation loss for each model\n",
        "min_losses = [min(history_1.history['val_loss']), min(history_2.history['val_loss']), min(history_3.history['val_loss'])]\n",
        "\n",
        "# Table data\n",
        "data = [[\"Model 1\", max_accs[0], min_losses[0]],\n",
        "        [\"Model 2\", max_accs[1], min_losses[1]],\n",
        "        [\"Model 3\", max_accs[2], min_losses[2]]]\n",
        "\n",
        "# Display table\n",
        "print(tabulate(data, headers=[\"Model\", \"Max Vaidation Accuracy\", \"Min Validation Loss\"], tablefmt=\"fancy_grid\"))"
      ],
      "metadata": {
        "id": "6QYYPtiTF3hp",
        "colab": {
          "base_uri": "https://localhost:8080/",
          "height": 180
        },
        "outputId": "cdc98d6f-7bd4-44e6-a9ed-e6ae6c28d063"
      },
      "execution_count": 126,
      "outputs": [
        {
          "output_type": "error",
          "ename": "TypeError",
          "evalue": "'module' object is not callable",
          "traceback": [
            "\u001b[0;31m---------------------------------------------------------------------------\u001b[0m",
            "\u001b[0;31mTypeError\u001b[0m                                 Traceback (most recent call last)",
            "\u001b[0;32m<ipython-input-126-267423ea7e59>\u001b[0m in \u001b[0;36m<cell line: 13>\u001b[0;34m()\u001b[0m\n\u001b[1;32m     11\u001b[0m \u001b[0;34m\u001b[0m\u001b[0m\n\u001b[1;32m     12\u001b[0m \u001b[0;31m# Display table\u001b[0m\u001b[0;34m\u001b[0m\u001b[0;34m\u001b[0m\u001b[0m\n\u001b[0;32m---> 13\u001b[0;31m \u001b[0mprint\u001b[0m\u001b[0;34m(\u001b[0m\u001b[0mtabulate\u001b[0m\u001b[0;34m(\u001b[0m\u001b[0mdata\u001b[0m\u001b[0;34m,\u001b[0m \u001b[0mheaders\u001b[0m\u001b[0;34m=\u001b[0m\u001b[0;34m[\u001b[0m\u001b[0;34m\"Model\"\u001b[0m\u001b[0;34m,\u001b[0m \u001b[0;34m\"Max Vaidation Accuracy\"\u001b[0m\u001b[0;34m,\u001b[0m \u001b[0;34m\"Min Validation Loss\"\u001b[0m\u001b[0;34m]\u001b[0m\u001b[0;34m,\u001b[0m \u001b[0mtablefmt\u001b[0m\u001b[0;34m=\u001b[0m\u001b[0;34m\"fancy_grid\"\u001b[0m\u001b[0;34m)\u001b[0m\u001b[0;34m)\u001b[0m\u001b[0;34m\u001b[0m\u001b[0;34m\u001b[0m\u001b[0m\n\u001b[0m",
            "\u001b[0;31mTypeError\u001b[0m: 'module' object is not callable"
          ]
        }
      ]
    },
    {
      "cell_type": "markdown",
      "source": [
        "### Visualising the accuracy and loss for all 3 models within the same plot:"
      ],
      "metadata": {
        "id": "Bijr8FxSJvP4"
      }
    },
    {
      "cell_type": "code",
      "source": [
        "# Create colour palette by getting three colors from the Inferno colormap\n",
        "colours = [cm.inferno(0.2), cm.inferno(0.5), cm.inferno(0.8)]"
      ],
      "metadata": {
        "id": "HLkWCvXYES-V"
      },
      "execution_count": null,
      "outputs": []
    },
    {
      "cell_type": "code",
      "source": [
        "# Create a figure with two subplots\n",
        "fig, axs = plt.subplots(1, 2, figsize=(12, 6))\n",
        "\n",
        "# Plot training and validation accuracy for the three models\n",
        "for i, history in enumerate([history_1, history_2, history_3]):\n",
        "    axs[0].plot(history.history['accuracy'], label=f'Model {i+1} Train', linestyle='dashed', color=colours[i])\n",
        "    axs[0].plot(history.history['val_accuracy'], label=f'Model {i+1} Validation', color=colours[i])\n",
        "\n",
        "# Add plot title and axis labels for the accuracy subplot\n",
        "axs[0].set_title('Training and Validation Accuracy for Three Models')\n",
        "axs[0].set_xlabel('Epoch')\n",
        "axs[0].set_ylabel('Accuracy')\n",
        "axs[0].set_xlim(-0.5, 9.5) # Set x-axis limit to show the first 10 epochs\n",
        "\n",
        "# Plot training and validation loss for the three models\n",
        "for i, history in enumerate([history_1, history_2, history_3]):\n",
        "    axs[1].plot(history.history['loss'], label=f'Model {i+1} Train', linestyle='dashed', color=colours[i])\n",
        "    axs[1].plot(history.history['val_loss'], label=f'Model {i+1} Validation', color=colours[i])\n",
        "\n",
        "# Add plot title and axis labels for the loss subplot\n",
        "axs[1].set_title('Training and Validation Loss for Three Models')\n",
        "axs[1].set_xlabel('Epoch')\n",
        "axs[1].set_ylabel('Loss')\n",
        "axs[1].set_xlim(-0.5, 9.5) # Set x-axis limit to show the first 10 epochs\n",
        "\n",
        "# Create a shared legend, below the subplots\n",
        "handles, labels = axs[0].get_legend_handles_labels()\n",
        "fig.legend(handles, labels, loc='upper center', bbox_to_anchor=(0.5, -0.05), shadow=True, ncol=3)\n",
        "\n",
        "# Adjust layout\n",
        "plt.tight_layout()\n",
        "\n",
        "# Show the plots\n",
        "plt.show()"
      ],
      "metadata": {
        "id": "A0Kl2qX4PYio"
      },
      "execution_count": null,
      "outputs": []
    }
  ]
}